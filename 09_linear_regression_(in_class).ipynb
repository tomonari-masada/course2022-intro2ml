{
  "nbformat": 4,
  "nbformat_minor": 0,
  "metadata": {
    "colab": {
      "name": "09_linear_regression_(in_class).ipynb",
      "provenance": [],
      "collapsed_sections": [],
      "authorship_tag": "ABX9TyPu7akdL7Zj1Rd26NghYRh/",
      "include_colab_link": true
    },
    "kernelspec": {
      "name": "python3",
      "display_name": "Python 3"
    },
    "language_info": {
      "name": "python"
    }
  },
  "cells": [
    {
      "cell_type": "markdown",
      "metadata": {
        "id": "view-in-github",
        "colab_type": "text"
      },
      "source": [
        "<a href=\"https://colab.research.google.com/github/tomonari-masada/course2022-intro2ml/blob/main/09_linear_regression_(in_class).ipynb\" target=\"_parent\"><img src=\"https://colab.research.google.com/assets/colab-badge.svg\" alt=\"Open In Colab\"/></a>"
      ]
    },
    {
      "cell_type": "markdown",
      "metadata": {
        "id": "YWFiqFIHYfMo"
      },
      "source": [
        "# 線形回帰\n",
        "* 線形モデルを使って、数値を予測する問題を解く。"
      ]
    },
    {
      "cell_type": "markdown",
      "metadata": {
        "id": "6m9DyPkI2F6c"
      },
      "source": [
        "* scikit-learnの線形回帰を利用\n",
        " * https://scikit-learn.org/stable/modules/generated/sklearn.linear_model.LinearRegression.html"
      ]
    },
    {
      "cell_type": "code",
      "metadata": {
        "id": "fi9Ak2NAY3qk"
      },
      "source": [
        "import numpy as np\n",
        "import matplotlib.pyplot as plt\n",
        "\n",
        "%config InlineBackend.figure_format = 'retina'"
      ],
      "execution_count": null,
      "outputs": []
    },
    {
      "cell_type": "markdown",
      "metadata": {
        "id": "gqgz8t1qZ2i0"
      },
      "source": [
        "## toy dataで線形回帰の使い方を把握"
      ]
    },
    {
      "cell_type": "markdown",
      "source": [
        "* 一変数の場合の線形回帰\n",
        "$$f(x) = ax + b$$"
      ],
      "metadata": {
        "id": "0CkGSqqGrME3"
      }
    },
    {
      "cell_type": "code",
      "metadata": {
        "id": "3JFxIL2CYeSK",
        "colab": {
          "base_uri": "https://localhost:8080/",
          "height": 319
        },
        "outputId": "6a6038ee-1ee6-4afd-a7f1-d36c5aa1ce1b"
      },
      "source": [
        "fig = plt.figure(figsize=(6,5))\n",
        "x = [2, 1, -3, -1]\n",
        "y = [-4, -2, 5, 2]\n",
        "plt.plot(x, y, '.');"
      ],
      "execution_count": null,
      "outputs": [
        {
          "output_type": "display_data",
          "data": {
            "text/plain": [
              "<Figure size 432x360 with 1 Axes>"
            ],
            "image/png": "[encoded data removed]"
          },
          "metadata": {
            "image/png": {
              "width": 370,
              "height": 302
            },
            "needs_background": "light"
          }
        }
      ]
    },
    {
      "cell_type": "code",
      "metadata": {
        "id": "Vz0HEs2KYZXv"
      },
      "source": [
        "from sklearn.linear_model import LinearRegression"
      ],
      "execution_count": null,
      "outputs": []
    },
    {
      "cell_type": "code",
      "metadata": {
        "id": "bXb12HOgZTDX"
      },
      "source": [
        "reg = LinearRegression()"
      ],
      "execution_count": null,
      "outputs": []
    },
    {
      "cell_type": "code",
      "metadata": {
        "id": "DHO7ODHTYtkR",
        "colab": {
          "base_uri": "https://localhost:8080/",
          "height": 408
        },
        "outputId": "00a6b734-9578-4dd3-eb85-ad8a08854807"
      },
      "source": [
        "reg.fit(x, y) "
      ],
      "execution_count": null,
      "outputs": [
        {
          "output_type": "error",
          "ename": "ValueError",
          "evalue": "ignored",
          "traceback": [
            "\u001b[0;31m---------------------------------------------------------------------------\u001b[0m",
            "\u001b[0;31mValueError\u001b[0m                                Traceback (most recent call last)",
            "\u001b[0;32m<ipython-input-14-74396300f1e2>\u001b[0m in \u001b[0;36m<module>\u001b[0;34m()\u001b[0m\n\u001b[0;32m----> 1\u001b[0;31m \u001b[0mreg\u001b[0m\u001b[0;34m.\u001b[0m\u001b[0mfit\u001b[0m\u001b[0;34m(\u001b[0m\u001b[0mx\u001b[0m\u001b[0;34m,\u001b[0m \u001b[0my\u001b[0m\u001b[0;34m)\u001b[0m\u001b[0;34m\u001b[0m\u001b[0;34m\u001b[0m\u001b[0m\n\u001b[0m",
            "\u001b[0;32m/usr/local/lib/python3.7/dist-packages/sklearn/linear_model/_base.py\u001b[0m in \u001b[0;36mfit\u001b[0;34m(self, X, y, sample_weight)\u001b[0m\n\u001b[1;32m    661\u001b[0m \u001b[0;34m\u001b[0m\u001b[0m\n\u001b[1;32m    662\u001b[0m         X, y = self._validate_data(\n\u001b[0;32m--> 663\u001b[0;31m             \u001b[0mX\u001b[0m\u001b[0;34m,\u001b[0m \u001b[0my\u001b[0m\u001b[0;34m,\u001b[0m \u001b[0maccept_sparse\u001b[0m\u001b[0;34m=\u001b[0m\u001b[0maccept_sparse\u001b[0m\u001b[0;34m,\u001b[0m \u001b[0my_numeric\u001b[0m\u001b[0;34m=\u001b[0m\u001b[0;32mTrue\u001b[0m\u001b[0;34m,\u001b[0m \u001b[0mmulti_output\u001b[0m\u001b[0;34m=\u001b[0m\u001b[0;32mTrue\u001b[0m\u001b[0;34m\u001b[0m\u001b[0;34m\u001b[0m\u001b[0m\n\u001b[0m\u001b[1;32m    664\u001b[0m         )\n\u001b[1;32m    665\u001b[0m \u001b[0;34m\u001b[0m\u001b[0m\n",
            "\u001b[0;32m/usr/local/lib/python3.7/dist-packages/sklearn/base.py\u001b[0m in \u001b[0;36m_validate_data\u001b[0;34m(self, X, y, reset, validate_separately, **check_params)\u001b[0m\n\u001b[1;32m    579\u001b[0m                 \u001b[0my\u001b[0m \u001b[0;34m=\u001b[0m \u001b[0mcheck_array\u001b[0m\u001b[0;34m(\u001b[0m\u001b[0my\u001b[0m\u001b[0;34m,\u001b[0m \u001b[0;34m**\u001b[0m\u001b[0mcheck_y_params\u001b[0m\u001b[0;34m)\u001b[0m\u001b[0;34m\u001b[0m\u001b[0;34m\u001b[0m\u001b[0m\n\u001b[1;32m    580\u001b[0m             \u001b[0;32melse\u001b[0m\u001b[0;34m:\u001b[0m\u001b[0;34m\u001b[0m\u001b[0;34m\u001b[0m\u001b[0m\n\u001b[0;32m--> 581\u001b[0;31m                 \u001b[0mX\u001b[0m\u001b[0;34m,\u001b[0m \u001b[0my\u001b[0m \u001b[0;34m=\u001b[0m \u001b[0mcheck_X_y\u001b[0m\u001b[0;34m(\u001b[0m\u001b[0mX\u001b[0m\u001b[0;34m,\u001b[0m \u001b[0my\u001b[0m\u001b[0;34m,\u001b[0m \u001b[0;34m**\u001b[0m\u001b[0mcheck_params\u001b[0m\u001b[0;34m)\u001b[0m\u001b[0;34m\u001b[0m\u001b[0;34m\u001b[0m\u001b[0m\n\u001b[0m\u001b[1;32m    582\u001b[0m             \u001b[0mout\u001b[0m \u001b[0;34m=\u001b[0m \u001b[0mX\u001b[0m\u001b[0;34m,\u001b[0m \u001b[0my\u001b[0m\u001b[0;34m\u001b[0m\u001b[0;34m\u001b[0m\u001b[0m\n\u001b[1;32m    583\u001b[0m \u001b[0;34m\u001b[0m\u001b[0m\n",
            "\u001b[0;32m/usr/local/lib/python3.7/dist-packages/sklearn/utils/validation.py\u001b[0m in \u001b[0;36mcheck_X_y\u001b[0;34m(X, y, accept_sparse, accept_large_sparse, dtype, order, copy, force_all_finite, ensure_2d, allow_nd, multi_output, ensure_min_samples, ensure_min_features, y_numeric, estimator)\u001b[0m\n\u001b[1;32m    974\u001b[0m         \u001b[0mensure_min_samples\u001b[0m\u001b[0;34m=\u001b[0m\u001b[0mensure_min_samples\u001b[0m\u001b[0;34m,\u001b[0m\u001b[0;34m\u001b[0m\u001b[0;34m\u001b[0m\u001b[0m\n\u001b[1;32m    975\u001b[0m         \u001b[0mensure_min_features\u001b[0m\u001b[0;34m=\u001b[0m\u001b[0mensure_min_features\u001b[0m\u001b[0;34m,\u001b[0m\u001b[0;34m\u001b[0m\u001b[0;34m\u001b[0m\u001b[0m\n\u001b[0;32m--> 976\u001b[0;31m         \u001b[0mestimator\u001b[0m\u001b[0;34m=\u001b[0m\u001b[0mestimator\u001b[0m\u001b[0;34m,\u001b[0m\u001b[0;34m\u001b[0m\u001b[0;34m\u001b[0m\u001b[0m\n\u001b[0m\u001b[1;32m    977\u001b[0m     )\n\u001b[1;32m    978\u001b[0m \u001b[0;34m\u001b[0m\u001b[0m\n",
            "\u001b[0;32m/usr/local/lib/python3.7/dist-packages/sklearn/utils/validation.py\u001b[0m in \u001b[0;36mcheck_array\u001b[0;34m(array, accept_sparse, accept_large_sparse, dtype, order, copy, force_all_finite, ensure_2d, allow_nd, ensure_min_samples, ensure_min_features, estimator)\u001b[0m\n\u001b[1;32m    771\u001b[0m                     \u001b[0;34m\"Reshape your data either using array.reshape(-1, 1) if \"\u001b[0m\u001b[0;34m\u001b[0m\u001b[0;34m\u001b[0m\u001b[0m\n\u001b[1;32m    772\u001b[0m                     \u001b[0;34m\"your data has a single feature or array.reshape(1, -1) \"\u001b[0m\u001b[0;34m\u001b[0m\u001b[0;34m\u001b[0m\u001b[0m\n\u001b[0;32m--> 773\u001b[0;31m                     \u001b[0;34m\"if it contains a single sample.\"\u001b[0m\u001b[0;34m.\u001b[0m\u001b[0mformat\u001b[0m\u001b[0;34m(\u001b[0m\u001b[0marray\u001b[0m\u001b[0;34m)\u001b[0m\u001b[0;34m\u001b[0m\u001b[0;34m\u001b[0m\u001b[0m\n\u001b[0m\u001b[1;32m    774\u001b[0m                 )\n\u001b[1;32m    775\u001b[0m \u001b[0;34m\u001b[0m\u001b[0m\n",
            "\u001b[0;31mValueError\u001b[0m: Expected 2D array, got 1D array instead:\narray=[ 2  1 -3 -1].\nReshape your data either using array.reshape(-1, 1) if your data has a single feature or array.reshape(1, -1) if it contains a single sample."
          ]
        }
      ]
    },
    {
      "cell_type": "code",
      "source": [
        "x"
      ],
      "metadata": {
        "colab": {
          "base_uri": "https://localhost:8080/"
        },
        "id": "rW_O_q3zl2Zu",
        "outputId": "98f24598-ce41-41cc-8cb2-69cfa8bcc91d"
      },
      "execution_count": null,
      "outputs": [
        {
          "output_type": "execute_result",
          "data": {
            "text/plain": [
              "[2, 1, -3, -1]"
            ]
          },
          "metadata": {},
          "execution_count": 15
        }
      ]
    },
    {
      "cell_type": "code",
      "source": [
        "x = np.array(x)\n",
        "print(x)"
      ],
      "metadata": {
        "colab": {
          "base_uri": "https://localhost:8080/"
        },
        "id": "xxktw6wXl4rj",
        "outputId": "943f4ba2-f8ea-49fe-b52d-46531cc74464"
      },
      "execution_count": null,
      "outputs": [
        {
          "output_type": "stream",
          "name": "stdout",
          "text": [
            "[ 2  1 -3 -1]\n"
          ]
        }
      ]
    },
    {
      "cell_type": "code",
      "metadata": {
        "id": "zf5C4CEyZHxF",
        "colab": {
          "base_uri": "https://localhost:8080/"
        },
        "outputId": "f222f829-e9d1-4f5d-d6f4-9d62d262ad37"
      },
      "source": [
        "X = x.reshape(-1,1)\n",
        "print(X)"
      ],
      "execution_count": null,
      "outputs": [
        {
          "output_type": "stream",
          "name": "stdout",
          "text": [
            "[[ 2]\n",
            " [ 1]\n",
            " [-3]\n",
            " [-1]]\n"
          ]
        }
      ]
    },
    {
      "cell_type": "code",
      "metadata": {
        "id": "K2Ti20xbZKM1",
        "colab": {
          "base_uri": "https://localhost:8080/"
        },
        "outputId": "201d8c23-9451-4bc0-8a8c-f88e7d0af2cc"
      },
      "source": [
        "reg.fit(X, y) # 機械に学習させている行"
      ],
      "execution_count": null,
      "outputs": [
        {
          "output_type": "execute_result",
          "data": {
            "text/plain": [
              "LinearRegression()"
            ]
          },
          "metadata": {},
          "execution_count": 20
        }
      ]
    },
    {
      "cell_type": "code",
      "source": [
        "X = [[2], [1], [-3], [-1]]"
      ],
      "metadata": {
        "id": "9ji3Al9cmgVF"
      },
      "execution_count": null,
      "outputs": []
    },
    {
      "cell_type": "code",
      "source": [
        "reg.fit(X, y)"
      ],
      "metadata": {
        "colab": {
          "base_uri": "https://localhost:8080/"
        },
        "id": "bPnQwzwrmo4v",
        "outputId": "f52468d8-05a4-4f72-bbbc-b8cf60728fb7"
      },
      "execution_count": null,
      "outputs": [
        {
          "output_type": "execute_result",
          "data": {
            "text/plain": [
              "LinearRegression()"
            ]
          },
          "metadata": {},
          "execution_count": 22
        }
      ]
    },
    {
      "cell_type": "code",
      "source": [
        "reg.intercept_ # f(x) = ax + bのb"
      ],
      "metadata": {
        "colab": {
          "base_uri": "https://localhost:8080/"
        },
        "id": "OQWXZKXYmxFO",
        "outputId": "c9422f97-c831-4132-b836-29eeec18ced4"
      },
      "execution_count": null,
      "outputs": [
        {
          "output_type": "execute_result",
          "data": {
            "text/plain": [
              "-0.20338983050847464"
            ]
          },
          "metadata": {},
          "execution_count": 42
        }
      ]
    },
    {
      "cell_type": "code",
      "source": [
        "print(reg.coef_) # f(x) = ax + bのa"
      ],
      "metadata": {
        "colab": {
          "base_uri": "https://localhost:8080/"
        },
        "id": "G5ZI52oCnC0p",
        "outputId": "cc795aa1-9369-47e6-a839-160e62264a56"
      },
      "execution_count": null,
      "outputs": [
        {
          "output_type": "stream",
          "name": "stdout",
          "text": [
            "[-1.81355932]\n"
          ]
        }
      ]
    },
    {
      "cell_type": "markdown",
      "source": [
        "答えは $f(x) = -1.8136x-0.2034$"
      ],
      "metadata": {
        "id": "N1xoEEqInTKG"
      }
    },
    {
      "cell_type": "code",
      "source": [
        "reg.predict([[0.5], [1.2], [12.3], [-321.23]])"
      ],
      "metadata": {
        "colab": {
          "base_uri": "https://localhost:8080/"
        },
        "id": "UDTnogNGp0A4",
        "outputId": "2c340e08-8d66-4005-e722-275513cc1908"
      },
      "execution_count": null,
      "outputs": [
        {
          "output_type": "execute_result",
          "data": {
            "text/plain": [
              "array([ -1.11016949,  -2.37966102, -22.51016949, 582.36627119])"
            ]
          },
          "metadata": {},
          "execution_count": 47
        }
      ]
    },
    {
      "cell_type": "code",
      "source": [
        "0.5 * reg.coef_[0] + reg.intercept_"
      ],
      "metadata": {
        "colab": {
          "base_uri": "https://localhost:8080/"
        },
        "id": "lRIhCoGGp9Nr",
        "outputId": "f3ca4daa-91b1-4f10-8e1c-fda640fe9d5e"
      },
      "execution_count": null,
      "outputs": [
        {
          "output_type": "execute_result",
          "data": {
            "text/plain": [
              "-1.1101694915254239"
            ]
          },
          "metadata": {},
          "execution_count": 45
        }
      ]
    },
    {
      "cell_type": "markdown",
      "source": [
        "* グラフの描き方"
      ],
      "metadata": {
        "id": "BTnhEUkupOqN"
      }
    },
    {
      "cell_type": "code",
      "source": [
        "xx = np.linspace(-3, 2, 101) # 細かく点をとる\n",
        "yy = - xx ** 2 # 対応する縦軸方向の値\n",
        "plt.plot(xx, yy);"
      ],
      "metadata": {
        "colab": {
          "base_uri": "https://localhost:8080/",
          "height": 265
        },
        "id": "Yx-p5YwNoKyb",
        "outputId": "4179b911-af1c-4a79-fb18-d4eccb21af04"
      },
      "execution_count": null,
      "outputs": [
        {
          "output_type": "display_data",
          "data": {
            "text/plain": [
              "<Figure size 432x288 with 1 Axes>"
            ],
            "image/png": "[encoded data removed]"
          },
          "metadata": {
            "image/png": {
              "width": 370,
              "height": 248
            },
            "needs_background": "light"
          }
        }
      ]
    },
    {
      "cell_type": "code",
      "source": [
        "xx = np.linspace(-3, 2, 101).reshape(-1, 1)\n",
        "print(xx)"
      ],
      "metadata": {
        "id": "Rm_LkCmjpeRd"
      },
      "execution_count": null,
      "outputs": []
    },
    {
      "cell_type": "markdown",
      "metadata": {
        "id": "oWFMfros1ytc"
      },
      "source": [
        "* x軸上に細かく点を打って各点での予測値をプロット\n",
        " * 観測データに近い位置に直線が引かれることを確認する。"
      ]
    },
    {
      "cell_type": "code",
      "metadata": {
        "id": "ZF-dEu7I1YL_",
        "colab": {
          "base_uri": "https://localhost:8080/",
          "height": 319
        },
        "outputId": "b5498fec-e265-472e-9c6b-dcefda533b55"
      },
      "source": [
        "fig = plt.figure(figsize=(6,5))\n",
        "xs = np.linspace(-3,2,101)\n",
        "ys = reg.predict(xs.reshape(-1,1))\n",
        "plt.plot(x, y, 'o') # 訓練(training)データ\n",
        "plt.plot(xs, ys);"
      ],
      "execution_count": null,
      "outputs": [
        {
          "output_type": "display_data",
          "data": {
            "text/plain": [
              "<Figure size 432x360 with 1 Axes>"
            ],
            "image/png": "[encoded data removed]"
          },
          "metadata": {
            "image/png": {
              "width": 370,
              "height": 302
            },
            "needs_background": "light"
          }
        }
      ]
    },
    {
      "cell_type": "code",
      "source": [
        "print(xs)"
      ],
      "metadata": {
        "colab": {
          "base_uri": "https://localhost:8080/"
        },
        "id": "pWAhj6orq4wI",
        "outputId": "cf0cc2b0-3a31-4268-8217-8c1bdc080181"
      },
      "execution_count": null,
      "outputs": [
        {
          "output_type": "stream",
          "name": "stdout",
          "text": [
            "[-3.   -2.95 -2.9  -2.85 -2.8  -2.75 -2.7  -2.65 -2.6  -2.55 -2.5  -2.45\n",
            " -2.4  -2.35 -2.3  -2.25 -2.2  -2.15 -2.1  -2.05 -2.   -1.95 -1.9  -1.85\n",
            " -1.8  -1.75 -1.7  -1.65 -1.6  -1.55 -1.5  -1.45 -1.4  -1.35 -1.3  -1.25\n",
            " -1.2  -1.15 -1.1  -1.05 -1.   -0.95 -0.9  -0.85 -0.8  -0.75 -0.7  -0.65\n",
            " -0.6  -0.55 -0.5  -0.45 -0.4  -0.35 -0.3  -0.25 -0.2  -0.15 -0.1  -0.05\n",
            "  0.    0.05  0.1   0.15  0.2   0.25  0.3   0.35  0.4   0.45  0.5   0.55\n",
            "  0.6   0.65  0.7   0.75  0.8   0.85  0.9   0.95  1.    1.05  1.1   1.15\n",
            "  1.2   1.25  1.3   1.35  1.4   1.45  1.5   1.55  1.6   1.65  1.7   1.75\n",
            "  1.8   1.85  1.9   1.95  2.  ]\n"
          ]
        }
      ]
    },
    {
      "cell_type": "code",
      "source": [
        "print(ys)"
      ],
      "metadata": {
        "colab": {
          "base_uri": "https://localhost:8080/"
        },
        "id": "K9NrdPWCq0YL",
        "outputId": "11f38074-06e4-4f2a-f50f-5bdb1c15855d"
      },
      "execution_count": null,
      "outputs": [
        {
          "output_type": "stream",
          "name": "stdout",
          "text": [
            "[ 5.23728814  5.14661017  5.0559322   4.96525424  4.87457627  4.78389831\n",
            "  4.69322034  4.60254237  4.51186441  4.42118644  4.33050847  4.23983051\n",
            "  4.14915254  4.05847458  3.96779661  3.87711864  3.78644068  3.69576271\n",
            "  3.60508475  3.51440678  3.42372881  3.33305085  3.24237288  3.15169492\n",
            "  3.06101695  2.97033898  2.87966102  2.78898305  2.69830508  2.60762712\n",
            "  2.51694915  2.42627119  2.33559322  2.24491525  2.15423729  2.06355932\n",
            "  1.97288136  1.88220339  1.79152542  1.70084746  1.61016949  1.51949153\n",
            "  1.42881356  1.33813559  1.24745763  1.15677966  1.06610169  0.97542373\n",
            "  0.88474576  0.7940678   0.70338983  0.61271186  0.5220339   0.43135593\n",
            "  0.34067797  0.25        0.15932203  0.06864407 -0.0220339  -0.11271186\n",
            " -0.20338983 -0.2940678  -0.38474576 -0.47542373 -0.56610169 -0.65677966\n",
            " -0.74745763 -0.83813559 -0.92881356 -1.01949153 -1.11016949 -1.20084746\n",
            " -1.29152542 -1.38220339 -1.47288136 -1.56355932 -1.65423729 -1.74491525\n",
            " -1.83559322 -1.92627119 -2.01694915 -2.10762712 -2.19830508 -2.28898305\n",
            " -2.37966102 -2.47033898 -2.56101695 -2.65169492 -2.74237288 -2.83305085\n",
            " -2.92372881 -3.01440678 -3.10508475 -3.19576271 -3.28644068 -3.37711864\n",
            " -3.46779661 -3.55847458 -3.64915254 -3.73983051 -3.83050847]\n"
          ]
        }
      ]
    },
    {
      "cell_type": "markdown",
      "source": [
        "* 入力が(2,2)のときは、-4が出力されてほしい\n",
        "* 入力が(1,1)のときは、-2が出力されてほしい\n",
        "* ・・・"
      ],
      "metadata": {
        "id": "oFkfkj57ey8D"
      }
    },
    {
      "cell_type": "code",
      "source": [
        "X = [[2, 3], [0.8, 1], [-3.1, -2.3], [-1.4, -1]]\n",
        "y = [-4, -2, 5, 2]"
      ],
      "metadata": {
        "id": "xCwRSm-GeV4r"
      },
      "execution_count": 7,
      "outputs": []
    },
    {
      "cell_type": "code",
      "source": [
        "from sklearn.linear_model import LinearRegression\n",
        "reg = LinearRegression()\n",
        "reg.fit(X, y) # 係数と切片の推定estimationの実行"
      ],
      "metadata": {
        "colab": {
          "base_uri": "https://localhost:8080/"
        },
        "id": "5BOcIkS8ess0",
        "outputId": "8d8eb7f1-16db-4c73-d818-c04fc3b2c2de"
      },
      "execution_count": 8,
      "outputs": [
        {
          "output_type": "execute_result",
          "data": {
            "text/plain": [
              "LinearRegression()"
            ]
          },
          "metadata": {},
          "execution_count": 8
        }
      ]
    },
    {
      "cell_type": "markdown",
      "source": [
        "$f(x_1, x_2) = a_1 x_1 + a_2 x_2 + b$"
      ],
      "metadata": {
        "id": "J7PCWna5fEtQ"
      }
    },
    {
      "cell_type": "code",
      "source": [
        "print(reg.coef_)"
      ],
      "metadata": {
        "colab": {
          "base_uri": "https://localhost:8080/"
        },
        "id": "-iQd8jxwfDwE",
        "outputId": "646bfb42-3c61-4f66-9aa1-82c2d47f0844"
      },
      "execution_count": 9,
      "outputs": [
        {
          "output_type": "stream",
          "name": "stdout",
          "text": [
            "[-1.89639538  0.12128769]\n"
          ]
        }
      ]
    },
    {
      "cell_type": "code",
      "source": [
        "print(reg.intercept_)"
      ],
      "metadata": {
        "colab": {
          "base_uri": "https://localhost:8080/"
        },
        "id": "OHopwcZUfTPd",
        "outputId": "f884af11-5f3c-42c0-8aa2-48eb5160354b"
      },
      "execution_count": 10,
      "outputs": [
        {
          "output_type": "stream",
          "name": "stdout",
          "text": [
            "-0.5771933801858993\n"
          ]
        }
      ]
    },
    {
      "cell_type": "markdown",
      "metadata": {
        "id": "ralHCb58ZiAB"
      },
      "source": [
        "## 例題: 住宅価格の予測\n",
        "### California housing prices\n",
        "* よく例題として使われるデータセット\n",
        " * https://www.kaggle.com/camnugent/california-housing-prices"
      ]
    },
    {
      "cell_type": "markdown",
      "metadata": {
        "id": "TPlmmUzmaZCc"
      },
      "source": [
        "### データセットの取得"
      ]
    },
    {
      "cell_type": "code",
      "metadata": {
        "id": "e5faH25BZPzs"
      },
      "source": [
        "from sklearn.datasets import fetch_california_housing\n",
        "data = fetch_california_housing()"
      ],
      "execution_count": 12,
      "outputs": []
    },
    {
      "cell_type": "code",
      "source": [
        "data.target[0]"
      ],
      "metadata": {
        "colab": {
          "base_uri": "https://localhost:8080/"
        },
        "id": "jfK5gNwbgTab",
        "outputId": "4bbde237-6371-4335-f9fa-5957f227635e"
      },
      "execution_count": 19,
      "outputs": [
        {
          "output_type": "execute_result",
          "data": {
            "text/plain": [
              "4.526"
            ]
          },
          "metadata": {},
          "execution_count": 19
        }
      ]
    },
    {
      "cell_type": "code",
      "source": [
        "data.data[0]"
      ],
      "metadata": {
        "colab": {
          "base_uri": "https://localhost:8080/"
        },
        "id": "gjWiD8CMg2D2",
        "outputId": "b95b3e44-eb79-4c55-8b10-e38896657682"
      },
      "execution_count": 20,
      "outputs": [
        {
          "output_type": "execute_result",
          "data": {
            "text/plain": [
              "array([   8.3252    ,   41.        ,    6.98412698,    1.02380952,\n",
              "        322.        ,    2.55555556,   37.88      , -122.23      ])"
            ]
          },
          "metadata": {},
          "execution_count": 20
        }
      ]
    },
    {
      "cell_type": "code",
      "metadata": {
        "id": "KZVvrH_rZmyB"
      },
      "source": [
        "X = data.data\n",
        "y = data.target"
      ],
      "execution_count": 21,
      "outputs": []
    },
    {
      "cell_type": "code",
      "metadata": {
        "id": "bYt3LblKZtKH",
        "colab": {
          "base_uri": "https://localhost:8080/"
        },
        "outputId": "4569dc6e-b903-40aa-ee00-0eea1e782746"
      },
      "source": [
        "data.feature_names"
      ],
      "execution_count": 22,
      "outputs": [
        {
          "output_type": "execute_result",
          "data": {
            "text/plain": [
              "['MedInc',\n",
              " 'HouseAge',\n",
              " 'AveRooms',\n",
              " 'AveBedrms',\n",
              " 'Population',\n",
              " 'AveOccup',\n",
              " 'Latitude',\n",
              " 'Longitude']"
            ]
          },
          "metadata": {},
          "execution_count": 22
        }
      ]
    },
    {
      "cell_type": "code",
      "metadata": {
        "id": "LyQk3WJhZpMH",
        "colab": {
          "base_uri": "https://localhost:8080/"
        },
        "outputId": "60cf3fe5-8670-4e3f-817e-b8cf501ccca3"
      },
      "source": [
        "X[1]"
      ],
      "execution_count": 25,
      "outputs": [
        {
          "output_type": "execute_result",
          "data": {
            "text/plain": [
              "array([ 8.30140000e+00,  2.10000000e+01,  6.23813708e+00,  9.71880492e-01,\n",
              "        2.40100000e+03,  2.10984183e+00,  3.78600000e+01, -1.22220000e+02])"
            ]
          },
          "metadata": {},
          "execution_count": 25
        }
      ]
    },
    {
      "cell_type": "code",
      "source": [
        "y[1]"
      ],
      "metadata": {
        "colab": {
          "base_uri": "https://localhost:8080/"
        },
        "id": "OVCAb0bshgHP",
        "outputId": "7893c267-ad54-49d7-a15a-3dc86049b500"
      },
      "execution_count": 26,
      "outputs": [
        {
          "output_type": "execute_result",
          "data": {
            "text/plain": [
              "3.585"
            ]
          },
          "metadata": {},
          "execution_count": 26
        }
      ]
    },
    {
      "cell_type": "code",
      "source": [
        "from sklearn.linear_model import LinearRegression\n",
        "reg = LinearRegression()\n",
        "reg.fit(X, y) # 最小二乗法で係数と切片を推定する"
      ],
      "metadata": {
        "colab": {
          "base_uri": "https://localhost:8080/"
        },
        "id": "YDoTzPenhujd",
        "outputId": "ea98d5ba-d62b-4c06-c5e0-4102b129522d"
      },
      "execution_count": 30,
      "outputs": [
        {
          "output_type": "execute_result",
          "data": {
            "text/plain": [
              "LinearRegression()"
            ]
          },
          "metadata": {},
          "execution_count": 30
        }
      ]
    },
    {
      "cell_type": "markdown",
      "source": [
        "$f(x_1, \\ldots, x_8) = a_1 x_1 + \\cdots + a_8 x_8 + b$"
      ],
      "metadata": {
        "id": "yFnIKabzh0IN"
      }
    },
    {
      "cell_type": "code",
      "source": [
        "reg.coef_"
      ],
      "metadata": {
        "colab": {
          "base_uri": "https://localhost:8080/"
        },
        "id": "VDZzInuihw0w",
        "outputId": "4c01ff34-2c22-472f-d9dd-a9950e7fa3ca"
      },
      "execution_count": 28,
      "outputs": [
        {
          "output_type": "execute_result",
          "data": {
            "text/plain": [
              "array([ 4.36693293e-01,  9.43577803e-03, -1.07322041e-01,  6.45065694e-01,\n",
              "       -3.97638942e-06, -3.78654265e-03, -4.21314378e-01, -4.34513755e-01])"
            ]
          },
          "metadata": {},
          "execution_count": 28
        }
      ]
    },
    {
      "cell_type": "code",
      "source": [
        "reg.intercept_"
      ],
      "metadata": {
        "colab": {
          "base_uri": "https://localhost:8080/"
        },
        "id": "xzkSmZACh7eQ",
        "outputId": "c3c94b5e-a20a-49e8-ad39-013b7e9ea961"
      },
      "execution_count": 29,
      "outputs": [
        {
          "output_type": "execute_result",
          "data": {
            "text/plain": [
              "-36.94192020718441"
            ]
          },
          "metadata": {},
          "execution_count": 29
        }
      ]
    },
    {
      "cell_type": "code",
      "source": [
        "y_predict = reg.predict(X)"
      ],
      "metadata": {
        "id": "X1EP2uFNikq8"
      },
      "execution_count": 31,
      "outputs": []
    },
    {
      "cell_type": "code",
      "source": [
        "y_predict[1] # 線形回帰による予測値"
      ],
      "metadata": {
        "colab": {
          "base_uri": "https://localhost:8080/"
        },
        "id": "YEos1-czis5f",
        "outputId": "6bdac0ef-681d-4fe2-ec85-95f43410e2fd"
      },
      "execution_count": 34,
      "outputs": [
        {
          "output_type": "execute_result",
          "data": {
            "text/plain": [
              "3.9766064387043443"
            ]
          },
          "metadata": {},
          "execution_count": 34
        }
      ]
    },
    {
      "cell_type": "code",
      "source": [
        "y[1] # 正解"
      ],
      "metadata": {
        "colab": {
          "base_uri": "https://localhost:8080/"
        },
        "id": "e_cjoPuqiu4G",
        "outputId": "07f5d33e-d130-4d40-df6d-021247d824cd"
      },
      "execution_count": 33,
      "outputs": [
        {
          "output_type": "execute_result",
          "data": {
            "text/plain": [
              "3.585"
            ]
          },
          "metadata": {},
          "execution_count": 33
        }
      ]
    },
    {
      "cell_type": "code",
      "source": [
        "import numpy as np\n",
        "print(np.sqrt(np.mean((y - y_predict) ** 2))) # RMSE"
      ],
      "metadata": {
        "colab": {
          "base_uri": "https://localhost:8080/"
        },
        "id": "HC6v734ui20Z",
        "outputId": "3dcf3400-8634-4d65-ff92-3836a73873bd"
      },
      "execution_count": 39,
      "outputs": [
        {
          "output_type": "stream",
          "name": "stdout",
          "text": [
            "0.7241001216576387\n"
          ]
        }
      ]
    },
    {
      "cell_type": "markdown",
      "source": [
        "* 機械学習\n",
        " * 未知データに対して良い予測をしたい。\n",
        "* テストデータを別途用意する。"
      ],
      "metadata": {
        "id": "Ie9zyDHIkYDX"
      }
    },
    {
      "cell_type": "markdown",
      "metadata": {
        "id": "QJtK7x5dacab"
      },
      "source": [
        "### 訓練データ/検証データ/テストデータに分割"
      ]
    },
    {
      "cell_type": "code",
      "metadata": {
        "id": "DaWvz9V-ZqBA"
      },
      "source": [
        "from sklearn.model_selection import train_test_split\n",
        "\n",
        "X_train, X_test, y_train, y_test = train_test_split(X, y, test_size=0.2, random_state=0)"
      ],
      "execution_count": 40,
      "outputs": []
    },
    {
      "cell_type": "code",
      "source": [
        "X_train.shape"
      ],
      "metadata": {
        "colab": {
          "base_uri": "https://localhost:8080/"
        },
        "id": "4Qw-nopilWwY",
        "outputId": "94dfc2b3-b2c2-48bf-a317-a0018e33101a"
      },
      "execution_count": 41,
      "outputs": [
        {
          "output_type": "execute_result",
          "data": {
            "text/plain": [
              "(16512, 8)"
            ]
          },
          "metadata": {},
          "execution_count": 41
        }
      ]
    },
    {
      "cell_type": "markdown",
      "source": [
        "* fitで使ったデータを、predictでは使わない。"
      ],
      "metadata": {
        "id": "4ezE2XehllMe"
      }
    },
    {
      "cell_type": "code",
      "source": [
        "X_test.shape"
      ],
      "metadata": {
        "colab": {
          "base_uri": "https://localhost:8080/"
        },
        "id": "92n8eNHwlZSx",
        "outputId": "e3ae2dd9-3e84-4c98-9260-6271a73e4ca7"
      },
      "execution_count": 42,
      "outputs": [
        {
          "output_type": "execute_result",
          "data": {
            "text/plain": [
              "(4128, 8)"
            ]
          },
          "metadata": {},
          "execution_count": 42
        }
      ]
    },
    {
      "cell_type": "markdown",
      "source": [
        "* さらにtraining setとvalidation setに分割する"
      ],
      "metadata": {
        "id": "Nb4b4DOGmCll"
      }
    },
    {
      "cell_type": "code",
      "source": [
        "X_train, X_valid, y_train, y_valid = train_test_split(X_train, y_train, test_size=0.25, random_state=0)"
      ],
      "metadata": {
        "id": "77v2nBwMlUFi"
      },
      "execution_count": 43,
      "outputs": []
    },
    {
      "cell_type": "code",
      "source": [
        "X_train.shape"
      ],
      "metadata": {
        "colab": {
          "base_uri": "https://localhost:8080/"
        },
        "id": "hUyLXxc1mGA3",
        "outputId": "0bd96a78-0afc-4a0f-8c93-234441e1869d"
      },
      "execution_count": 44,
      "outputs": [
        {
          "output_type": "execute_result",
          "data": {
            "text/plain": [
              "(12384, 8)"
            ]
          },
          "metadata": {},
          "execution_count": 44
        }
      ]
    },
    {
      "cell_type": "code",
      "source": [
        "X_valid.shape"
      ],
      "metadata": {
        "colab": {
          "base_uri": "https://localhost:8080/"
        },
        "id": "AzVh63lemIWF",
        "outputId": "14c7b836-054e-49fd-ae55-b4bdeac0f7ca"
      },
      "execution_count": 45,
      "outputs": [
        {
          "output_type": "execute_result",
          "data": {
            "text/plain": [
              "(4128, 8)"
            ]
          },
          "metadata": {},
          "execution_count": 45
        }
      ]
    },
    {
      "cell_type": "markdown",
      "source": [
        "* 訓練データ training data, training setをfitに使う。"
      ],
      "metadata": {
        "id": "PqD8cJ0fmTAG"
      }
    },
    {
      "cell_type": "markdown",
      "metadata": {
        "id": "MmPYlPauaLq8"
      },
      "source": [
        "### 通常の最小二乗法\n",
        "* 最小二乗法は・・・\n",
        " * モデルの出力$\\hat{y}_i$と、観測されている目的変数の値$y_i$との差$\\hat{y}_i - y_i$をとり・・・\n",
        " * それを二乗$(\\hat{y}_i - y_i)^2$し・・・\n",
        " * 全てのデータ点にわたってその2乗の和$\\sum_{i=1}^N (\\hat{y}_i - y_i)^2$をとり・・・\n",
        " * この和を最小化することで、線形モデルの係数や切片を求める方法。"
      ]
    },
    {
      "cell_type": "code",
      "metadata": {
        "id": "H4n-nrYfZw34",
        "colab": {
          "base_uri": "https://localhost:8080/"
        },
        "outputId": "4b56bca5-3e63-48c3-db57-71022987fff8"
      },
      "source": [
        "reg = LinearRegression()\n",
        "reg.fit(X_train, y_train)"
      ],
      "execution_count": 46,
      "outputs": [
        {
          "output_type": "execute_result",
          "data": {
            "text/plain": [
              "LinearRegression()"
            ]
          },
          "metadata": {},
          "execution_count": 46
        }
      ]
    },
    {
      "cell_type": "code",
      "metadata": {
        "id": "BENZa3uw3NnG"
      },
      "source": [
        "y_valid_predict = reg.predict(X_valid)"
      ],
      "execution_count": 48,
      "outputs": []
    },
    {
      "cell_type": "code",
      "metadata": {
        "id": "eYGmvtGO3RT2",
        "colab": {
          "base_uri": "https://localhost:8080/"
        },
        "outputId": "ef91d25f-efac-4d7c-f83a-2a3e7853c0f5"
      },
      "source": [
        "print(y_valid_predict)"
      ],
      "execution_count": 49,
      "outputs": [
        {
          "output_type": "stream",
          "name": "stdout",
          "text": [
            "[2.27946503 1.73635702 1.85866451 ... 2.36018755 3.60240794 1.3122053 ]\n"
          ]
        }
      ]
    },
    {
      "cell_type": "code",
      "metadata": {
        "id": "plJj0fpc3TB3",
        "colab": {
          "base_uri": "https://localhost:8080/"
        },
        "outputId": "351227ca-a5d6-4fb1-9a60-b88e32ca9ee1"
      },
      "source": [
        "print(y_valid)"
      ],
      "execution_count": 50,
      "outputs": [
        {
          "output_type": "stream",
          "name": "stdout",
          "text": [
            "[2.418 1.875 1.714 ... 2.813 3.74  1.014]\n"
          ]
        }
      ]
    },
    {
      "cell_type": "markdown",
      "metadata": {
        "id": "vCNn7Cz130T7"
      },
      "source": [
        "* R-squared（決定係数）によって評価する\n",
        " * 1.0に近いほど良い。"
      ]
    },
    {
      "cell_type": "code",
      "metadata": {
        "id": "WC1cS3Xi3kEl",
        "colab": {
          "base_uri": "https://localhost:8080/"
        },
        "outputId": "ac991fa1-c0bb-4a45-8988-330519096eaf"
      },
      "source": [
        "print(f'R^2: {reg.score(X_valid, y_valid)}')"
      ],
      "execution_count": 51,
      "outputs": [
        {
          "output_type": "stream",
          "name": "stdout",
          "text": [
            "R^2: 0.5839478528504749\n"
          ]
        }
      ]
    },
    {
      "cell_type": "markdown",
      "metadata": {
        "id": "fxhwTVjc39Jn"
      },
      "source": [
        "* 機械学習の世界では、R^2ではなく、直接、予測値の良し悪しを評価する場合がほとんど\n",
        " * 回帰の場合は真の値と予測値との差の二乗の平均のルート(RMSE; root-mean-square error)を評価によく使う。"
      ]
    },
    {
      "cell_type": "code",
      "metadata": {
        "id": "pwJlq8P13XMB",
        "colab": {
          "base_uri": "https://localhost:8080/"
        },
        "outputId": "3faa4a02-bc08-4573-ce01-b914b319e42c"
      },
      "source": [
        "print(f'RMSE: {np.sqrt(np.mean((y_valid - y_valid_predict) ** 2))}')"
      ],
      "execution_count": 52,
      "outputs": [
        {
          "output_type": "stream",
          "name": "stdout",
          "text": [
            "RMSE: 0.7493303380434644\n"
          ]
        }
      ]
    },
    {
      "cell_type": "markdown",
      "metadata": {
        "id": "X1xDVTyi41As"
      },
      "source": [
        "* RMSEは、自分でコードを書かなくても、sklearnに関数が用意されている"
      ]
    },
    {
      "cell_type": "code",
      "metadata": {
        "id": "I4uBfGbg4UxA",
        "colab": {
          "base_uri": "https://localhost:8080/"
        },
        "outputId": "4d5d1d11-1815-4c76-a224-f9bf73072d82"
      },
      "source": [
        "from sklearn.metrics import mean_squared_error\n",
        "print(f'RMSE: {mean_squared_error(y_valid, y_valid_predict, squared=False)}')"
      ],
      "execution_count": 53,
      "outputs": [
        {
          "output_type": "stream",
          "name": "stdout",
          "text": [
            "RMSE: 0.7493303380434644\n"
          ]
        }
      ]
    },
    {
      "cell_type": "markdown",
      "metadata": {
        "id": "_FukHY6l9Ajk"
      },
      "source": [
        "# 線形モデルにおける正則化\n",
        "* 正則化とは、わざとモデルをシンプルなものにすることで・・・\n",
        "* モデルの係数や切片が、訓練データだけにピッタリ合いすぎることを防ぐ手法を言う。\n",
        " * 訓練データだけにピッタリ合ってしまうと、訓練データ以外のデータで予測がうまくいかなくなる。"
      ]
    },
    {
      "cell_type": "markdown",
      "metadata": {
        "id": "XgvZtDW1aOxw"
      },
      "source": [
        "### リッジ回帰\n",
        "* 最小二乗法だが、同時に、係数の２乗の和が大きくならないようにするモデル\n",
        " * https://scikit-learn.org/stable/modules/generated/sklearn.linear_model.Ridge.html"
      ]
    },
    {
      "cell_type": "code",
      "metadata": {
        "id": "ips-vxdXaQCK"
      },
      "source": [
        ""
      ],
      "execution_count": null,
      "outputs": []
    },
    {
      "cell_type": "markdown",
      "metadata": {
        "id": "saDXeXx0aQvy"
      },
      "source": [
        "### Lasso\n",
        "* 最小二乗法だが、同時に、係数の絶対値の和が大きくならないようにするモデル\n",
        " * https://scikit-learn.org/stable/modules/generated/sklearn.linear_model.Lasso.html"
      ]
    },
    {
      "cell_type": "code",
      "metadata": {
        "id": "vbAXN0rgaR8L"
      },
      "source": [
        ""
      ],
      "execution_count": null,
      "outputs": []
    },
    {
      "cell_type": "markdown",
      "metadata": {
        "id": "PDtMCOLN47sg"
      },
      "source": [
        "## テストデータを使った最終的な評価\n",
        "* 通常の最小二乗法、リッジ回帰、Lassoなどで試行錯誤し・・・\n",
        "* 検証データでの評価値が最も良かったモデルについて、最後に一回、テストデータで評価する。\n",
        "* テストデータの評価値を見て、試行錯誤に戻ってはいけないです。\n",
        " * 論文などで報告するのは、テストデータでの評価値。"
      ]
    },
    {
      "cell_type": "code",
      "metadata": {
        "id": "o2FtVX3T5IQK"
      },
      "source": [
        ""
      ],
      "execution_count": null,
      "outputs": []
    }
  ]
}