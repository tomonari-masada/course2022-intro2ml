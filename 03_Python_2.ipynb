{
  "nbformat": 4,
  "nbformat_minor": 0,
  "metadata": {
    "colab": {
      "name": "03_Python_2.ipynb",
      "provenance": [],
      "collapsed_sections": [],
      "authorship_tag": "ABX9TyNPomJpJzuEfRxT3xbwigf7",
      "include_colab_link": true
    },
    "kernelspec": {
      "name": "python3",
      "display_name": "Python 3"
    },
    "language_info": {
      "name": "python"
    }
  },
  "cells": [
    {
      "cell_type": "markdown",
      "metadata": {
        "id": "view-in-github",
        "colab_type": "text"
      },
      "source": [
        "<a href=\"https://colab.research.google.com/github/tomonari-masada/course2022-intro2ml/blob/main/03_Python_2.ipynb\" target=\"_parent\"><img src=\"https://colab.research.google.com/assets/colab-badge.svg\" alt=\"Open In Colab\"/></a>"
      ]
    },
    {
      "cell_type": "markdown",
      "metadata": {
        "id": "nnrbBOomw2H4"
      },
      "source": [
        "# Python入門（２）"
      ]
    },
    {
      "cell_type": "markdown",
      "metadata": {
        "id": "BKC1aUbuiAvC"
      },
      "source": [
        "## ループ（for文を使う）"
      ]
    },
    {
      "cell_type": "code",
      "metadata": {
        "colab": {
          "base_uri": "https://localhost:8080/"
        },
        "id": "ZePLcX9Sw1uZ",
        "outputId": "631302a5-4cbd-4ab3-9e43-2d7c77ce5ff0"
      },
      "source": [
        "for i in range(6):\n",
        "    print(i)"
      ],
      "execution_count": null,
      "outputs": [
        {
          "output_type": "stream",
          "text": [
            "0\n",
            "1\n",
            "2\n",
            "3\n",
            "4\n",
            "5\n"
          ],
          "name": "stdout"
        }
      ]
    },
    {
      "cell_type": "code",
      "metadata": {
        "colab": {
          "base_uri": "https://localhost:8080/"
        },
        "id": "7lsv6XDww5kE",
        "outputId": "5aa0a439-16b4-4dae-b91a-804c54c40335"
      },
      "source": [
        "x = 10\n",
        "for i in range(x):\n",
        "    print(i)"
      ],
      "execution_count": null,
      "outputs": [
        {
          "output_type": "stream",
          "text": [
            "0\n",
            "1\n",
            "2\n",
            "3\n",
            "4\n",
            "5\n",
            "6\n",
            "7\n",
            "8\n",
            "9\n"
          ],
          "name": "stdout"
        }
      ]
    },
    {
      "cell_type": "code",
      "metadata": {
        "colab": {
          "base_uri": "https://localhost:8080/"
        },
        "id": "SRAwafrow7M0",
        "outputId": "9848bbdc-e39c-4ac4-9612-f66cd06edd89"
      },
      "source": [
        "for i in range(3, 80, 23):\n",
        "    print(i)"
      ],
      "execution_count": null,
      "outputs": [
        {
          "output_type": "stream",
          "text": [
            "3\n",
            "26\n",
            "49\n",
            "72\n"
          ],
          "name": "stdout"
        }
      ]
    },
    {
      "cell_type": "code",
      "metadata": {
        "colab": {
          "base_uri": "https://localhost:8080/"
        },
        "id": "z34yEWFFw8fD",
        "outputId": "51804aa4-a265-423c-940c-2383373d7784"
      },
      "source": [
        "s = 0\n",
        "for i in range(1, 101):\n",
        "    s += i\n",
        "print(s)"
      ],
      "execution_count": null,
      "outputs": [
        {
          "output_type": "stream",
          "text": [
            "5050\n"
          ],
          "name": "stdout"
        }
      ]
    },
    {
      "cell_type": "markdown",
      "metadata": {
        "id": "dXuDdH1oiE-Q"
      },
      "source": [
        "## アサーション"
      ]
    },
    {
      "cell_type": "markdown",
      "metadata": {
        "id": "L16qSytSiIOL"
      },
      "source": [
        "* 与えられた条件が成り立っていないとき、エラーを出す\n",
        "* プログラムが期待通りの動きをしているかのチェックに使う"
      ]
    },
    {
      "cell_type": "code",
      "metadata": {
        "colab": {
          "base_uri": "https://localhost:8080/",
          "height": 264
        },
        "id": "aQBFVNcRw-JT",
        "outputId": "f6eb4416-5eff-4b5f-ebe9-7035bbf89d53"
      },
      "source": [
        "x = int(input('非負の整数を入力してください: '))\n",
        "assert x >= 0 #次スライドで説明\n",
        "for a in range(x):\n",
        "    if a**2 >= x:\n",
        "        break\n",
        "if a**2 == x:\n",
        "    print(f'{a} is a square root of {x}.')"
      ],
      "execution_count": null,
      "outputs": [
        {
          "output_type": "stream",
          "text": [
            "非負の整数を入力してください: -33\n"
          ],
          "name": "stdout"
        },
        {
          "output_type": "error",
          "ename": "AssertionError",
          "evalue": "ignored",
          "traceback": [
            "\u001b[0;31m---------------------------------------------------------------------------\u001b[0m",
            "\u001b[0;31mAssertionError\u001b[0m                            Traceback (most recent call last)",
            "\u001b[0;32m<ipython-input-5-c38be5806377>\u001b[0m in \u001b[0;36m<module>\u001b[0;34m()\u001b[0m\n\u001b[1;32m      1\u001b[0m \u001b[0mx\u001b[0m \u001b[0;34m=\u001b[0m \u001b[0mint\u001b[0m\u001b[0;34m(\u001b[0m\u001b[0minput\u001b[0m\u001b[0;34m(\u001b[0m\u001b[0;34m'非負の整数を入力してください: '\u001b[0m\u001b[0;34m)\u001b[0m\u001b[0;34m)\u001b[0m\u001b[0;34m\u001b[0m\u001b[0;34m\u001b[0m\u001b[0m\n\u001b[0;32m----> 2\u001b[0;31m \u001b[0;32massert\u001b[0m \u001b[0mx\u001b[0m \u001b[0;34m>=\u001b[0m \u001b[0;36m0\u001b[0m \u001b[0;31m#次スライドで説明\u001b[0m\u001b[0;34m\u001b[0m\u001b[0;34m\u001b[0m\u001b[0m\n\u001b[0m\u001b[1;32m      3\u001b[0m \u001b[0;32mfor\u001b[0m \u001b[0ma\u001b[0m \u001b[0;32min\u001b[0m \u001b[0mrange\u001b[0m\u001b[0;34m(\u001b[0m\u001b[0mx\u001b[0m\u001b[0;34m)\u001b[0m\u001b[0;34m:\u001b[0m\u001b[0;34m\u001b[0m\u001b[0;34m\u001b[0m\u001b[0m\n\u001b[1;32m      4\u001b[0m     \u001b[0;32mif\u001b[0m \u001b[0ma\u001b[0m\u001b[0;34m**\u001b[0m\u001b[0;36m2\u001b[0m \u001b[0;34m>=\u001b[0m \u001b[0mx\u001b[0m\u001b[0;34m:\u001b[0m\u001b[0;34m\u001b[0m\u001b[0;34m\u001b[0m\u001b[0m\n\u001b[1;32m      5\u001b[0m         \u001b[0;32mbreak\u001b[0m\u001b[0;34m\u001b[0m\u001b[0;34m\u001b[0m\u001b[0m\n",
            "\u001b[0;31mAssertionError\u001b[0m: "
          ]
        }
      ]
    },
    {
      "cell_type": "markdown",
      "metadata": {
        "id": "m6_aOseSiMiA"
      },
      "source": [
        "## シーケンスとしての文字列"
      ]
    },
    {
      "cell_type": "code",
      "metadata": {
        "colab": {
          "base_uri": "https://localhost:8080/"
        },
        "id": "RXtC1Goaw_4r",
        "outputId": "089d29e0-4212-4525-ca74-fe482b911b29"
      },
      "source": [
        "n = 0\n",
        "for c in 'abracadabra':\n",
        "    if c == 'a':\n",
        "        n += 1\n",
        "print(n)"
      ],
      "execution_count": null,
      "outputs": [
        {
          "output_type": "stream",
          "text": [
            "5\n"
          ],
          "name": "stdout"
        }
      ]
    },
    {
      "cell_type": "markdown",
      "metadata": {
        "id": "EiQ-lHpniPLP"
      },
      "source": [
        "## 関数定義の詳細"
      ]
    },
    {
      "cell_type": "code",
      "metadata": {
        "id": "k6ss_752xDzJ"
      },
      "source": [
        "def maxValue(x, y):\n",
        "    if x > y:\n",
        "        return x\n",
        "    else:\n",
        "        return y"
      ],
      "execution_count": null,
      "outputs": []
    },
    {
      "cell_type": "code",
      "metadata": {
        "colab": {
          "base_uri": "https://localhost:8080/"
        },
        "id": "9jvrnoU0xF7b",
        "outputId": "14292685-73c6-4a07-c50c-0dcddb1bdaef"
      },
      "source": [
        "print(maxValue(8, 3))"
      ],
      "execution_count": null,
      "outputs": [
        {
          "output_type": "stream",
          "text": [
            "8\n"
          ],
          "name": "stdout"
        }
      ]
    },
    {
      "cell_type": "code",
      "metadata": {
        "id": "H62HhnAVxOva"
      },
      "source": [
        "def printName(firstName, lastName, reverse):\n",
        "    if reverse:\n",
        "        print(lastName + ', ' + firstName)\n",
        "    else:\n",
        "        print(firstName + ' ' + lastName)"
      ],
      "execution_count": null,
      "outputs": []
    },
    {
      "cell_type": "code",
      "metadata": {
        "colab": {
          "base_uri": "https://localhost:8080/"
        },
        "id": "ZmDIX2tYxQ1L",
        "outputId": "830be549-dc84-404a-e2ac-10cd2bcf9b86"
      },
      "source": [
        "printName('Taro', 'Yamada', True)"
      ],
      "execution_count": null,
      "outputs": [
        {
          "output_type": "stream",
          "text": [
            "Yamada, Taro\n"
          ],
          "name": "stdout"
        }
      ]
    },
    {
      "cell_type": "code",
      "metadata": {
        "colab": {
          "base_uri": "https://localhost:8080/",
          "height": 174
        },
        "id": "j5pheTLCxTiK",
        "outputId": "4172382c-04fd-4ec9-9ddc-2d86f3d7e660"
      },
      "source": [
        "printName('Taro', 'Yamada')"
      ],
      "execution_count": null,
      "outputs": [
        {
          "output_type": "error",
          "ename": "TypeError",
          "evalue": "ignored",
          "traceback": [
            "\u001b[0;31m---------------------------------------------------------------------------\u001b[0m",
            "\u001b[0;31mTypeError\u001b[0m                                 Traceback (most recent call last)",
            "\u001b[0;32m<ipython-input-11-ccc89bee49d9>\u001b[0m in \u001b[0;36m<module>\u001b[0;34m()\u001b[0m\n\u001b[0;32m----> 1\u001b[0;31m \u001b[0mprintName\u001b[0m\u001b[0;34m(\u001b[0m\u001b[0;34m'Taro'\u001b[0m\u001b[0;34m,\u001b[0m \u001b[0;34m'Yamada'\u001b[0m\u001b[0;34m)\u001b[0m\u001b[0;34m\u001b[0m\u001b[0;34m\u001b[0m\u001b[0m\n\u001b[0m",
            "\u001b[0;31mTypeError\u001b[0m: printName() missing 1 required positional argument: 'reverse'"
          ]
        }
      ]
    },
    {
      "cell_type": "code",
      "metadata": {
        "colab": {
          "base_uri": "https://localhost:8080/"
        },
        "id": "U2eo2ZCuxVUq",
        "outputId": "3c5e54dc-d238-4165-81f5-513d8b94de41"
      },
      "source": [
        "printName('Taro', 'Yamada', reverse=False)"
      ],
      "execution_count": null,
      "outputs": [
        {
          "output_type": "stream",
          "text": [
            "Taro Yamada\n"
          ],
          "name": "stdout"
        }
      ]
    },
    {
      "cell_type": "markdown",
      "metadata": {
        "id": "M6L1IqaFidhy"
      },
      "source": [
        "### デフォルト値"
      ]
    },
    {
      "cell_type": "code",
      "metadata": {
        "id": "2JCvKlyPxW7a"
      },
      "source": [
        "def printName(firstName, lastName, reverse=False):\n",
        "    if reverse:\n",
        "        print(lastName + ', ' + firstName)\n",
        "    else:\n",
        "        print(firstName + ' ' + lastName)"
      ],
      "execution_count": null,
      "outputs": []
    },
    {
      "cell_type": "code",
      "metadata": {
        "colab": {
          "base_uri": "https://localhost:8080/"
        },
        "id": "YNffn7VSxd76",
        "outputId": "0d54cfeb-0fc3-49ed-81c8-a128e56224bb"
      },
      "source": [
        "printName('Taro', 'Yamada')"
      ],
      "execution_count": null,
      "outputs": [
        {
          "output_type": "stream",
          "text": [
            "Taro Yamada\n"
          ],
          "name": "stdout"
        }
      ]
    },
    {
      "cell_type": "markdown",
      "metadata": {
        "id": "P879qVkjigtO"
      },
      "source": [
        "### スコープ"
      ]
    },
    {
      "cell_type": "code",
      "metadata": {
        "colab": {
          "base_uri": "https://localhost:8080/"
        },
        "id": "y2Ydh-HOxfR6",
        "outputId": "071e5466-e85a-4981-a039-1fe73d24e394"
      },
      "source": [
        "def f(x):\n",
        "    y = 1\n",
        "    x = x + y\n",
        "    print('x =', x)\n",
        "    return x\n",
        "\n",
        "x, y = 3, 2\n",
        "z = f(x)\n",
        "print(f'x = {x}, y = {y}, z = {z}')"
      ],
      "execution_count": null,
      "outputs": [
        {
          "output_type": "stream",
          "text": [
            "x = 4\n",
            "x = 3, y = 2, z = 4\n"
          ],
          "name": "stdout"
        }
      ]
    },
    {
      "cell_type": "markdown",
      "metadata": {
        "id": "edY7FqjIikzm"
      },
      "source": [
        "### ドキュメンテーション\n",
        "* Pythonのコードのなかで、\"\"\"で囲まれた部分は、ドキュメンテーション文字列と呼ばれる\n",
        " * 例えば関数の仕様を説明するために用いる。\n",
        " * 組み込み関数helpでドキュメンテーション文字列にアクセスできる。"
      ]
    },
    {
      "cell_type": "code",
      "metadata": {
        "colab": {
          "base_uri": "https://localhost:8080/"
        },
        "id": "IhAT4dm2xhOZ",
        "outputId": "ecc1585c-15ee-4470-8c66-b1b0ea38cf27"
      },
      "source": [
        "def f(x):\n",
        "    \"\"\"xの値を表示する\"\"\"\n",
        "    print(x)\n",
        "\n",
        "help(f)"
      ],
      "execution_count": null,
      "outputs": [
        {
          "output_type": "stream",
          "text": [
            "Help on function f in module __main__:\n",
            "\n",
            "f(x)\n",
            "    xの値を表示する\n",
            "\n"
          ],
          "name": "stdout"
        }
      ]
    },
    {
      "cell_type": "markdown",
      "metadata": {
        "id": "DGok5X8CirjU"
      },
      "source": [
        "### 再帰呼出し"
      ]
    },
    {
      "cell_type": "code",
      "metadata": {
        "id": "zevrEgm6xjcx"
      },
      "source": [
        "def fact(n):\n",
        "    if n == 1:\n",
        "        return n\n",
        "    else:\n",
        "        return n * fact(n - 1)"
      ],
      "execution_count": null,
      "outputs": []
    },
    {
      "cell_type": "code",
      "metadata": {
        "colab": {
          "base_uri": "https://localhost:8080/"
        },
        "id": "C0bOQ8vLxlgZ",
        "outputId": "cb34fac8-1b22-4700-e983-7a76ac8a0db3"
      },
      "source": [
        "print(fact(8))"
      ],
      "execution_count": null,
      "outputs": [
        {
          "output_type": "stream",
          "text": [
            "40320\n"
          ],
          "name": "stdout"
        }
      ]
    },
    {
      "cell_type": "code",
      "metadata": {
        "id": "yW5Jv_qaxm6p"
      },
      "source": [
        "def fib(n):\n",
        "    if n == 0 or n == 1:\n",
        "        return 1\n",
        "    else:\n",
        "        return fib(n - 1) + fib(n - 2)"
      ],
      "execution_count": null,
      "outputs": []
    },
    {
      "cell_type": "code",
      "metadata": {
        "colab": {
          "base_uri": "https://localhost:8080/"
        },
        "id": "KkCel07OxocZ",
        "outputId": "b68d1ede-c3ee-4cad-a11f-fb93cbda4eec"
      },
      "source": [
        "for i in range(11):\n",
        "    print(fib(i), end=',')\n",
        "print()"
      ],
      "execution_count": null,
      "outputs": [
        {
          "output_type": "stream",
          "text": [
            "1,1,2,3,5,8,13,21,34,55,89,\n"
          ],
          "name": "stdout"
        }
      ]
    },
    {
      "cell_type": "markdown",
      "metadata": {
        "id": "P6lOTgljiweU"
      },
      "source": [
        "## 補足：print関数のend仮引数"
      ]
    },
    {
      "cell_type": "code",
      "metadata": {
        "colab": {
          "base_uri": "https://localhost:8080/"
        },
        "id": "z0bjRT2JxqAY",
        "outputId": "95cf47ca-3964-4ec1-bd33-89337edc6443"
      },
      "source": [
        "print('a', end='')\n",
        "print('b', end=' ')\n",
        "print('c', end='---')\n",
        "print('d')\n",
        "print('e')"
      ],
      "execution_count": null,
      "outputs": [
        {
          "output_type": "stream",
          "text": [
            "ab c---d\n",
            "e\n"
          ],
          "name": "stdout"
        }
      ]
    },
    {
      "cell_type": "markdown",
      "metadata": {
        "id": "jmIEmh7fi16s"
      },
      "source": [
        "## ファイルの読み書き"
      ]
    },
    {
      "cell_type": "code",
      "metadata": {
        "colab": {
          "base_uri": "https://localhost:8080/"
        },
        "id": "ZRvKC4Ztxrxh",
        "outputId": "96f4d290-fd3d-4674-ba81-ee860863da76"
      },
      "source": [
        "f = open('text.txt', 'w')\n",
        "for i in range(5):\n",
        "    line = input('Enter string: ')\n",
        "    f.write(line + '\\n')\n",
        "f.close()"
      ],
      "execution_count": null,
      "outputs": [
        {
          "output_type": "stream",
          "text": [
            "Enter string: aaa\n",
            "Enter string: bbb\n",
            "Enter string: ccc\n",
            "Enter string: ddd\n",
            "Enter string: eee\n"
          ],
          "name": "stdout"
        }
      ]
    },
    {
      "cell_type": "code",
      "metadata": {
        "colab": {
          "base_uri": "https://localhost:8080/"
        },
        "id": "W740VjRzxwkA",
        "outputId": "004a4f37-e225-4006-9ced-1430d1291c78"
      },
      "source": [
        "f = open('text.txt', 'r')\n",
        "for line in f:\n",
        "    print(line)\n",
        "f.close()"
      ],
      "execution_count": null,
      "outputs": [
        {
          "output_type": "stream",
          "text": [
            "aaa\n",
            "\n",
            "bbb\n",
            "\n",
            "ccc\n",
            "\n",
            "ddd\n",
            "\n",
            "eee\n",
            "\n"
          ],
          "name": "stdout"
        }
      ]
    },
    {
      "cell_type": "code",
      "metadata": {
        "colab": {
          "base_uri": "https://localhost:8080/"
        },
        "id": "USDr1CWJx0mH",
        "outputId": "ab17f507-4797-47a2-a89e-4185f5f6a576"
      },
      "source": [
        "f = open('text.txt', 'r')\n",
        "for line in f:\n",
        "    line = line.strip()\n",
        "    print(line)\n",
        "f.close()"
      ],
      "execution_count": null,
      "outputs": [
        {
          "output_type": "stream",
          "text": [
            "aaa\n",
            "bbb\n",
            "ccc\n",
            "ddd\n",
            "eee\n"
          ],
          "name": "stdout"
        }
      ]
    },
    {
      "cell_type": "markdown",
      "metadata": {
        "id": "F2Etjjhvi8UD"
      },
      "source": [
        "## Pythonの4つの構造型"
      ]
    },
    {
      "cell_type": "markdown",
      "metadata": {
        "id": "bL4yYdJTi9ej"
      },
      "source": [
        "* タプル\n",
        " * 文字列の一般化。不変な要素の列。\n",
        "* range\n",
        " * タプルと同じく不変な要素の列。ただし整数の列。（Python 2にはなかった。）\n",
        "* リスト\n",
        " * 可変なタプル\n",
        "* 辞書\n",
        " * 連想配列（添え字が数字でない配列）"
      ]
    },
    {
      "cell_type": "markdown",
      "metadata": {
        "id": "S1dpd3KIjE3k"
      },
      "source": [
        "### タプル(tuple)"
      ]
    },
    {
      "cell_type": "code",
      "metadata": {
        "colab": {
          "base_uri": "https://localhost:8080/"
        },
        "id": "c-hX3kGax4uA",
        "outputId": "08713247-ea84-49c1-ab74-c3e691c02e0f"
      },
      "source": [
        "t1 = ()\n",
        "t2 = ('one', 2, 'three', 4)\n",
        "print(t1)\n",
        "print(t2)"
      ],
      "execution_count": null,
      "outputs": [
        {
          "output_type": "stream",
          "text": [
            "()\n",
            "('one', 2, 'three', 4)\n"
          ],
          "name": "stdout"
        }
      ]
    },
    {
      "cell_type": "code",
      "metadata": {
        "colab": {
          "base_uri": "https://localhost:8080/"
        },
        "id": "0_74orbnx6oX",
        "outputId": "ea9bdef5-49c2-40e7-f7f3-eb1b00b9a4cb"
      },
      "source": [
        "t3 = (123,)\n",
        "print(t3)"
      ],
      "execution_count": null,
      "outputs": [
        {
          "output_type": "stream",
          "text": [
            "(123,)\n"
          ],
          "name": "stdout"
        }
      ]
    },
    {
      "cell_type": "code",
      "metadata": {
        "colab": {
          "base_uri": "https://localhost:8080/"
        },
        "id": "3-9XSOyTx7_X",
        "outputId": "c371c6de-b0f1-41be-8b08-fde051e9fde8"
      },
      "source": [
        "t = tuple()\n",
        "print(t)"
      ],
      "execution_count": null,
      "outputs": [
        {
          "output_type": "stream",
          "text": [
            "()\n"
          ],
          "name": "stdout"
        }
      ]
    },
    {
      "cell_type": "code",
      "metadata": {
        "colab": {
          "base_uri": "https://localhost:8080/"
        },
        "id": "ExiSxRlpx-Cn",
        "outputId": "f0c73a76-182e-47a1-c570-8b8ae8493f5e"
      },
      "source": [
        "t1 = ('one', 2, 'three', 4)\n",
        "t2 = (0, t1, 'five')\n",
        "print(t2)\n",
        "print(t1 + t2)\n",
        "print((t1 + t2)[2])\n",
        "print((t1 + t2)[1:4])"
      ],
      "execution_count": null,
      "outputs": [
        {
          "output_type": "stream",
          "text": [
            "(0, ('one', 2, 'three', 4), 'five')\n",
            "('one', 2, 'three', 4, 0, ('one', 2, 'three', 4), 'five')\n",
            "three\n",
            "(2, 'three', 4)\n"
          ],
          "name": "stdout"
        }
      ]
    },
    {
      "cell_type": "code",
      "metadata": {
        "colab": {
          "base_uri": "https://localhost:8080/"
        },
        "id": "pWw7sE99x_uv",
        "outputId": "164dcfe6-a16c-4fdf-a25d-6c2ee24ec1d0"
      },
      "source": [
        "t1 = (2, 4, 6, 8, 10, 12, 14, 16, 18)\n",
        "t2 = (3, 6, 9, 12, 15, 18)\n",
        "for e in t1:\n",
        "    if e in t2:\n",
        "        print(e)"
      ],
      "execution_count": null,
      "outputs": [
        {
          "output_type": "stream",
          "text": [
            "6\n",
            "12\n",
            "18\n"
          ],
          "name": "stdout"
        }
      ]
    },
    {
      "cell_type": "markdown",
      "metadata": {
        "id": "_HWo0Pr1jIMQ"
      },
      "source": [
        "### 範囲(range)"
      ]
    },
    {
      "cell_type": "code",
      "metadata": {
        "colab": {
          "base_uri": "https://localhost:8080/"
        },
        "id": "JDvpZMKOyBau",
        "outputId": "4c3afb1b-d2c3-4be4-bf4f-5f6d5837e212"
      },
      "source": [
        "for i in range(21, 100, 7):\n",
        "    print(i)\n",
        "print()\n",
        "for i in range(100, 21, -7):\n",
        "    print(i)"
      ],
      "execution_count": null,
      "outputs": [
        {
          "output_type": "stream",
          "text": [
            "21\n",
            "28\n",
            "35\n",
            "42\n",
            "49\n",
            "56\n",
            "63\n",
            "70\n",
            "77\n",
            "84\n",
            "91\n",
            "98\n",
            "\n",
            "100\n",
            "93\n",
            "86\n",
            "79\n",
            "72\n",
            "65\n",
            "58\n",
            "51\n",
            "44\n",
            "37\n",
            "30\n",
            "23\n"
          ],
          "name": "stdout"
        }
      ]
    },
    {
      "cell_type": "markdown",
      "metadata": {
        "id": "B_4pwwM_jK2O"
      },
      "source": [
        "### リスト(list)"
      ]
    },
    {
      "cell_type": "code",
      "metadata": {
        "colab": {
          "base_uri": "https://localhost:8080/"
        },
        "id": "Z9sTk_9zyC9W",
        "outputId": "8b0018f5-1c05-4022-f715-0c16b42636cd"
      },
      "source": [
        "l1 = []\n",
        "l2 = ['one', 2, 'three', 4]\n",
        "print(l1)\n",
        "print(l2)"
      ],
      "execution_count": null,
      "outputs": [
        {
          "output_type": "stream",
          "text": [
            "[]\n",
            "['one', 2, 'three', 4]\n"
          ],
          "name": "stdout"
        }
      ]
    },
    {
      "cell_type": "code",
      "metadata": {
        "colab": {
          "base_uri": "https://localhost:8080/"
        },
        "id": "37ylEo32yGR-",
        "outputId": "4b02d96f-3e01-4f14-cc5e-27add84ba625"
      },
      "source": [
        "l3 = [123]\n",
        "print(l3)"
      ],
      "execution_count": null,
      "outputs": [
        {
          "output_type": "stream",
          "text": [
            "[123]\n"
          ],
          "name": "stdout"
        }
      ]
    },
    {
      "cell_type": "code",
      "metadata": {
        "colab": {
          "base_uri": "https://localhost:8080/"
        },
        "id": "OJoiRfkDyHqm",
        "outputId": "87d4784a-93d1-4442-ab26-6bc7eba9cfc7"
      },
      "source": [
        "l = list()\n",
        "print(l)"
      ],
      "execution_count": null,
      "outputs": [
        {
          "output_type": "stream",
          "text": [
            "[]\n"
          ],
          "name": "stdout"
        }
      ]
    },
    {
      "cell_type": "code",
      "metadata": {
        "colab": {
          "base_uri": "https://localhost:8080/"
        },
        "id": "tDicZI6lyJk9",
        "outputId": "afe8fa17-57d2-4cdf-ce52-93997560d14b"
      },
      "source": [
        "l1 = [2, 4, 6, 8, 10, 12, 14, 16, 18]\n",
        "l2 = [3, 6, 9, 12, 15, 18]\n",
        "for e in l1:\n",
        "    if e in l2:\n",
        "        print(e)"
      ],
      "execution_count": null,
      "outputs": [
        {
          "output_type": "stream",
          "text": [
            "6\n",
            "12\n",
            "18\n"
          ],
          "name": "stdout"
        }
      ]
    },
    {
      "cell_type": "markdown",
      "metadata": {
        "id": "SU4HkJ4ljkRJ"
      },
      "source": [
        "* 組み込み関数idを使うとオブジェクトの固有識別子が得られる\n"
      ]
    },
    {
      "cell_type": "code",
      "metadata": {
        "colab": {
          "base_uri": "https://localhost:8080/"
        },
        "id": "KBPRTwp1yLLm",
        "outputId": "0252dee5-ac1c-4186-8687-9dab475e07fe"
      },
      "source": [
        "v = ['onion', 'carrot']\n",
        "f = ['apple', 'orange', 'banana']\n",
        "l1 = [v, f]\n",
        "l2 = [['onion', 'carrot'], ['apple', 'orange', 'banana']]\n",
        "print(l1 == l2)\n",
        "print(id(l1) == id(l2))"
      ],
      "execution_count": null,
      "outputs": [
        {
          "output_type": "stream",
          "text": [
            "True\n",
            "False\n"
          ],
          "name": "stdout"
        }
      ]
    },
    {
      "cell_type": "markdown",
      "metadata": {
        "id": "6gqluWymjoOS"
      },
      "source": [
        "### リストのメソッド"
      ]
    },
    {
      "cell_type": "code",
      "metadata": {
        "colab": {
          "base_uri": "https://localhost:8080/"
        },
        "id": "I8xZGN1myMeW",
        "outputId": "4731f8e7-21cf-44d6-dacd-fe70e433a80d"
      },
      "source": [
        "l1 = [1,2,3]\n",
        "l2 = [4,5,6]\n",
        "l2.append(7)\n",
        "print(l2)\n",
        "l1.extend(l2)\n",
        "print(l1)\n",
        "l1.append(l2)\n",
        "print(l1)"
      ],
      "execution_count": null,
      "outputs": [
        {
          "output_type": "stream",
          "text": [
            "[4, 5, 6, 7]\n",
            "[1, 2, 3, 4, 5, 6, 7]\n",
            "[1, 2, 3, 4, 5, 6, 7, [4, 5, 6, 7]]\n"
          ],
          "name": "stdout"
        }
      ]
    },
    {
      "cell_type": "code",
      "metadata": {
        "colab": {
          "base_uri": "https://localhost:8080/",
          "height": 264
        },
        "id": "coCMpQeEyN7m",
        "outputId": "67a16cc1-63f3-4e43-d226-eeb33f8fde14"
      },
      "source": [
        "l = [1,2,3,2,1,2,3,4,3,2,3,4,5]\n",
        "print(l.count(1))\n",
        "print(l.count(3))\n",
        "print(l.index(4))\n",
        "print(l.index(10))"
      ],
      "execution_count": null,
      "outputs": [
        {
          "output_type": "stream",
          "text": [
            "2\n",
            "4\n",
            "7\n"
          ],
          "name": "stdout"
        },
        {
          "output_type": "error",
          "ename": "ValueError",
          "evalue": "ignored",
          "traceback": [
            "\u001b[0;31m---------------------------------------------------------------------------\u001b[0m",
            "\u001b[0;31mValueError\u001b[0m                                Traceback (most recent call last)",
            "\u001b[0;32m<ipython-input-37-b3b778d42533>\u001b[0m in \u001b[0;36m<module>\u001b[0;34m()\u001b[0m\n\u001b[1;32m      3\u001b[0m \u001b[0mprint\u001b[0m\u001b[0;34m(\u001b[0m\u001b[0ml\u001b[0m\u001b[0;34m.\u001b[0m\u001b[0mcount\u001b[0m\u001b[0;34m(\u001b[0m\u001b[0;36m3\u001b[0m\u001b[0;34m)\u001b[0m\u001b[0;34m)\u001b[0m\u001b[0;34m\u001b[0m\u001b[0;34m\u001b[0m\u001b[0m\n\u001b[1;32m      4\u001b[0m \u001b[0mprint\u001b[0m\u001b[0;34m(\u001b[0m\u001b[0ml\u001b[0m\u001b[0;34m.\u001b[0m\u001b[0mindex\u001b[0m\u001b[0;34m(\u001b[0m\u001b[0;36m4\u001b[0m\u001b[0;34m)\u001b[0m\u001b[0;34m)\u001b[0m\u001b[0;34m\u001b[0m\u001b[0;34m\u001b[0m\u001b[0m\n\u001b[0;32m----> 5\u001b[0;31m \u001b[0mprint\u001b[0m\u001b[0;34m(\u001b[0m\u001b[0ml\u001b[0m\u001b[0;34m.\u001b[0m\u001b[0mindex\u001b[0m\u001b[0;34m(\u001b[0m\u001b[0;36m10\u001b[0m\u001b[0;34m)\u001b[0m\u001b[0;34m)\u001b[0m\u001b[0;34m\u001b[0m\u001b[0;34m\u001b[0m\u001b[0m\n\u001b[0m",
            "\u001b[0;31mValueError\u001b[0m: 10 is not in list"
          ]
        }
      ]
    },
    {
      "cell_type": "code",
      "metadata": {
        "colab": {
          "base_uri": "https://localhost:8080/"
        },
        "id": "xuhaPN3OyPrm",
        "outputId": "cd5d2df0-cd60-42b3-81f6-a55bb28c2fa0"
      },
      "source": [
        "l = [1,2,3,2,1,2,3,4,3,2,3,4,5]\n",
        "l.sort()\n",
        "print(l)\n",
        "l.reverse()\n",
        "print(l)"
      ],
      "execution_count": null,
      "outputs": [
        {
          "output_type": "stream",
          "text": [
            "[1, 1, 2, 2, 2, 2, 3, 3, 3, 3, 4, 4, 5]\n",
            "[5, 4, 4, 3, 3, 3, 3, 2, 2, 2, 2, 1, 1]\n"
          ],
          "name": "stdout"
        }
      ]
    },
    {
      "cell_type": "code",
      "metadata": {
        "colab": {
          "base_uri": "https://localhost:8080/"
        },
        "id": "Em66HPnjyV6F",
        "outputId": "dd37a67d-a2ee-49d5-b9d3-c998a354ffad"
      },
      "source": [
        "l = [3, 6, 9, 12, 15, 18]\n",
        "l.insert(3, 10)\n",
        "print(l)\n",
        "l.remove(10)\n",
        "print(l)\n",
        "l.pop(4)\n",
        "print(l)"
      ],
      "execution_count": null,
      "outputs": [
        {
          "output_type": "stream",
          "text": [
            "[3, 6, 9, 10, 12, 15, 18]\n",
            "[3, 6, 9, 12, 15, 18]\n",
            "[3, 6, 9, 12, 18]\n"
          ],
          "name": "stdout"
        }
      ]
    },
    {
      "cell_type": "markdown",
      "metadata": {
        "id": "SKTjVQqTjtIX"
      },
      "source": [
        "### リスト内包(list comprehension)\n",
        "* 順序型のそれぞれの値に対し、特定の処理をおこない、その結果を要素として含むリストを作り出す方法\n"
      ]
    },
    {
      "cell_type": "code",
      "metadata": {
        "colab": {
          "base_uri": "https://localhost:8080/"
        },
        "id": "QgpN02aD0Sp0",
        "outputId": "0bb47499-b51b-46a0-9903-102992bc63dc"
      },
      "source": [
        "l = [x**3 for x in range(2, 10, 3)]\n",
        "print(l)\n",
        "l = [x for x in range(-10, 10) if x%2 == 0]\n",
        "print(l)\n",
        "words1 = ['apple', 'ball', 'banana', 'orange']\n",
        "words2 = [x for x in words1 if x.count('a') == 1]\n",
        "print(words2)\n",
        "words3 = [x for x in words1 for c in x if c == 'a']\n",
        "print(words3) #出力がなぜそうなるか説明してみよう"
      ],
      "execution_count": null,
      "outputs": [
        {
          "output_type": "stream",
          "text": [
            "[8, 125, 512]\n",
            "[-10, -8, -6, -4, -2, 0, 2, 4, 6, 8]\n",
            "['apple', 'ball', 'orange']\n",
            "['apple', 'ball', 'banana', 'banana', 'banana', 'orange']\n"
          ],
          "name": "stdout"
        }
      ]
    },
    {
      "cell_type": "code",
      "metadata": {
        "colab": {
          "base_uri": "https://localhost:8080/"
        },
        "id": "XIzHrPTg0UdL",
        "outputId": "e7c12907-d6ee-4888-f127-30f48b98effb"
      },
      "source": [
        "numbers = {'one':1, 'two':2, 'four':3, 'seven':7}\n",
        "print(numbers)\n",
        "print(numbers['four'])\n",
        "numbers['seven'] = 70 #値を上書き\n",
        "print(numbers['seven'])\n",
        "numbers['six'] = 6 #新たに追加\n",
        "print(numbers['six'])\n",
        "print('six' in numbers) #キーがあるかどうか調べる"
      ],
      "execution_count": null,
      "outputs": [
        {
          "output_type": "stream",
          "text": [
            "{'one': 1, 'two': 2, 'four': 3, 'seven': 7}\n",
            "3\n",
            "70\n",
            "6\n",
            "True\n"
          ],
          "name": "stdout"
        }
      ]
    },
    {
      "cell_type": "markdown",
      "metadata": {
        "id": "6-LfUYbaj4qa"
      },
      "source": [
        "## 順序型に対する操作のまとめ\n",
        "* `seq[i]`は順序型のi番目の要素（ただし、最初の要素は0番目）\n",
        "* `len(seq)`は順序型の長さ\n",
        "* `seq1 + seq2`は二つの順序型を連結する（範囲型では使用不可）\n",
        "* `n * seq`は`seq`を`n`回繰り返した順序型（範囲型では使用不可）\n",
        "* `seq[start:end]`は順序型のスライス\n",
        "* `e in seq`は`e`が順序型の要素である場合`True`、それ以外`False`\n",
        "* `e not in seq`は`e`が順序型の要素でない場合`True`、それ以外`False`\n",
        "* `for e in seq`は順序型の要素を反復して取り出す\n"
      ]
    },
    {
      "cell_type": "markdown",
      "metadata": {
        "id": "JUtPMEJJkPSc"
      },
      "source": [
        "## 辞書"
      ]
    },
    {
      "cell_type": "code",
      "metadata": {
        "colab": {
          "base_uri": "https://localhost:8080/"
        },
        "id": "A4QfcvZq0WMb",
        "outputId": "528c6033-17e0-4ca7-cc75-4c06a60c5b6a"
      },
      "source": [
        "d = dict()\n",
        "print(d)"
      ],
      "execution_count": null,
      "outputs": [
        {
          "output_type": "stream",
          "text": [
            "{}\n"
          ],
          "name": "stdout"
        }
      ]
    },
    {
      "cell_type": "code",
      "metadata": {
        "colab": {
          "base_uri": "https://localhost:8080/"
        },
        "id": "FlRwronn0Yeb",
        "outputId": "b53c582e-aa31-40a5-8325-1b14f370b013"
      },
      "source": [
        "numbers = {'three':3 , 'one':1 , 'nine':9, 'four':4}\n",
        "for key in numbers :\n",
        "    print(key, numbers[key])"
      ],
      "execution_count": null,
      "outputs": [
        {
          "output_type": "stream",
          "text": [
            "three 3\n",
            "one 1\n",
            "nine 9\n",
            "four 4\n"
          ],
          "name": "stdout"
        }
      ]
    },
    {
      "cell_type": "markdown",
      "metadata": {
        "id": "t7Hq09pkkSh4"
      },
      "source": [
        "### 辞書のitemsメソッド"
      ]
    },
    {
      "cell_type": "code",
      "metadata": {
        "colab": {
          "base_uri": "https://localhost:8080/"
        },
        "id": "WQ0D05aH0Z2b",
        "outputId": "b5b9a837-9bce-40d0-fd25-eb2835b48518"
      },
      "source": [
        "numbers = {'three':3 , 'one':1 , 'nine':9, 'four':4}\n",
        "for item in numbers.items():\n",
        "    print(item)"
      ],
      "execution_count": null,
      "outputs": [
        {
          "output_type": "stream",
          "text": [
            "('three', 3)\n",
            "('one', 1)\n",
            "('nine', 9)\n",
            "('four', 4)\n"
          ],
          "name": "stdout"
        }
      ]
    },
    {
      "cell_type": "markdown",
      "metadata": {
        "id": "qLM1toH4kgbq"
      },
      "source": [
        "### sorted組み込み関数"
      ]
    },
    {
      "cell_type": "code",
      "metadata": {
        "colab": {
          "base_uri": "https://localhost:8080/"
        },
        "id": "DPXyEVIw0fdq",
        "outputId": "e26cf707-ed9c-4fe1-8c78-27284df7ce94"
      },
      "source": [
        "t = (4, -2, 3, 10, -8, 1)\n",
        "print(sorted(t))\n",
        "print(type(sorted(t)))\n",
        "print(t)\n",
        "l = [1, -2, 8, 3, 23, 14]\n",
        "print(sorted(l))\n",
        "print(type(sorted(l)))\n",
        "print(l)"
      ],
      "execution_count": null,
      "outputs": [
        {
          "output_type": "stream",
          "text": [
            "[-8, -2, 1, 3, 4, 10]\n",
            "<class 'list'>\n",
            "(4, -2, 3, 10, -8, 1)\n",
            "[-2, 1, 3, 8, 14, 23]\n",
            "<class 'list'>\n",
            "[1, -2, 8, 3, 23, 14]\n"
          ],
          "name": "stdout"
        }
      ]
    },
    {
      "cell_type": "markdown",
      "metadata": {
        "id": "nw2hjVE4kfPW"
      },
      "source": [
        "### 辞書の要素をキーでソートする"
      ]
    },
    {
      "cell_type": "code",
      "metadata": {
        "colab": {
          "base_uri": "https://localhost:8080/"
        },
        "id": "LUSe_4wa0g4K",
        "outputId": "fdc385b2-35a1-44be-cf48-f0d02b56e500"
      },
      "source": [
        "numbers = {'three':3 , 'one':1 , 'nine':9, 'four':4}\n",
        "for item in sorted(numbers.items()):\n",
        "    print(item)"
      ],
      "execution_count": null,
      "outputs": [
        {
          "output_type": "stream",
          "text": [
            "('four', 4)\n",
            "('nine', 9)\n",
            "('one', 1)\n",
            "('three', 3)\n"
          ],
          "name": "stdout"
        }
      ]
    },
    {
      "cell_type": "markdown",
      "metadata": {
        "id": "ddI1hZ21kjo-"
      },
      "source": [
        "### 辞書の要素を値でソートする"
      ]
    },
    {
      "cell_type": "code",
      "metadata": {
        "colab": {
          "base_uri": "https://localhost:8080/"
        },
        "id": "PrDVPSKq0idi",
        "outputId": "40c46b9f-80a1-4398-e04e-62f1364f2a60"
      },
      "source": [
        "numbers = {'three':3 , 'one':1 , 'nine':9, 'four':4}\n",
        "for item in sorted(numbers.items(), key=lambda x: x[1]):\n",
        "    print(item)"
      ],
      "execution_count": null,
      "outputs": [
        {
          "output_type": "stream",
          "text": [
            "('one', 1)\n",
            "('three', 3)\n",
            "('four', 4)\n",
            "('nine', 9)\n"
          ],
          "name": "stdout"
        }
      ]
    },
    {
      "cell_type": "markdown",
      "metadata": {
        "id": "uwrwGkk9kuMR"
      },
      "source": [
        "### getメソッド"
      ]
    },
    {
      "cell_type": "code",
      "metadata": {
        "colab": {
          "base_uri": "https://localhost:8080/"
        },
        "id": "vtfT1d650qBy",
        "outputId": "68f610d4-eb54-4d32-c05f-f14f565a32bd"
      },
      "source": [
        "freq = dict() #空の辞書\n",
        "l = ['a', 'b', 'a', 'a', 'c', 'b', 'c']\n",
        "for e in l:\n",
        "    freq[e] = freq.get(e, 0) + 1 #右辺がfreq[e] + 1だとエラー\n",
        "print(freq)"
      ],
      "execution_count": null,
      "outputs": [
        {
          "output_type": "stream",
          "text": [
            "{'a': 3, 'b': 2, 'c': 2}\n"
          ],
          "name": "stdout"
        }
      ]
    },
    {
      "cell_type": "markdown",
      "metadata": {
        "id": "TkDxUIJAkmRG"
      },
      "source": [
        "## 補足：予約語lambda"
      ]
    },
    {
      "cell_type": "code",
      "metadata": {
        "colab": {
          "base_uri": "https://localhost:8080/"
        },
        "id": "I9h5cmSP0kEq",
        "outputId": "dd1449ac-f20c-4c35-baa5-2a6d9e4d3cf9"
      },
      "source": [
        "def applyFunc(x, func):\n",
        "    return func(x)\n",
        "\n",
        "print(applyFunc(3, lambda x: x**2))"
      ],
      "execution_count": null,
      "outputs": [
        {
          "output_type": "stream",
          "text": [
            "9\n"
          ],
          "name": "stdout"
        }
      ]
    },
    {
      "cell_type": "markdown",
      "metadata": {
        "id": "4t8eT3Jikoe1"
      },
      "source": [
        "## 補足：高階関数map"
      ]
    },
    {
      "cell_type": "code",
      "metadata": {
        "colab": {
          "base_uri": "https://localhost:8080/"
        },
        "id": "6hOtwdtm0lfy",
        "outputId": "dc38bccb-d4ef-41ec-a4e5-6a66b27c76fc"
      },
      "source": [
        "ans = map(abs, range(-10, 11, 2))\n",
        "for e in ans:\n",
        "    print(e, end=' ')\n",
        "print()"
      ],
      "execution_count": null,
      "outputs": [
        {
          "output_type": "stream",
          "text": [
            "10 8 6 4 2 0 2 4 6 8 10 \n"
          ],
          "name": "stdout"
        }
      ]
    },
    {
      "cell_type": "code",
      "metadata": {
        "colab": {
          "base_uri": "https://localhost:8080/"
        },
        "id": "ujloBBOR0nNi",
        "outputId": "a676e5c7-9065-452e-8d95-8b3ddb166254"
      },
      "source": [
        "for e in map(lambda x: x//2, range(-10, 11, 2)):\n",
        "    print(e, end=' ')\n",
        "print()"
      ],
      "execution_count": null,
      "outputs": [
        {
          "output_type": "stream",
          "text": [
            "-5 -4 -3 -2 -1 0 1 2 3 4 5 \n"
          ],
          "name": "stdout"
        }
      ]
    },
    {
      "cell_type": "markdown",
      "metadata": {
        "id": "QjUILhrRkrsq"
      },
      "source": [
        "## 補足：文字列のsplitメソッド"
      ]
    },
    {
      "cell_type": "code",
      "metadata": {
        "colab": {
          "base_uri": "https://localhost:8080/"
        },
        "id": "sqdfnVy30oVi",
        "outputId": "7e36b285-4318-450f-b768-b1624b1ca0ae"
      },
      "source": [
        "text = 'Donald Trump has his sights set on Amazon. He is reportedly “obsessed” with the internet commerce giant, and as is his wont, spent Thursday morning tweeting about it. And it’s not because he loves online shopping.'\n",
        "word_seq = text.split()\n",
        "for word in word_seq:\n",
        "    print(word)"
      ],
      "execution_count": null,
      "outputs": [
        {
          "output_type": "stream",
          "text": [
            "Donald\n",
            "Trump\n",
            "has\n",
            "his\n",
            "sights\n",
            "set\n",
            "on\n",
            "Amazon.\n",
            "He\n",
            "is\n",
            "reportedly\n",
            "“obsessed”\n",
            "with\n",
            "the\n",
            "internet\n",
            "commerce\n",
            "giant,\n",
            "and\n",
            "as\n",
            "is\n",
            "his\n",
            "wont,\n",
            "spent\n",
            "Thursday\n",
            "morning\n",
            "tweeting\n",
            "about\n",
            "it.\n",
            "And\n",
            "it’s\n",
            "not\n",
            "because\n",
            "he\n",
            "loves\n",
            "online\n",
            "shopping.\n"
          ],
          "name": "stdout"
        }
      ]
    },
    {
      "cell_type": "markdown",
      "metadata": {
        "id": "qy5aq0R5k-ny"
      },
      "source": [
        "## クラスの定義"
      ]
    },
    {
      "cell_type": "code",
      "metadata": {
        "id": "8yfVnKTl0rsI"
      },
      "source": [
        "class Greeter(object):\n",
        "\n",
        "    def __init__(self, name):\n",
        "        self.name = name\n",
        "\n",
        "    def greet(self, loud=False):\n",
        "        if loud:\n",
        "            print(f'HELLO, {self.name.upper()}!')\n",
        "        else:\n",
        "            print(f'Hello, {self.name}')"
      ],
      "execution_count": null,
      "outputs": []
    },
    {
      "cell_type": "markdown",
      "metadata": {
        "id": "Jf5q1h_QlBvH"
      },
      "source": [
        "### インスタンスの作成"
      ]
    },
    {
      "cell_type": "code",
      "metadata": {
        "id": "lYu7hf890tJh"
      },
      "source": [
        "g = Greeter('Fred')"
      ],
      "execution_count": null,
      "outputs": []
    },
    {
      "cell_type": "markdown",
      "metadata": {
        "id": "t1Fsx0BalEH3"
      },
      "source": [
        "### メソッドの呼出し"
      ]
    },
    {
      "cell_type": "code",
      "metadata": {
        "colab": {
          "base_uri": "https://localhost:8080/"
        },
        "id": "vdstALIZ0uxa",
        "outputId": "21594cf8-e019-4b71-b778-764d9bc3620c"
      },
      "source": [
        "g.greet()\n",
        "g.greet(loud=True)"
      ],
      "execution_count": null,
      "outputs": [
        {
          "output_type": "stream",
          "text": [
            "Hello, Fred\n",
            "HELLO, FRED!\n"
          ],
          "name": "stdout"
        }
      ]
    },
    {
      "cell_type": "markdown",
      "metadata": {
        "id": "dC1Pn6N101tN"
      },
      "source": [
        "## 課題４\n",
        "* 適当な英文ニュース記事から本文だけをコピー・アンド・ペーストし、テキストファイルnews.txtを作っておく\n",
        "* このテキストファイルnews.txtをopenし、読み込み、以下の処理をするコードをPythonで書く\n",
        " * 記事にどの単語が何回出現するかを、単語の出現回数の降順でソートして表示する。"
      ]
    },
    {
      "cell_type": "code",
      "metadata": {
        "id": "5rtXSivo0v-B"
      },
      "source": [
        ""
      ],
      "execution_count": null,
      "outputs": []
    }
  ]
}