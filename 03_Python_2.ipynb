{
  "nbformat": 4,
  "nbformat_minor": 0,
  "metadata": {
    "colab": {
      "name": "03_Python_2.ipynb",
      "provenance": [],
      "collapsed_sections": [],
      "authorship_tag": "ABX9TyMrpldRYBITA4VabZaAffo4",
      "include_colab_link": true
    },
    "kernelspec": {
      "name": "python3",
      "display_name": "Python 3"
    },
    "language_info": {
      "name": "python"
    }
  },
  "cells": [
    {
      "cell_type": "markdown",
      "metadata": {
        "id": "view-in-github",
        "colab_type": "text"
      },
      "source": [
        "<a href=\"https://colab.research.google.com/github/tomonari-masada/course2022-intro2ml/blob/main/03_Python_2.ipynb\" target=\"_parent\"><img src=\"https://colab.research.google.com/assets/colab-badge.svg\" alt=\"Open In Colab\"/></a>"
      ]
    },
    {
      "cell_type": "markdown",
      "metadata": {
        "id": "nnrbBOomw2H4"
      },
      "source": [
        "# Python入門（２）"
      ]
    },
    {
      "cell_type": "markdown",
      "metadata": {
        "id": "BKC1aUbuiAvC"
      },
      "source": [
        "## ループ（for文を使う）"
      ]
    },
    {
      "cell_type": "code",
      "metadata": {
        "colab": {
          "base_uri": "https://localhost:8080/"
        },
        "id": "ZePLcX9Sw1uZ",
        "outputId": "815285d2-0025-4686-c0c7-d8c5fa0c5f76"
      },
      "source": [
        "for i in range(6):\n",
        "  print(i)"
      ],
      "execution_count": null,
      "outputs": [
        {
          "output_type": "stream",
          "name": "stdout",
          "text": [
            "0\n",
            "1\n",
            "2\n",
            "3\n",
            "4\n",
            "5\n"
          ]
        }
      ]
    },
    {
      "cell_type": "code",
      "metadata": {
        "colab": {
          "base_uri": "https://localhost:8080/"
        },
        "id": "7lsv6XDww5kE",
        "outputId": "8dace205-b408-4df6-de0d-a7116671440d"
      },
      "source": [
        "x = 10\n",
        "for i in range(x):\n",
        "  print(i)"
      ],
      "execution_count": null,
      "outputs": [
        {
          "output_type": "stream",
          "name": "stdout",
          "text": [
            "0\n",
            "1\n",
            "2\n",
            "3\n",
            "4\n",
            "5\n",
            "6\n",
            "7\n",
            "8\n",
            "9\n"
          ]
        }
      ]
    },
    {
      "cell_type": "code",
      "metadata": {
        "colab": {
          "base_uri": "https://localhost:8080/"
        },
        "id": "SRAwafrow7M0",
        "outputId": "29848e94-37f4-46db-d46d-a0b0b7b3a9ac"
      },
      "source": [
        "for i in range(3, 70, 8):\n",
        "  print(i)"
      ],
      "execution_count": null,
      "outputs": [
        {
          "output_type": "stream",
          "name": "stdout",
          "text": [
            "3\n",
            "11\n",
            "19\n",
            "27\n",
            "35\n",
            "43\n",
            "51\n",
            "59\n",
            "67\n"
          ]
        }
      ]
    },
    {
      "cell_type": "code",
      "metadata": {
        "colab": {
          "base_uri": "https://localhost:8080/"
        },
        "id": "z34yEWFFw8fD",
        "outputId": "2d697c65-d86e-4baf-8e48-9d63311e71cc"
      },
      "source": [
        "s = 0\n",
        "for i in range(1, 101):\n",
        "  s += i\n",
        "  #s = s + i\n",
        "print(s)"
      ],
      "execution_count": null,
      "outputs": [
        {
          "output_type": "stream",
          "name": "stdout",
          "text": [
            "5050\n"
          ]
        }
      ]
    },
    {
      "cell_type": "markdown",
      "metadata": {
        "id": "dXuDdH1oiE-Q"
      },
      "source": [
        "## アサーション"
      ]
    },
    {
      "cell_type": "markdown",
      "metadata": {
        "id": "L16qSytSiIOL"
      },
      "source": [
        "* 与えられた条件が成り立っていないとき、エラーを出す\n",
        "* プログラムが期待通りの動きをしているかのチェックに使う"
      ]
    },
    {
      "cell_type": "code",
      "metadata": {
        "colab": {
          "base_uri": "https://localhost:8080/",
          "height": 260
        },
        "id": "aQBFVNcRw-JT",
        "outputId": "0ee02b1e-2c85-4f84-cbd1-694d4da4b5ad"
      },
      "source": [
        "x = int(input('非負の整数を入力してください: '))\n",
        "assert x >= 0 \n",
        "for a in range(x):\n",
        "    if a**2 >= x:\n",
        "        break\n",
        "if a**2 == x:\n",
        "    print(f'{a} is a square root of {x}.')"
      ],
      "execution_count": null,
      "outputs": [
        {
          "name": "stdout",
          "output_type": "stream",
          "text": [
            "非負の整数を入力してください: -100\n"
          ]
        },
        {
          "output_type": "error",
          "ename": "AssertionError",
          "evalue": "ignored",
          "traceback": [
            "\u001b[0;31m---------------------------------------------------------------------------\u001b[0m",
            "\u001b[0;31mAssertionError\u001b[0m                            Traceback (most recent call last)",
            "\u001b[0;32m<ipython-input-7-3763a956b63b>\u001b[0m in \u001b[0;36m<module>\u001b[0;34m()\u001b[0m\n\u001b[1;32m      1\u001b[0m \u001b[0mx\u001b[0m \u001b[0;34m=\u001b[0m \u001b[0mint\u001b[0m\u001b[0;34m(\u001b[0m\u001b[0minput\u001b[0m\u001b[0;34m(\u001b[0m\u001b[0;34m'非負の整数を入力してください: '\u001b[0m\u001b[0;34m)\u001b[0m\u001b[0;34m)\u001b[0m\u001b[0;34m\u001b[0m\u001b[0;34m\u001b[0m\u001b[0m\n\u001b[0;32m----> 2\u001b[0;31m \u001b[0;32massert\u001b[0m \u001b[0mx\u001b[0m \u001b[0;34m>=\u001b[0m \u001b[0;36m0\u001b[0m\u001b[0;34m\u001b[0m\u001b[0;34m\u001b[0m\u001b[0m\n\u001b[0m\u001b[1;32m      3\u001b[0m \u001b[0;32mfor\u001b[0m \u001b[0ma\u001b[0m \u001b[0;32min\u001b[0m \u001b[0mrange\u001b[0m\u001b[0;34m(\u001b[0m\u001b[0mx\u001b[0m\u001b[0;34m)\u001b[0m\u001b[0;34m:\u001b[0m\u001b[0;34m\u001b[0m\u001b[0;34m\u001b[0m\u001b[0m\n\u001b[1;32m      4\u001b[0m     \u001b[0;32mif\u001b[0m \u001b[0ma\u001b[0m\u001b[0;34m**\u001b[0m\u001b[0;36m2\u001b[0m \u001b[0;34m>=\u001b[0m \u001b[0mx\u001b[0m\u001b[0;34m:\u001b[0m\u001b[0;34m\u001b[0m\u001b[0;34m\u001b[0m\u001b[0m\n\u001b[1;32m      5\u001b[0m         \u001b[0;32mbreak\u001b[0m\u001b[0;34m\u001b[0m\u001b[0;34m\u001b[0m\u001b[0m\n",
            "\u001b[0;31mAssertionError\u001b[0m: "
          ]
        }
      ]
    },
    {
      "cell_type": "markdown",
      "metadata": {
        "id": "m6_aOseSiMiA"
      },
      "source": [
        "## シーケンスとしての文字列"
      ]
    },
    {
      "cell_type": "code",
      "source": [
        "for c in 'abcdefgh':\n",
        "  print(c)"
      ],
      "metadata": {
        "colab": {
          "base_uri": "https://localhost:8080/"
        },
        "id": "-BiCu7TKNs7t",
        "outputId": "f9d5c332-08f1-4858-e0d4-915b6c19abbe"
      },
      "execution_count": null,
      "outputs": [
        {
          "output_type": "stream",
          "name": "stdout",
          "text": [
            "a\n",
            "b\n",
            "c\n",
            "d\n",
            "e\n",
            "f\n",
            "g\n",
            "h\n"
          ]
        }
      ]
    },
    {
      "cell_type": "code",
      "metadata": {
        "colab": {
          "base_uri": "https://localhost:8080/"
        },
        "id": "RXtC1Goaw_4r",
        "outputId": "63971d4b-c5db-4f5d-c3bf-0df0ae694d2b"
      },
      "source": [
        "n = 0\n",
        "for c in 'abracadabra':\n",
        "    if c == 'a':\n",
        "        n += 1\n",
        "        # n = n + 1\n",
        "print(n)"
      ],
      "execution_count": null,
      "outputs": [
        {
          "output_type": "stream",
          "name": "stdout",
          "text": [
            "5\n"
          ]
        }
      ]
    },
    {
      "cell_type": "markdown",
      "metadata": {
        "id": "EiQ-lHpniPLP"
      },
      "source": [
        "## 関数定義の詳細"
      ]
    },
    {
      "cell_type": "code",
      "metadata": {
        "id": "k6ss_752xDzJ"
      },
      "source": [
        "def maxValue(x, y):\n",
        "    if x > y:\n",
        "        return x\n",
        "    else:\n",
        "        return y"
      ],
      "execution_count": null,
      "outputs": []
    },
    {
      "cell_type": "code",
      "metadata": {
        "colab": {
          "base_uri": "https://localhost:8080/"
        },
        "id": "9jvrnoU0xF7b",
        "outputId": "4162d20d-21c7-482b-ed01-04b19df31a73"
      },
      "source": [
        "a = maxValue(13, 8)\n",
        "print(a)"
      ],
      "execution_count": null,
      "outputs": [
        {
          "output_type": "stream",
          "name": "stdout",
          "text": [
            "13\n"
          ]
        }
      ]
    },
    {
      "cell_type": "code",
      "metadata": {
        "id": "H62HhnAVxOva"
      },
      "source": [
        "def printName(firstName, lastName, reverse):\n",
        "    if reverse:\n",
        "        print(lastName + ', ' + firstName)\n",
        "    else:\n",
        "        print(firstName + ' ' + lastName)"
      ],
      "execution_count": null,
      "outputs": []
    },
    {
      "cell_type": "code",
      "metadata": {
        "colab": {
          "base_uri": "https://localhost:8080/"
        },
        "id": "ZmDIX2tYxQ1L",
        "outputId": "d8b942ca-42da-4980-acb8-43224f7178fd"
      },
      "source": [
        "printName('Taro', 'Yamada', True)"
      ],
      "execution_count": null,
      "outputs": [
        {
          "output_type": "stream",
          "name": "stdout",
          "text": [
            "Yamada, Taro\n"
          ]
        }
      ]
    },
    {
      "cell_type": "code",
      "metadata": {
        "colab": {
          "base_uri": "https://localhost:8080/",
          "height": 172
        },
        "id": "j5pheTLCxTiK",
        "outputId": "6b049f7c-e383-4362-da5a-ae61da8fe7fc"
      },
      "source": [
        "printName('Taro', 'Yamada')"
      ],
      "execution_count": null,
      "outputs": [
        {
          "output_type": "error",
          "ename": "TypeError",
          "evalue": "ignored",
          "traceback": [
            "\u001b[0;31m---------------------------------------------------------------------------\u001b[0m",
            "\u001b[0;31mTypeError\u001b[0m                                 Traceback (most recent call last)",
            "\u001b[0;32m<ipython-input-17-ccc89bee49d9>\u001b[0m in \u001b[0;36m<module>\u001b[0;34m()\u001b[0m\n\u001b[0;32m----> 1\u001b[0;31m \u001b[0mprintName\u001b[0m\u001b[0;34m(\u001b[0m\u001b[0;34m'Taro'\u001b[0m\u001b[0;34m,\u001b[0m \u001b[0;34m'Yamada'\u001b[0m\u001b[0;34m)\u001b[0m\u001b[0;34m\u001b[0m\u001b[0;34m\u001b[0m\u001b[0m\n\u001b[0m",
            "\u001b[0;31mTypeError\u001b[0m: printName() missing 1 required positional argument: 'reverse'"
          ]
        }
      ]
    },
    {
      "cell_type": "code",
      "metadata": {
        "colab": {
          "base_uri": "https://localhost:8080/"
        },
        "id": "U2eo2ZCuxVUq",
        "outputId": "25675ce9-6889-4c82-f051-520beeaa9fd7"
      },
      "source": [
        "printName('Taro', 'Yamada', reverse=False)"
      ],
      "execution_count": null,
      "outputs": [
        {
          "output_type": "stream",
          "name": "stdout",
          "text": [
            "Taro Yamada\n"
          ]
        }
      ]
    },
    {
      "cell_type": "markdown",
      "metadata": {
        "id": "M6L1IqaFidhy"
      },
      "source": [
        "### デフォルト値"
      ]
    },
    {
      "cell_type": "code",
      "metadata": {
        "id": "2JCvKlyPxW7a"
      },
      "source": [
        "def printName(firstName, lastName, reverse=False):\n",
        "    if reverse:\n",
        "        print(lastName + ', ' + firstName)\n",
        "    else:\n",
        "        print(firstName + ' ' + lastName)"
      ],
      "execution_count": null,
      "outputs": []
    },
    {
      "cell_type": "code",
      "metadata": {
        "colab": {
          "base_uri": "https://localhost:8080/"
        },
        "id": "YNffn7VSxd76",
        "outputId": "805aedf7-2193-41cc-821a-d306eea7617d"
      },
      "source": [
        "printName('Taro', 'Yamada')"
      ],
      "execution_count": null,
      "outputs": [
        {
          "output_type": "stream",
          "name": "stdout",
          "text": [
            "Taro Yamada\n"
          ]
        }
      ]
    },
    {
      "cell_type": "markdown",
      "metadata": {
        "id": "P879qVkjigtO"
      },
      "source": [
        "### スコープ"
      ]
    },
    {
      "cell_type": "code",
      "metadata": {
        "colab": {
          "base_uri": "https://localhost:8080/"
        },
        "id": "y2Ydh-HOxfR6",
        "outputId": "16415e85-70c5-43e8-dfb8-2aec404489f6"
      },
      "source": [
        "def f(x):\n",
        "    y = 1\n",
        "    x = x + y\n",
        "    print('x =', x)\n",
        "    return x\n",
        "\n",
        "x, y = 3, 2\n",
        "z = f(x)\n",
        "print(f'x = {x}, y = {y}, z = {z}')"
      ],
      "execution_count": null,
      "outputs": [
        {
          "output_type": "stream",
          "name": "stdout",
          "text": [
            "x = 4\n",
            "x = 3, y = 2, z = 4\n"
          ]
        }
      ]
    },
    {
      "cell_type": "markdown",
      "metadata": {
        "id": "edY7FqjIikzm"
      },
      "source": [
        "### ドキュメンテーション\n",
        "* Pythonのコードのなかで、\"\"\"で囲まれた部分は、ドキュメンテーション文字列と呼ばれる\n",
        " * 例えば関数の仕様を説明するために用いる。\n",
        " * 組み込み関数helpでドキュメンテーション文字列にアクセスできる。"
      ]
    },
    {
      "cell_type": "code",
      "metadata": {
        "colab": {
          "base_uri": "https://localhost:8080/"
        },
        "id": "IhAT4dm2xhOZ",
        "outputId": "ecc1585c-15ee-4470-8c66-b1b0ea38cf27"
      },
      "source": [
        "def f(x):\n",
        "    \"\"\"xの値を表示する\"\"\"\n",
        "    print(x)\n",
        "\n",
        "help(f)"
      ],
      "execution_count": null,
      "outputs": [
        {
          "output_type": "stream",
          "text": [
            "Help on function f in module __main__:\n",
            "\n",
            "f(x)\n",
            "    xの値を表示する\n",
            "\n"
          ],
          "name": "stdout"
        }
      ]
    },
    {
      "cell_type": "markdown",
      "metadata": {
        "id": "DGok5X8CirjU"
      },
      "source": [
        "### 再帰呼出し"
      ]
    },
    {
      "cell_type": "code",
      "metadata": {
        "id": "zevrEgm6xjcx"
      },
      "source": [
        "def fact(n):\n",
        "    if n == 1:\n",
        "        return n\n",
        "    else:\n",
        "        return n * fact(n - 1)"
      ],
      "execution_count": null,
      "outputs": []
    },
    {
      "cell_type": "code",
      "metadata": {
        "colab": {
          "base_uri": "https://localhost:8080/"
        },
        "id": "C0bOQ8vLxlgZ",
        "outputId": "cb34fac8-1b22-4700-e983-7a76ac8a0db3"
      },
      "source": [
        "print(fact(8))"
      ],
      "execution_count": null,
      "outputs": [
        {
          "output_type": "stream",
          "text": [
            "40320\n"
          ],
          "name": "stdout"
        }
      ]
    },
    {
      "cell_type": "code",
      "metadata": {
        "id": "yW5Jv_qaxm6p"
      },
      "source": [
        "def fib(n):\n",
        "    if n == 0 or n == 1:\n",
        "        return 1\n",
        "    else:\n",
        "        return fib(n - 1) + fib(n - 2)"
      ],
      "execution_count": null,
      "outputs": []
    },
    {
      "cell_type": "code",
      "metadata": {
        "colab": {
          "base_uri": "https://localhost:8080/"
        },
        "id": "KkCel07OxocZ",
        "outputId": "b68d1ede-c3ee-4cad-a11f-fb93cbda4eec"
      },
      "source": [
        "for i in range(11):\n",
        "    print(fib(i), end=',')\n",
        "print()"
      ],
      "execution_count": null,
      "outputs": [
        {
          "output_type": "stream",
          "text": [
            "1,1,2,3,5,8,13,21,34,55,89,\n"
          ],
          "name": "stdout"
        }
      ]
    },
    {
      "cell_type": "markdown",
      "metadata": {
        "id": "P6lOTgljiweU"
      },
      "source": [
        "## 補足：print関数のend仮引数"
      ]
    },
    {
      "cell_type": "code",
      "metadata": {
        "colab": {
          "base_uri": "https://localhost:8080/"
        },
        "id": "z0bjRT2JxqAY",
        "outputId": "95cf47ca-3964-4ec1-bd33-89337edc6443"
      },
      "source": [
        "print('a', end='')\n",
        "print('b', end=' ')\n",
        "print('c', end='---')\n",
        "print('d')\n",
        "print('e')"
      ],
      "execution_count": null,
      "outputs": [
        {
          "output_type": "stream",
          "text": [
            "ab c---d\n",
            "e\n"
          ],
          "name": "stdout"
        }
      ]
    },
    {
      "cell_type": "markdown",
      "metadata": {
        "id": "jmIEmh7fi16s"
      },
      "source": [
        "## ファイルの読み書き"
      ]
    },
    {
      "cell_type": "markdown",
      "source": [
        "'w': writeの意味。"
      ],
      "metadata": {
        "id": "aSPQLhwbT5kV"
      }
    },
    {
      "cell_type": "code",
      "metadata": {
        "colab": {
          "base_uri": "https://localhost:8080/"
        },
        "id": "ZRvKC4Ztxrxh",
        "outputId": "864ed448-4dac-43a6-fb59-89779d356810"
      },
      "source": [
        "f = open('text.txt', 'w') # ファイルを開く\n",
        "for i in range(5):\n",
        "    line = input('Enter string: ')\n",
        "    f.write(line + '\\n') # 「\\」 バックスラッシュ\n",
        "f.close()"
      ],
      "execution_count": null,
      "outputs": [
        {
          "name": "stdout",
          "output_type": "stream",
          "text": [
            "Enter string: efeqef\n",
            "Enter string: 94rij23r\n",
            "Enter string: sdfag\n",
            "Enter string: 4rgag\n",
            "Enter string: qrewfwef\n"
          ]
        }
      ]
    },
    {
      "cell_type": "markdown",
      "source": [
        "'r': readの意味"
      ],
      "metadata": {
        "id": "zCg3shh1VsTg"
      }
    },
    {
      "cell_type": "code",
      "metadata": {
        "colab": {
          "base_uri": "https://localhost:8080/"
        },
        "id": "W740VjRzxwkA",
        "outputId": "3378a918-44a2-4cf7-df53-d0812c52e5ec"
      },
      "source": [
        "myfile = open('text.txt', 'r')\n",
        "for line in myfile:\n",
        "    print(line)\n",
        "myfile.close()"
      ],
      "execution_count": null,
      "outputs": [
        {
          "output_type": "stream",
          "name": "stdout",
          "text": [
            "efeqef\n",
            "\n",
            "94rij23r\n",
            "\n",
            "sdfag\n",
            "\n",
            "4rgag\n",
            "\n",
            "qrewfwef\n",
            "\n"
          ]
        }
      ]
    },
    {
      "cell_type": "code",
      "metadata": {
        "colab": {
          "base_uri": "https://localhost:8080/"
        },
        "id": "USDr1CWJx0mH",
        "outputId": "955e8253-2dd2-43b0-f0a9-92ef51e8b14e"
      },
      "source": [
        "f = open('text.txt', 'r')\n",
        "for line in f:\n",
        "    line = line.strip() # メソッド\n",
        "    print(line)\n",
        "f.close()"
      ],
      "execution_count": null,
      "outputs": [
        {
          "output_type": "stream",
          "name": "stdout",
          "text": [
            "efeqef\n",
            "94rij23r\n",
            "sdfag\n",
            "4rgag\n",
            "qrewfwef\n"
          ]
        }
      ]
    },
    {
      "cell_type": "markdown",
      "metadata": {
        "id": "F2Etjjhvi8UD"
      },
      "source": [
        "## Pythonの4つの構造型"
      ]
    },
    {
      "cell_type": "markdown",
      "metadata": {
        "id": "bL4yYdJTi9ej"
      },
      "source": [
        "* タプル\n",
        " * 文字列の一般化。不変な要素の列。\n",
        "* range\n",
        " * タプルと同じく不変な要素の列。ただし整数の列。（Python 2にはなかった。）\n",
        "* リスト\n",
        " * 可変なタプル\n",
        "* 辞書\n",
        " * 連想配列（添え字が数字でない配列）"
      ]
    },
    {
      "cell_type": "markdown",
      "metadata": {
        "id": "S1dpd3KIjE3k"
      },
      "source": [
        "### タプル(tuple)"
      ]
    },
    {
      "cell_type": "code",
      "metadata": {
        "colab": {
          "base_uri": "https://localhost:8080/"
        },
        "id": "c-hX3kGax4uA",
        "outputId": "44d9ac2d-d295-45cd-e10d-40b792396927"
      },
      "source": [
        "t1 = ()\n",
        "t2 = ('one', 2, 'three', 4)\n",
        "print(t1)\n",
        "print(t2)"
      ],
      "execution_count": null,
      "outputs": [
        {
          "output_type": "stream",
          "name": "stdout",
          "text": [
            "()\n",
            "('one', 2, 'three', 4)\n"
          ]
        }
      ]
    },
    {
      "cell_type": "code",
      "metadata": {
        "colab": {
          "base_uri": "https://localhost:8080/"
        },
        "id": "0_74orbnx6oX",
        "outputId": "219d5b62-f142-4daa-f68c-6424a0547e39"
      },
      "source": [
        "t3 = (123,)\n",
        "print(t3)"
      ],
      "execution_count": null,
      "outputs": [
        {
          "output_type": "stream",
          "name": "stdout",
          "text": [
            "(123,)\n"
          ]
        }
      ]
    },
    {
      "cell_type": "code",
      "source": [
        "t4 = (123) # タプルではない\n",
        "print(t4)"
      ],
      "metadata": {
        "colab": {
          "base_uri": "https://localhost:8080/"
        },
        "id": "UjfUA1BeaaD1",
        "outputId": "c60b602e-d431-49ec-e399-32e33a29d2f4"
      },
      "execution_count": null,
      "outputs": [
        {
          "output_type": "stream",
          "name": "stdout",
          "text": [
            "123\n"
          ]
        }
      ]
    },
    {
      "cell_type": "code",
      "metadata": {
        "colab": {
          "base_uri": "https://localhost:8080/"
        },
        "id": "3-9XSOyTx7_X",
        "outputId": "32be99a9-d7fd-4c13-9ba1-993bc5f14b51"
      },
      "source": [
        "t = tuple()\n",
        "print(t)"
      ],
      "execution_count": null,
      "outputs": [
        {
          "output_type": "stream",
          "name": "stdout",
          "text": [
            "()\n"
          ]
        }
      ]
    },
    {
      "cell_type": "code",
      "metadata": {
        "colab": {
          "base_uri": "https://localhost:8080/"
        },
        "id": "ExiSxRlpx-Cn",
        "outputId": "c40feb7a-0d7f-47da-ad95-2b990cc4b0b8"
      },
      "source": [
        "t1 = ('one', 2, 'three', 4)\n",
        "t2 = (0, t1, 'five')\n",
        "print(t2)\n",
        "print(t1 + t2)\n",
        "print((t1 + t2)[2])\n",
        "print((t1 + t2)[1:4])"
      ],
      "execution_count": null,
      "outputs": [
        {
          "output_type": "stream",
          "name": "stdout",
          "text": [
            "(0, ('one', 2, 'three', 4), 'five')\n",
            "('one', 2, 'three', 4, 0, ('one', 2, 'three', 4), 'five')\n",
            "three\n",
            "(2, 'three', 4)\n"
          ]
        }
      ]
    },
    {
      "cell_type": "code",
      "metadata": {
        "colab": {
          "base_uri": "https://localhost:8080/"
        },
        "id": "pWw7sE99x_uv",
        "outputId": "be7be2a4-8a56-4660-abcf-343e74eae322"
      },
      "source": [
        "t1 = (2, 4, 6, 8, 10, 12, 14, 16, 18)\n",
        "t2 = (3, 6, 9, 12, 15, 18)\n",
        "for e in t1:\n",
        "    if e in t2: # 含まれるかどうかのチェック\n",
        "        print(e)"
      ],
      "execution_count": null,
      "outputs": [
        {
          "output_type": "stream",
          "name": "stdout",
          "text": [
            "6\n",
            "12\n",
            "18\n"
          ]
        }
      ]
    },
    {
      "cell_type": "markdown",
      "metadata": {
        "id": "_HWo0Pr1jIMQ"
      },
      "source": [
        "### 範囲(range)"
      ]
    },
    {
      "cell_type": "code",
      "metadata": {
        "colab": {
          "base_uri": "https://localhost:8080/"
        },
        "id": "JDvpZMKOyBau",
        "outputId": "4c3afb1b-d2c3-4be4-bf4f-5f6d5837e212"
      },
      "source": [
        "for i in range(21, 100, 7):\n",
        "    print(i)\n",
        "print()\n",
        "for i in range(100, 21, -7):\n",
        "    print(i)"
      ],
      "execution_count": null,
      "outputs": [
        {
          "output_type": "stream",
          "text": [
            "21\n",
            "28\n",
            "35\n",
            "42\n",
            "49\n",
            "56\n",
            "63\n",
            "70\n",
            "77\n",
            "84\n",
            "91\n",
            "98\n",
            "\n",
            "100\n",
            "93\n",
            "86\n",
            "79\n",
            "72\n",
            "65\n",
            "58\n",
            "51\n",
            "44\n",
            "37\n",
            "30\n",
            "23\n"
          ],
          "name": "stdout"
        }
      ]
    },
    {
      "cell_type": "markdown",
      "metadata": {
        "id": "B_4pwwM_jK2O"
      },
      "source": [
        "### リスト(list)"
      ]
    },
    {
      "cell_type": "code",
      "metadata": {
        "colab": {
          "base_uri": "https://localhost:8080/"
        },
        "id": "Z9sTk_9zyC9W",
        "outputId": "ae71fc64-374d-413d-d3e2-9a55d0e861a3"
      },
      "source": [
        "l1 = []\n",
        "l2 = ['one', 2, 'three', 4]\n",
        "print(l1)\n",
        "print(l2)"
      ],
      "execution_count": null,
      "outputs": [
        {
          "output_type": "stream",
          "name": "stdout",
          "text": [
            "[]\n",
            "['one', 2, 'three', 4]\n"
          ]
        }
      ]
    },
    {
      "cell_type": "code",
      "metadata": {
        "colab": {
          "base_uri": "https://localhost:8080/"
        },
        "id": "37ylEo32yGR-",
        "outputId": "b393fa32-aed6-49b2-8bc2-7812793f2043"
      },
      "source": [
        "l3 = [123]\n",
        "print(l3)"
      ],
      "execution_count": null,
      "outputs": [
        {
          "output_type": "stream",
          "name": "stdout",
          "text": [
            "[123]\n"
          ]
        }
      ]
    },
    {
      "cell_type": "code",
      "metadata": {
        "colab": {
          "base_uri": "https://localhost:8080/"
        },
        "id": "OJoiRfkDyHqm",
        "outputId": "c7eb0904-1d10-410e-b166-3ac435813406"
      },
      "source": [
        "l = []\n",
        "print(l)"
      ],
      "execution_count": null,
      "outputs": [
        {
          "output_type": "stream",
          "name": "stdout",
          "text": [
            "[]\n"
          ]
        }
      ]
    },
    {
      "cell_type": "code",
      "metadata": {
        "colab": {
          "base_uri": "https://localhost:8080/"
        },
        "id": "tDicZI6lyJk9",
        "outputId": "341672c6-d0bf-4f97-b747-90b3e07cdff9"
      },
      "source": [
        "l1 = [2, 4, 6, 8, 10, 12, 14, 16, 18]\n",
        "l2 = [3, 6, 9, 12, 15, 18]\n",
        "for e in l1:\n",
        "    if e in l2:\n",
        "        print(e)"
      ],
      "execution_count": null,
      "outputs": [
        {
          "output_type": "stream",
          "name": "stdout",
          "text": [
            "6\n",
            "12\n",
            "18\n"
          ]
        }
      ]
    },
    {
      "cell_type": "code",
      "source": [
        "print(l1)\n",
        "print(t1)"
      ],
      "metadata": {
        "colab": {
          "base_uri": "https://localhost:8080/"
        },
        "id": "iWvRBSRRcVWj",
        "outputId": "2498962c-0ce2-43f5-a676-1299da8847a7"
      },
      "execution_count": null,
      "outputs": [
        {
          "output_type": "stream",
          "name": "stdout",
          "text": [
            "[2, 4, 6, 8, 10, 12, 14, 16, 18]\n",
            "(2, 4, 6, 8, 10, 12, 14, 16, 18)\n"
          ]
        }
      ]
    },
    {
      "cell_type": "code",
      "source": [
        "l1[0] = 3\n",
        "print(l1)"
      ],
      "metadata": {
        "colab": {
          "base_uri": "https://localhost:8080/"
        },
        "id": "9yJX-Bs8ccP6",
        "outputId": "25b66aef-7bab-48cd-a3c6-7417a2a090de"
      },
      "execution_count": null,
      "outputs": [
        {
          "output_type": "stream",
          "name": "stdout",
          "text": [
            "[3, 4, 6, 8, 10, 12, 14, 16, 18]\n"
          ]
        }
      ]
    },
    {
      "cell_type": "code",
      "source": [
        "t1[0] = 3\n",
        "print(t1)"
      ],
      "metadata": {
        "colab": {
          "base_uri": "https://localhost:8080/",
          "height": 190
        },
        "id": "6-EhTxsIcitM",
        "outputId": "62332e8f-cd71-4229-b1a9-8479d0013dd1"
      },
      "execution_count": null,
      "outputs": [
        {
          "output_type": "error",
          "ename": "TypeError",
          "evalue": "ignored",
          "traceback": [
            "\u001b[0;31m---------------------------------------------------------------------------\u001b[0m",
            "\u001b[0;31mTypeError\u001b[0m                                 Traceback (most recent call last)",
            "\u001b[0;32m<ipython-input-46-dcdd176932ec>\u001b[0m in \u001b[0;36m<module>\u001b[0;34m()\u001b[0m\n\u001b[0;32m----> 1\u001b[0;31m \u001b[0mt1\u001b[0m\u001b[0;34m[\u001b[0m\u001b[0;36m0\u001b[0m\u001b[0;34m]\u001b[0m \u001b[0;34m=\u001b[0m \u001b[0;36m3\u001b[0m\u001b[0;34m\u001b[0m\u001b[0;34m\u001b[0m\u001b[0m\n\u001b[0m\u001b[1;32m      2\u001b[0m \u001b[0mprint\u001b[0m\u001b[0;34m(\u001b[0m\u001b[0mt1\u001b[0m\u001b[0;34m)\u001b[0m\u001b[0;34m\u001b[0m\u001b[0;34m\u001b[0m\u001b[0m\n",
            "\u001b[0;31mTypeError\u001b[0m: 'tuple' object does not support item assignment"
          ]
        }
      ]
    },
    {
      "cell_type": "markdown",
      "metadata": {
        "id": "SU4HkJ4ljkRJ"
      },
      "source": [
        "* 組み込み関数idを使うとオブジェクトの固有識別子が得られる\n"
      ]
    },
    {
      "cell_type": "code",
      "metadata": {
        "colab": {
          "base_uri": "https://localhost:8080/"
        },
        "id": "KBPRTwp1yLLm",
        "outputId": "0252dee5-ac1c-4186-8687-9dab475e07fe"
      },
      "source": [
        "v = ['onion', 'carrot']\n",
        "f = ['apple', 'orange', 'banana']\n",
        "l1 = [v, f]\n",
        "l2 = [['onion', 'carrot'], ['apple', 'orange', 'banana']]\n",
        "print(l1 == l2)\n",
        "print(id(l1) == id(l2))"
      ],
      "execution_count": null,
      "outputs": [
        {
          "output_type": "stream",
          "text": [
            "True\n",
            "False\n"
          ],
          "name": "stdout"
        }
      ]
    },
    {
      "cell_type": "markdown",
      "metadata": {
        "id": "6gqluWymjoOS"
      },
      "source": [
        "### リストのメソッド"
      ]
    },
    {
      "cell_type": "code",
      "metadata": {
        "colab": {
          "base_uri": "https://localhost:8080/"
        },
        "id": "I8xZGN1myMeW",
        "outputId": "cca304ee-54c1-4bbd-a8a9-bfcd33a3442a"
      },
      "source": [
        "l1 = [1,2,3]\n",
        "l2 = [4,5,6]\n",
        "l2.append(7)\n",
        "print(l2)\n",
        "l1.extend(l2)\n",
        "print(l1)\n",
        "l1.append(l2)\n",
        "print(l1)"
      ],
      "execution_count": null,
      "outputs": [
        {
          "output_type": "stream",
          "name": "stdout",
          "text": [
            "[4, 5, 6, 7]\n",
            "[1, 2, 3, 4, 5, 6, 7]\n",
            "[1, 2, 3, 4, 5, 6, 7, [4, 5, 6, 7]]\n"
          ]
        }
      ]
    },
    {
      "cell_type": "code",
      "metadata": {
        "colab": {
          "base_uri": "https://localhost:8080/",
          "height": 260
        },
        "id": "coCMpQeEyN7m",
        "outputId": "b0ab5994-5148-410c-9056-99045fe6e07f"
      },
      "source": [
        "l = [1,2,3,2,1,2,3,4,3,2,3,4,5]\n",
        "print(l.count(1))\n",
        "print(l.count(3))\n",
        "print(l.index(4)) # 最初に出てくる場所のインデックス\n",
        "print(l.index(10))"
      ],
      "execution_count": null,
      "outputs": [
        {
          "output_type": "stream",
          "name": "stdout",
          "text": [
            "2\n",
            "4\n",
            "7\n"
          ]
        },
        {
          "output_type": "error",
          "ename": "ValueError",
          "evalue": "ignored",
          "traceback": [
            "\u001b[0;31m---------------------------------------------------------------------------\u001b[0m",
            "\u001b[0;31mValueError\u001b[0m                                Traceback (most recent call last)",
            "\u001b[0;32m<ipython-input-49-d1f685432411>\u001b[0m in \u001b[0;36m<module>\u001b[0;34m()\u001b[0m\n\u001b[1;32m      3\u001b[0m \u001b[0mprint\u001b[0m\u001b[0;34m(\u001b[0m\u001b[0ml\u001b[0m\u001b[0;34m.\u001b[0m\u001b[0mcount\u001b[0m\u001b[0;34m(\u001b[0m\u001b[0;36m3\u001b[0m\u001b[0;34m)\u001b[0m\u001b[0;34m)\u001b[0m\u001b[0;34m\u001b[0m\u001b[0;34m\u001b[0m\u001b[0m\n\u001b[1;32m      4\u001b[0m \u001b[0mprint\u001b[0m\u001b[0;34m(\u001b[0m\u001b[0ml\u001b[0m\u001b[0;34m.\u001b[0m\u001b[0mindex\u001b[0m\u001b[0;34m(\u001b[0m\u001b[0;36m4\u001b[0m\u001b[0;34m)\u001b[0m\u001b[0;34m)\u001b[0m \u001b[0;31m# 最初に出てくる場所のインデックス\u001b[0m\u001b[0;34m\u001b[0m\u001b[0;34m\u001b[0m\u001b[0m\n\u001b[0;32m----> 5\u001b[0;31m \u001b[0mprint\u001b[0m\u001b[0;34m(\u001b[0m\u001b[0ml\u001b[0m\u001b[0;34m.\u001b[0m\u001b[0mindex\u001b[0m\u001b[0;34m(\u001b[0m\u001b[0;36m10\u001b[0m\u001b[0;34m)\u001b[0m\u001b[0;34m)\u001b[0m\u001b[0;34m\u001b[0m\u001b[0;34m\u001b[0m\u001b[0m\n\u001b[0m",
            "\u001b[0;31mValueError\u001b[0m: 10 is not in list"
          ]
        }
      ]
    },
    {
      "cell_type": "code",
      "metadata": {
        "colab": {
          "base_uri": "https://localhost:8080/"
        },
        "id": "xuhaPN3OyPrm",
        "outputId": "116f758d-0c3d-42b6-a72c-d727492bcf05"
      },
      "source": [
        "l = [1,2,3,2,1,2,3,4,3,2,3,4,5]\n",
        "l.sort()\n",
        "print(l)\n",
        "l.reverse()\n",
        "print(l)"
      ],
      "execution_count": null,
      "outputs": [
        {
          "output_type": "stream",
          "name": "stdout",
          "text": [
            "[1, 1, 2, 2, 2, 2, 3, 3, 3, 3, 4, 4, 5]\n",
            "[5, 4, 4, 3, 3, 3, 3, 2, 2, 2, 2, 1, 1]\n"
          ]
        }
      ]
    },
    {
      "cell_type": "code",
      "metadata": {
        "colab": {
          "base_uri": "https://localhost:8080/"
        },
        "id": "Em66HPnjyV6F",
        "outputId": "dd37a67d-a2ee-49d5-b9d3-c998a354ffad"
      },
      "source": [
        "l = [3, 6, 9, 12, 15, 18]\n",
        "l.insert(3, 10)\n",
        "print(l)\n",
        "l.remove(10)\n",
        "print(l)\n",
        "l.pop(4)\n",
        "print(l)"
      ],
      "execution_count": null,
      "outputs": [
        {
          "output_type": "stream",
          "text": [
            "[3, 6, 9, 10, 12, 15, 18]\n",
            "[3, 6, 9, 12, 15, 18]\n",
            "[3, 6, 9, 12, 18]\n"
          ],
          "name": "stdout"
        }
      ]
    },
    {
      "cell_type": "markdown",
      "metadata": {
        "id": "SKTjVQqTjtIX"
      },
      "source": [
        "### リスト内包(list comprehension)\n",
        "* 順序型のそれぞれの値に対し、特定の処理をおこない、その結果を要素として含むリストを作り出す方法\n"
      ]
    },
    {
      "cell_type": "code",
      "metadata": {
        "colab": {
          "base_uri": "https://localhost:8080/"
        },
        "id": "QgpN02aD0Sp0",
        "outputId": "0bb47499-b51b-46a0-9903-102992bc63dc"
      },
      "source": [
        "l = [x**3 for x in range(2, 10, 3)]\n",
        "print(l)\n",
        "l = [x for x in range(-10, 10) if x%2 == 0]\n",
        "print(l)\n",
        "words1 = ['apple', 'ball', 'banana', 'orange']\n",
        "words2 = [x for x in words1 if x.count('a') == 1]\n",
        "print(words2)\n",
        "words3 = [x for x in words1 for c in x if c == 'a']\n",
        "print(words3) #出力がなぜそうなるか説明してみよう"
      ],
      "execution_count": null,
      "outputs": [
        {
          "output_type": "stream",
          "text": [
            "[8, 125, 512]\n",
            "[-10, -8, -6, -4, -2, 0, 2, 4, 6, 8]\n",
            "['apple', 'ball', 'orange']\n",
            "['apple', 'ball', 'banana', 'banana', 'banana', 'orange']\n"
          ],
          "name": "stdout"
        }
      ]
    },
    {
      "cell_type": "code",
      "metadata": {
        "colab": {
          "base_uri": "https://localhost:8080/"
        },
        "id": "XIzHrPTg0UdL",
        "outputId": "e7c12907-d6ee-4888-f127-30f48b98effb"
      },
      "source": [
        "numbers = {'one':1, 'two':2, 'four':3, 'seven':7}\n",
        "print(numbers)\n",
        "print(numbers['four'])\n",
        "numbers['seven'] = 70 #値を上書き\n",
        "print(numbers['seven'])\n",
        "numbers['six'] = 6 #新たに追加\n",
        "print(numbers['six'])\n",
        "print('six' in numbers) #キーがあるかどうか調べる"
      ],
      "execution_count": null,
      "outputs": [
        {
          "output_type": "stream",
          "text": [
            "{'one': 1, 'two': 2, 'four': 3, 'seven': 7}\n",
            "3\n",
            "70\n",
            "6\n",
            "True\n"
          ],
          "name": "stdout"
        }
      ]
    },
    {
      "cell_type": "markdown",
      "metadata": {
        "id": "6-LfUYbaj4qa"
      },
      "source": [
        "## 順序型に対する操作のまとめ\n",
        "* `seq[i]`は順序型のi番目の要素（ただし、最初の要素は0番目）\n",
        "* `len(seq)`は順序型の長さ\n",
        "* `seq1 + seq2`は二つの順序型を連結する（範囲型では使用不可）\n",
        "* `n * seq`は`seq`を`n`回繰り返した順序型（範囲型では使用不可）\n",
        "* `seq[start:end]`は順序型のスライス\n",
        "* `e in seq`は`e`が順序型の要素である場合`True`、それ以外`False`\n",
        "* `e not in seq`は`e`が順序型の要素でない場合`True`、それ以外`False`\n",
        "* `for e in seq`は順序型の要素を反復して取り出す\n"
      ]
    },
    {
      "cell_type": "markdown",
      "metadata": {
        "id": "JUtPMEJJkPSc"
      },
      "source": [
        "## 辞書"
      ]
    },
    {
      "cell_type": "code",
      "metadata": {
        "colab": {
          "base_uri": "https://localhost:8080/"
        },
        "id": "A4QfcvZq0WMb",
        "outputId": "00b63daa-80c8-4452-df1d-49568479598b"
      },
      "source": [
        "d = {}\n",
        "print(d)"
      ],
      "execution_count": 7,
      "outputs": [
        {
          "output_type": "stream",
          "name": "stdout",
          "text": [
            "{}\n"
          ]
        }
      ]
    },
    {
      "cell_type": "code",
      "source": [
        "d['seven'] = 7"
      ],
      "metadata": {
        "id": "hHPn2C9XQAip"
      },
      "execution_count": 8,
      "outputs": []
    },
    {
      "cell_type": "code",
      "source": [
        "print(d)"
      ],
      "metadata": {
        "colab": {
          "base_uri": "https://localhost:8080/"
        },
        "id": "5jrJJlJjQF7L",
        "outputId": "d3ec93b1-baec-4d00-9873-46413831e435"
      },
      "execution_count": 9,
      "outputs": [
        {
          "output_type": "stream",
          "name": "stdout",
          "text": [
            "{'seven': 7}\n"
          ]
        }
      ]
    },
    {
      "cell_type": "code",
      "source": [
        "d['ten'] = 10"
      ],
      "metadata": {
        "id": "DGyn-PkrQKeD"
      },
      "execution_count": 10,
      "outputs": []
    },
    {
      "cell_type": "code",
      "source": [
        "print(d)"
      ],
      "metadata": {
        "colab": {
          "base_uri": "https://localhost:8080/"
        },
        "id": "kxxKdf_TQMuV",
        "outputId": "314f5cec-8c3b-4af0-9a79-e42dfbce25c6"
      },
      "execution_count": 11,
      "outputs": [
        {
          "output_type": "stream",
          "name": "stdout",
          "text": [
            "{'seven': 7, 'ten': 10}\n"
          ]
        }
      ]
    },
    {
      "cell_type": "code",
      "source": [
        "print(d['ten'])"
      ],
      "metadata": {
        "colab": {
          "base_uri": "https://localhost:8080/"
        },
        "id": "a0X2NsLYQZEa",
        "outputId": "6e4c4758-08ce-423a-ddea-623a21c207e0"
      },
      "execution_count": 12,
      "outputs": [
        {
          "output_type": "stream",
          "name": "stdout",
          "text": [
            "10\n"
          ]
        }
      ]
    },
    {
      "cell_type": "code",
      "source": [
        "a = [3,2,6]\n",
        "print(a[1])"
      ],
      "metadata": {
        "colab": {
          "base_uri": "https://localhost:8080/"
        },
        "id": "VHQeZxBHQbeE",
        "outputId": "b44c4ab9-c069-4e43-dc9d-4de19310f7b1"
      },
      "execution_count": 13,
      "outputs": [
        {
          "output_type": "stream",
          "name": "stdout",
          "text": [
            "2\n"
          ]
        }
      ]
    },
    {
      "cell_type": "markdown",
      "source": [
        "* 辞書は、キーと値のペアをたくさん含むデータ。"
      ],
      "metadata": {
        "id": "55Q6tOgZPAlP"
      }
    },
    {
      "cell_type": "code",
      "metadata": {
        "colab": {
          "base_uri": "https://localhost:8080/"
        },
        "id": "FlRwronn0Yeb",
        "outputId": "0a361d48-6b36-478a-bd81-1563484f83fd"
      },
      "source": [
        "numbers = {'three':3 , 'one':1 , 'nine':9, 'four':4}\n",
        "for key in numbers :\n",
        "  print(key, numbers[key])"
      ],
      "execution_count": 6,
      "outputs": [
        {
          "output_type": "stream",
          "name": "stdout",
          "text": [
            "three 3\n",
            "one 1\n",
            "nine 9\n",
            "four 4\n"
          ]
        }
      ]
    },
    {
      "cell_type": "code",
      "source": [
        "print(numbers['one'] == 1)"
      ],
      "metadata": {
        "colab": {
          "base_uri": "https://localhost:8080/"
        },
        "id": "hxdSrwr3PhOP",
        "outputId": "c6a414be-98c4-4aff-ca71-5c23af44a8c0"
      },
      "execution_count": 5,
      "outputs": [
        {
          "output_type": "stream",
          "name": "stdout",
          "text": [
            "True\n"
          ]
        }
      ]
    },
    {
      "cell_type": "markdown",
      "metadata": {
        "id": "t7Hq09pkkSh4"
      },
      "source": [
        "### 辞書のitemsメソッド"
      ]
    },
    {
      "cell_type": "code",
      "metadata": {
        "colab": {
          "base_uri": "https://localhost:8080/"
        },
        "id": "WQ0D05aH0Z2b",
        "outputId": "ddb6222c-941f-497a-ded2-b4c422672afe"
      },
      "source": [
        "numbers = {'three':3 , 'one':1 , 'nine':9, 'four':4}\n",
        "for item in numbers.items():\n",
        "    print(item)"
      ],
      "execution_count": 14,
      "outputs": [
        {
          "output_type": "stream",
          "name": "stdout",
          "text": [
            "('three', 3)\n",
            "('one', 1)\n",
            "('nine', 9)\n",
            "('four', 4)\n"
          ]
        }
      ]
    },
    {
      "cell_type": "code",
      "source": [
        "print(numbers.items())"
      ],
      "metadata": {
        "colab": {
          "base_uri": "https://localhost:8080/"
        },
        "id": "nyh1zN93Q1A4",
        "outputId": "10485544-385a-42a7-f749-85b5b732494a"
      },
      "execution_count": 15,
      "outputs": [
        {
          "output_type": "stream",
          "name": "stdout",
          "text": [
            "dict_items([('three', 3), ('one', 1), ('nine', 9), ('four', 4)])\n"
          ]
        }
      ]
    },
    {
      "cell_type": "code",
      "source": [
        "numbers = {'three':3 , 'one':1 , 'nine':9, 'four':4}\n",
        "for k, v in numbers.items():\n",
        "    print(k, v)"
      ],
      "metadata": {
        "colab": {
          "base_uri": "https://localhost:8080/"
        },
        "id": "z05BLO7wRGRD",
        "outputId": "12d6c458-ee5c-4240-d232-a79c20dfbaae"
      },
      "execution_count": 17,
      "outputs": [
        {
          "output_type": "stream",
          "name": "stdout",
          "text": [
            "three 3\n",
            "one 1\n",
            "nine 9\n",
            "four 4\n"
          ]
        }
      ]
    },
    {
      "cell_type": "code",
      "source": [
        "k, v = 'six', 6\n",
        "print(k, v)"
      ],
      "metadata": {
        "colab": {
          "base_uri": "https://localhost:8080/"
        },
        "id": "oMRXSYDWRc1E",
        "outputId": "d4313307-6df7-4599-c796-1a7f42827dc9"
      },
      "execution_count": 18,
      "outputs": [
        {
          "output_type": "stream",
          "name": "stdout",
          "text": [
            "six 6\n"
          ]
        }
      ]
    },
    {
      "cell_type": "markdown",
      "metadata": {
        "id": "qLM1toH4kgbq"
      },
      "source": [
        "### sorted組み込み関数"
      ]
    },
    {
      "cell_type": "code",
      "source": [
        "t = (4, -2, 3, 10, -8, 1)\n",
        "print(sorted(t))"
      ],
      "metadata": {
        "colab": {
          "base_uri": "https://localhost:8080/"
        },
        "id": "Z0P8gQPkSC_v",
        "outputId": "c100547c-e882-4fd1-ced8-c6bf3e19262d"
      },
      "execution_count": 19,
      "outputs": [
        {
          "output_type": "stream",
          "name": "stdout",
          "text": [
            "[-8, -2, 1, 3, 4, 10]\n"
          ]
        }
      ]
    },
    {
      "cell_type": "code",
      "source": [
        "type(sorted(t))"
      ],
      "metadata": {
        "colab": {
          "base_uri": "https://localhost:8080/"
        },
        "id": "vnNXs4FhSzC_",
        "outputId": "d04feaf6-dc17-4fa3-ba4e-1375a6201881"
      },
      "execution_count": 26,
      "outputs": [
        {
          "output_type": "execute_result",
          "data": {
            "text/plain": [
              "list"
            ]
          },
          "metadata": {},
          "execution_count": 26
        }
      ]
    },
    {
      "cell_type": "code",
      "source": [
        "print(t)"
      ],
      "metadata": {
        "colab": {
          "base_uri": "https://localhost:8080/"
        },
        "id": "tO8US8GESSBd",
        "outputId": "8764601c-4f42-4fd6-c4f5-8e83062958a5"
      },
      "execution_count": 20,
      "outputs": [
        {
          "output_type": "stream",
          "name": "stdout",
          "text": [
            "(4, -2, 3, 10, -8, 1)\n"
          ]
        }
      ]
    },
    {
      "cell_type": "code",
      "source": [
        "t2 = tuple(sorted(t))\n",
        "print(t2)"
      ],
      "metadata": {
        "colab": {
          "base_uri": "https://localhost:8080/"
        },
        "id": "YKAprpeSSaGY",
        "outputId": "5f8e2c65-c773-4ac7-e0b1-12b8b720f1c6"
      },
      "execution_count": 22,
      "outputs": [
        {
          "output_type": "stream",
          "name": "stdout",
          "text": [
            "(-8, -2, 1, 3, 4, 10)\n"
          ]
        }
      ]
    },
    {
      "cell_type": "code",
      "source": [
        "l = [1, -2, 8, 3, 23, 14]\n",
        "print(sorted(l))"
      ],
      "metadata": {
        "colab": {
          "base_uri": "https://localhost:8080/"
        },
        "id": "EFh7vRVlSm4G",
        "outputId": "b51e8688-562d-4bd8-d746-49b8f5329e36"
      },
      "execution_count": 23,
      "outputs": [
        {
          "output_type": "stream",
          "name": "stdout",
          "text": [
            "[-2, 1, 3, 8, 14, 23]\n"
          ]
        }
      ]
    },
    {
      "cell_type": "code",
      "source": [
        "l2 = sorted(l)\n",
        "print(l2)"
      ],
      "metadata": {
        "colab": {
          "base_uri": "https://localhost:8080/"
        },
        "id": "pGUce68BSqpg",
        "outputId": "270f6468-466e-43ca-9df7-d8b4bd497100"
      },
      "execution_count": 24,
      "outputs": [
        {
          "output_type": "stream",
          "name": "stdout",
          "text": [
            "[-2, 1, 3, 8, 14, 23]\n"
          ]
        }
      ]
    },
    {
      "cell_type": "code",
      "metadata": {
        "colab": {
          "base_uri": "https://localhost:8080/"
        },
        "id": "DPXyEVIw0fdq",
        "outputId": "e40b604f-84a3-4c0e-e032-7dd72c693b83"
      },
      "source": [
        "print(type(sorted(l)))"
      ],
      "execution_count": 25,
      "outputs": [
        {
          "output_type": "stream",
          "name": "stdout",
          "text": [
            "<class 'list'>\n"
          ]
        }
      ]
    },
    {
      "cell_type": "markdown",
      "metadata": {
        "id": "nw2hjVE4kfPW"
      },
      "source": [
        "### 辞書の要素をキーでソートする"
      ]
    },
    {
      "cell_type": "code",
      "metadata": {
        "colab": {
          "base_uri": "https://localhost:8080/"
        },
        "id": "LUSe_4wa0g4K",
        "outputId": "91bd40e6-7e78-4470-dc27-63a18f0ab7fe"
      },
      "source": [
        "numbers = {'three':3 , 'one':1 , 'nine':9, 'four':4}\n",
        "for item in sorted(numbers.items()):\n",
        "    print(item)"
      ],
      "execution_count": 27,
      "outputs": [
        {
          "output_type": "stream",
          "name": "stdout",
          "text": [
            "('four', 4)\n",
            "('nine', 9)\n",
            "('one', 1)\n",
            "('three', 3)\n"
          ]
        }
      ]
    },
    {
      "cell_type": "code",
      "source": [
        "sorted(numbers)"
      ],
      "metadata": {
        "colab": {
          "base_uri": "https://localhost:8080/"
        },
        "id": "a4yu1brCTOpY",
        "outputId": "a0bf4f17-af55-48eb-9e41-9eb000f6d70c"
      },
      "execution_count": 31,
      "outputs": [
        {
          "output_type": "execute_result",
          "data": {
            "text/plain": [
              "['four', 'nine', 'one', 'three']"
            ]
          },
          "metadata": {},
          "execution_count": 31
        }
      ]
    },
    {
      "cell_type": "code",
      "source": [
        "sorted(numbers.items())"
      ],
      "metadata": {
        "colab": {
          "base_uri": "https://localhost:8080/"
        },
        "id": "FX_yBzPATENL",
        "outputId": "6f4d9fad-9aef-4525-8f38-25313b453b81"
      },
      "execution_count": 30,
      "outputs": [
        {
          "output_type": "execute_result",
          "data": {
            "text/plain": [
              "[('four', 4), ('nine', 9), ('one', 1), ('three', 3)]"
            ]
          },
          "metadata": {},
          "execution_count": 30
        }
      ]
    },
    {
      "cell_type": "markdown",
      "metadata": {
        "id": "ddI1hZ21kjo-"
      },
      "source": [
        "### 辞書の要素を値でソートする"
      ]
    },
    {
      "cell_type": "code",
      "metadata": {
        "colab": {
          "base_uri": "https://localhost:8080/"
        },
        "id": "PrDVPSKq0idi",
        "outputId": "a621887e-5637-4d70-a58b-984bf815db3b"
      },
      "source": [
        "numbers = {'three':3 , 'one':1 , 'nine':9, 'four':4}\n",
        "for item in sorted(numbers.items(), key=lambda x: x[1]):\n",
        "    print(item)"
      ],
      "execution_count": 32,
      "outputs": [
        {
          "output_type": "stream",
          "name": "stdout",
          "text": [
            "('one', 1)\n",
            "('three', 3)\n",
            "('four', 4)\n",
            "('nine', 9)\n"
          ]
        }
      ]
    },
    {
      "cell_type": "code",
      "source": [
        "numbers['eight']"
      ],
      "metadata": {
        "colab": {
          "base_uri": "https://localhost:8080/",
          "height": 172
        },
        "id": "68Ih1Tc6UGaI",
        "outputId": "c0e48fa9-78c1-4c58-e177-f42d790cac4e"
      },
      "execution_count": 35,
      "outputs": [
        {
          "output_type": "error",
          "ename": "KeyError",
          "evalue": "ignored",
          "traceback": [
            "\u001b[0;31m---------------------------------------------------------------------------\u001b[0m",
            "\u001b[0;31mKeyError\u001b[0m                                  Traceback (most recent call last)",
            "\u001b[0;32m<ipython-input-35-353eb4e75c70>\u001b[0m in \u001b[0;36m<module>\u001b[0;34m()\u001b[0m\n\u001b[0;32m----> 1\u001b[0;31m \u001b[0mnumbers\u001b[0m\u001b[0;34m[\u001b[0m\u001b[0;34m'eight'\u001b[0m\u001b[0;34m]\u001b[0m\u001b[0;34m\u001b[0m\u001b[0;34m\u001b[0m\u001b[0m\n\u001b[0m",
            "\u001b[0;31mKeyError\u001b[0m: 'eight'"
          ]
        }
      ]
    },
    {
      "cell_type": "markdown",
      "metadata": {
        "id": "uwrwGkk9kuMR"
      },
      "source": [
        "### getメソッド"
      ]
    },
    {
      "cell_type": "code",
      "source": [
        "numbers.get('eight', 0)"
      ],
      "metadata": {
        "colab": {
          "base_uri": "https://localhost:8080/"
        },
        "id": "_FXAqgxzUCUr",
        "outputId": "dc1b66b3-9943-4821-80a6-48cfc54049dd"
      },
      "execution_count": 40,
      "outputs": [
        {
          "output_type": "execute_result",
          "data": {
            "text/plain": [
              "0"
            ]
          },
          "metadata": {},
          "execution_count": 40
        }
      ]
    },
    {
      "cell_type": "code",
      "metadata": {
        "colab": {
          "base_uri": "https://localhost:8080/"
        },
        "id": "vtfT1d650qBy",
        "outputId": "ab76d346-75b4-4a93-f890-6b277faaa676"
      },
      "source": [
        "freq = {} #空の辞書\n",
        "l = ['a', 'b', 'a', 'a', 'c', 'b', 'c']\n",
        "for e in l:\n",
        "    freq[e] = freq.get(e, 0) + 1 #右辺がfreq[e] + 1だとエラー\n",
        "    print(freq)\n",
        "print(freq)"
      ],
      "execution_count": 42,
      "outputs": [
        {
          "output_type": "stream",
          "name": "stdout",
          "text": [
            "{'a': 1}\n",
            "{'a': 1, 'b': 1}\n",
            "{'a': 2, 'b': 1}\n",
            "{'a': 3, 'b': 1}\n",
            "{'a': 3, 'b': 1, 'c': 1}\n",
            "{'a': 3, 'b': 2, 'c': 1}\n",
            "{'a': 3, 'b': 2, 'c': 2}\n",
            "{'a': 3, 'b': 2, 'c': 2}\n"
          ]
        }
      ]
    },
    {
      "cell_type": "markdown",
      "metadata": {
        "id": "TkDxUIJAkmRG"
      },
      "source": [
        "## 補足：予約語lambda"
      ]
    },
    {
      "cell_type": "code",
      "metadata": {
        "colab": {
          "base_uri": "https://localhost:8080/"
        },
        "id": "I9h5cmSP0kEq",
        "outputId": "dd1449ac-f20c-4c35-baa5-2a6d9e4d3cf9"
      },
      "source": [
        "def applyFunc(x, func):\n",
        "    return func(x)\n",
        "\n",
        "print(applyFunc(3, lambda x: x**2))"
      ],
      "execution_count": null,
      "outputs": [
        {
          "output_type": "stream",
          "text": [
            "9\n"
          ],
          "name": "stdout"
        }
      ]
    },
    {
      "cell_type": "markdown",
      "metadata": {
        "id": "4t8eT3Jikoe1"
      },
      "source": [
        "## 補足：高階関数map"
      ]
    },
    {
      "cell_type": "code",
      "metadata": {
        "colab": {
          "base_uri": "https://localhost:8080/"
        },
        "id": "6hOtwdtm0lfy",
        "outputId": "dc38bccb-d4ef-41ec-a4e5-6a66b27c76fc"
      },
      "source": [
        "ans = map(abs, range(-10, 11, 2))\n",
        "for e in ans:\n",
        "    print(e, end=' ')\n",
        "print()"
      ],
      "execution_count": null,
      "outputs": [
        {
          "output_type": "stream",
          "text": [
            "10 8 6 4 2 0 2 4 6 8 10 \n"
          ],
          "name": "stdout"
        }
      ]
    },
    {
      "cell_type": "code",
      "metadata": {
        "colab": {
          "base_uri": "https://localhost:8080/"
        },
        "id": "ujloBBOR0nNi",
        "outputId": "a676e5c7-9065-452e-8d95-8b3ddb166254"
      },
      "source": [
        "for e in map(lambda x: x//2, range(-10, 11, 2)):\n",
        "    print(e, end=' ')\n",
        "print()"
      ],
      "execution_count": null,
      "outputs": [
        {
          "output_type": "stream",
          "text": [
            "-5 -4 -3 -2 -1 0 1 2 3 4 5 \n"
          ],
          "name": "stdout"
        }
      ]
    },
    {
      "cell_type": "markdown",
      "metadata": {
        "id": "QjUILhrRkrsq"
      },
      "source": [
        "## 補足：文字列のsplitメソッド"
      ]
    },
    {
      "cell_type": "code",
      "source": [
        "s = \"This is a pen.\""
      ],
      "metadata": {
        "id": "b93SHntZZAnj"
      },
      "execution_count": 44,
      "outputs": []
    },
    {
      "cell_type": "code",
      "source": [
        "ss = s.lower()"
      ],
      "metadata": {
        "id": "ckEcfdLMZG2P"
      },
      "execution_count": 47,
      "outputs": []
    },
    {
      "cell_type": "code",
      "source": [
        "ss"
      ],
      "metadata": {
        "colab": {
          "base_uri": "https://localhost:8080/",
          "height": 35
        },
        "id": "I6mW8-JNZRx-",
        "outputId": "7dfb1358-39fb-4004-eccc-a6a2731d7f41"
      },
      "execution_count": 48,
      "outputs": [
        {
          "output_type": "execute_result",
          "data": {
            "text/plain": [
              "'this is a pen.'"
            ],
            "application/vnd.google.colaboratory.intrinsic+json": {
              "type": "string"
            }
          },
          "metadata": {},
          "execution_count": 48
        }
      ]
    },
    {
      "cell_type": "code",
      "source": [
        "sss = s.replace('pen', 'pencil')"
      ],
      "metadata": {
        "id": "o6bBICYtZZ0C"
      },
      "execution_count": 50,
      "outputs": []
    },
    {
      "cell_type": "code",
      "source": [
        "print(sss)"
      ],
      "metadata": {
        "colab": {
          "base_uri": "https://localhost:8080/"
        },
        "id": "uGIrNKssZlcC",
        "outputId": "aa7c70dd-ad80-4ec2-b70e-824168bb2da4"
      },
      "execution_count": 51,
      "outputs": [
        {
          "output_type": "stream",
          "name": "stdout",
          "text": [
            "This is a pencil.\n"
          ]
        }
      ]
    },
    {
      "cell_type": "code",
      "source": [
        "words = s.split()"
      ],
      "metadata": {
        "id": "WveJjYXqZubj"
      },
      "execution_count": 54,
      "outputs": []
    },
    {
      "cell_type": "code",
      "source": [
        "print(words)"
      ],
      "metadata": {
        "colab": {
          "base_uri": "https://localhost:8080/"
        },
        "id": "rkvytq4qZzt1",
        "outputId": "e6003eb1-7508-4ed3-a3e8-e1ac1ac042f9"
      },
      "execution_count": 57,
      "outputs": [
        {
          "output_type": "stream",
          "name": "stdout",
          "text": [
            "['This', 'is', 'a', 'pen.']\n"
          ]
        }
      ]
    },
    {
      "cell_type": "code",
      "source": [
        "s.replace('.', '')"
      ],
      "metadata": {
        "colab": {
          "base_uri": "https://localhost:8080/",
          "height": 35
        },
        "id": "Ud1CdqO2aRb6",
        "outputId": "dd300831-f224-4de6-a8c1-ec1d88c30ead"
      },
      "execution_count": 60,
      "outputs": [
        {
          "output_type": "execute_result",
          "data": {
            "text/plain": [
              "'This is a pen'"
            ],
            "application/vnd.google.colaboratory.intrinsic+json": {
              "type": "string"
            }
          },
          "metadata": {},
          "execution_count": 60
        }
      ]
    },
    {
      "cell_type": "code",
      "source": [
        "for word in s.lower().replace('.', '').split():\n",
        "  print(word)"
      ],
      "metadata": {
        "colab": {
          "base_uri": "https://localhost:8080/"
        },
        "id": "faSXFSPSZ-9n",
        "outputId": "dace1d48-1f6a-42df-c4b3-8e3cb1a6c27a"
      },
      "execution_count": 61,
      "outputs": [
        {
          "output_type": "stream",
          "name": "stdout",
          "text": [
            "this\n",
            "is\n",
            "a\n",
            "pen\n"
          ]
        }
      ]
    },
    {
      "cell_type": "code",
      "metadata": {
        "colab": {
          "base_uri": "https://localhost:8080/"
        },
        "id": "sqdfnVy30oVi",
        "outputId": "44c825a0-b5d9-448f-e846-0f2766017269"
      },
      "source": [
        "text = 'Donald Trump has his sights set on Amazon. He is reportedly “obsessed” with the internet commerce giant, and as is his wont, spent Thursday morning tweeting about it. And it’s not because he loves online shopping.'\n",
        "text = text.lower()\n",
        "text = text.replace('.', '')\n",
        "text = text.replace('“', '')\n",
        "text = text.replace('”', '')\n",
        "text = text.replace(',', '')\n",
        "word_seq = text.split()\n",
        "for word in word_seq:\n",
        "    print(word)"
      ],
      "execution_count": 68,
      "outputs": [
        {
          "output_type": "stream",
          "name": "stdout",
          "text": [
            "donald\n",
            "trump\n",
            "has\n",
            "his\n",
            "sights\n",
            "set\n",
            "on\n",
            "amazon\n",
            "he\n",
            "is\n",
            "reportedly\n",
            "obsessed\n",
            "with\n",
            "the\n",
            "internet\n",
            "commerce\n",
            "giant\n",
            "and\n",
            "as\n",
            "is\n",
            "his\n",
            "wont\n",
            "spent\n",
            "thursday\n",
            "morning\n",
            "tweeting\n",
            "about\n",
            "it\n",
            "and\n",
            "it’s\n",
            "not\n",
            "because\n",
            "he\n",
            "loves\n",
            "online\n",
            "shopping\n"
          ]
        }
      ]
    },
    {
      "cell_type": "markdown",
      "metadata": {
        "id": "qy5aq0R5k-ny"
      },
      "source": [
        "## クラスの定義"
      ]
    },
    {
      "cell_type": "code",
      "metadata": {
        "id": "8yfVnKTl0rsI"
      },
      "source": [
        "class Greeter(object):\n",
        "\n",
        "    def __init__(self, name):\n",
        "        self.name = name\n",
        "\n",
        "    def greet(self, loud=False):\n",
        "        if loud:\n",
        "            print(f'HELLO, {self.name.upper()}!')\n",
        "        else:\n",
        "            print(f'Hello, {self.name}')"
      ],
      "execution_count": null,
      "outputs": []
    },
    {
      "cell_type": "markdown",
      "metadata": {
        "id": "Jf5q1h_QlBvH"
      },
      "source": [
        "### インスタンスの作成"
      ]
    },
    {
      "cell_type": "code",
      "metadata": {
        "id": "lYu7hf890tJh"
      },
      "source": [
        "g = Greeter('Fred')"
      ],
      "execution_count": null,
      "outputs": []
    },
    {
      "cell_type": "markdown",
      "metadata": {
        "id": "t1Fsx0BalEH3"
      },
      "source": [
        "### メソッドの呼出し"
      ]
    },
    {
      "cell_type": "code",
      "metadata": {
        "colab": {
          "base_uri": "https://localhost:8080/"
        },
        "id": "vdstALIZ0uxa",
        "outputId": "21594cf8-e019-4b71-b778-764d9bc3620c"
      },
      "source": [
        "g.greet()\n",
        "g.greet(loud=True)"
      ],
      "execution_count": null,
      "outputs": [
        {
          "output_type": "stream",
          "text": [
            "Hello, Fred\n",
            "HELLO, FRED!\n"
          ],
          "name": "stdout"
        }
      ]
    },
    {
      "cell_type": "markdown",
      "metadata": {
        "id": "dC1Pn6N101tN"
      },
      "source": [
        "## 課題４\n",
        "* 適当な英文ニュース記事から本文だけをコピー・アンド・ペーストし、テキストファイルnews.txtを作っておく\n",
        "* このテキストファイルnews.txtをopenし、読み込み、以下の処理をするコードをPythonで書く\n",
        " * 記事にどの単語が何回出現するかを、単語の出現回数の降順でソートして表示する。"
      ]
    },
    {
      "cell_type": "code",
      "metadata": {
        "id": "5rtXSivo0v-B"
      },
      "source": [
        ""
      ],
      "execution_count": null,
      "outputs": []
    }
  ]
}