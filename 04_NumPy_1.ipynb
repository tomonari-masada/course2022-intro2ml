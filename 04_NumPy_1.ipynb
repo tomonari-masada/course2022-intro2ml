{
  "nbformat": 4,
  "nbformat_minor": 0,
  "metadata": {
    "colab": {
      "name": "04_NumPy_1.ipynb",
      "provenance": [],
      "collapsed_sections": [],
      "authorship_tag": "ABX9TyP3RMFfQMegApQZLolCyXhx",
      "include_colab_link": true
    },
    "kernelspec": {
      "name": "python3",
      "display_name": "Python 3"
    },
    "language_info": {
      "name": "python"
    }
  },
  "cells": [
    {
      "cell_type": "markdown",
      "metadata": {
        "id": "view-in-github",
        "colab_type": "text"
      },
      "source": [
        "<a href=\"https://colab.research.google.com/github/tomonari-masada/course2022-intro2ml/blob/main/04_NumPy_1.ipynb\" target=\"_parent\"><img src=\"https://colab.research.google.com/assets/colab-badge.svg\" alt=\"Open In Colab\"/></a>"
      ]
    },
    {
      "cell_type": "markdown",
      "metadata": {
        "id": "AHp3ueBza0PR"
      },
      "source": [
        "# モジュール、パッケージ、ライブラリ\n",
        "https://docs.python.org/3/tutorial/modules.html\n",
        "* \"A module is a file containing Python definitions and statements.\"\n",
        "* \"Packages are a way of structuring Python’s module namespace by using “dotted module names”.\""
      ]
    },
    {
      "cell_type": "markdown",
      "metadata": {
        "id": "iVXwFXEqeDkG"
      },
      "source": [
        "https://realpython.com/lessons/scripts-modules-packages-and-libraries/\n",
        "* \"A module is a Python file that’s intended to be imported into scripts or other modules.\"\n",
        "* \"A package is a collection of related modules that work together to provide certain functionality.\"\n",
        "* \"A library is an umbrella term that loosely means “a bundle of code.” These can have tens or even hundreds of individual modules that can provide a wide range of functionality.\""
      ]
    },
    {
      "cell_type": "markdown",
      "metadata": {
        "id": "Tlv9lakya36X"
      },
      "source": [
        "## mathモジュール"
      ]
    },
    {
      "cell_type": "code",
      "metadata": {
        "colab": {
          "base_uri": "https://localhost:8080/"
        },
        "id": "_ctew8faYguj",
        "outputId": "fa691d54-eeed-4d5e-c77c-136f9de20f50"
      },
      "source": [
        "import math\n",
        "\n",
        "a = 2.0\n",
        "b = math.sqrt(a)\n",
        "print(a, b)\n",
        "b = math.exp(a)\n",
        "print(a, b)"
      ],
      "execution_count": 1,
      "outputs": [
        {
          "output_type": "stream",
          "name": "stdout",
          "text": [
            "2.0 1.4142135623730951\n",
            "2.0 7.38905609893065\n"
          ]
        }
      ]
    },
    {
      "cell_type": "markdown",
      "metadata": {
        "id": "EN-O9_-ca5sA"
      },
      "source": [
        "## reモジュール\n",
        "* 正規表現"
      ]
    },
    {
      "cell_type": "code",
      "metadata": {
        "colab": {
          "base_uri": "https://localhost:8080/"
        },
        "id": "8x7ObOCtYhwU",
        "outputId": "032c387c-1301-40c1-d6b5-de7cd1c84b4e"
      },
      "source": [
        "import re\n",
        "\n",
        "s = 'one two one two'\n",
        "m = re.finditer('one', s)\n",
        "for match in m:\n",
        "  print(match.start())"
      ],
      "execution_count": null,
      "outputs": [
        {
          "output_type": "stream",
          "text": [
            "0\n",
            "8\n"
          ],
          "name": "stdout"
        }
      ]
    },
    {
      "cell_type": "markdown",
      "metadata": {
        "id": "Hfkm3naOa97O"
      },
      "source": [
        "# NumPyライブラリ"
      ]
    },
    {
      "cell_type": "markdown",
      "metadata": {
        "id": "4-ScijSFbDga"
      },
      "source": [
        "* ベクトルや行列を扱える（他にも様々な機能がある）\n",
        " * ベクトルどうしの内積\n",
        " * 行列とベクトルの積\n",
        " * 行列と行列の積\n",
        " * 逆行列\n",
        " \n",
        "* ndarrayという独自のデータ構造を使う\n",
        " * ちゃんとコードを書けば高速（ちゃんと書かないと遅い・・・）\n"
      ]
    },
    {
      "cell_type": "markdown",
      "metadata": {
        "id": "0swi2CAGbNiJ"
      },
      "source": [
        "## ndarray（NumPyの配列）の作り方"
      ]
    },
    {
      "cell_type": "markdown",
      "metadata": {
        "id": "omiKZwz5bhMN"
      },
      "source": [
        "### Pythonのリストから作る"
      ]
    },
    {
      "cell_type": "markdown",
      "source": [
        "* asは別名をつけるときに使う"
      ],
      "metadata": {
        "id": "NsvWJFhpfnu5"
      }
    },
    {
      "cell_type": "code",
      "source": [
        "import numpy as np"
      ],
      "metadata": {
        "id": "pSY2ZI6vflPR"
      },
      "execution_count": 3,
      "outputs": []
    },
    {
      "cell_type": "code",
      "source": [
        "a = np.array([-2.0, 1.0, 3.0])\n",
        "print(a)"
      ],
      "metadata": {
        "colab": {
          "base_uri": "https://localhost:8080/"
        },
        "id": "DJGQPlfefnO3",
        "outputId": "cfccfa66-ccb5-4e47-89f4-30c0a3cb0911"
      },
      "execution_count": 4,
      "outputs": [
        {
          "output_type": "stream",
          "name": "stdout",
          "text": [
            "[-2.  1.  3.]\n"
          ]
        }
      ]
    },
    {
      "cell_type": "code",
      "source": [
        "type(a)"
      ],
      "metadata": {
        "colab": {
          "base_uri": "https://localhost:8080/"
        },
        "id": "yCuKcOIzfw7c",
        "outputId": "717af155-785c-4e04-a307-130189cf2433"
      },
      "execution_count": 5,
      "outputs": [
        {
          "output_type": "execute_result",
          "data": {
            "text/plain": [
              "numpy.ndarray"
            ]
          },
          "metadata": {},
          "execution_count": 5
        }
      ]
    },
    {
      "cell_type": "code",
      "source": [
        "b = np.array([[1,2,3], [4,5,6]])\n",
        "print(b) # 2行3列の行列"
      ],
      "metadata": {
        "colab": {
          "base_uri": "https://localhost:8080/"
        },
        "id": "smcoFahKgTti",
        "outputId": "19584c6c-d0f1-4de7-93d6-555ae374dc0c"
      },
      "execution_count": 6,
      "outputs": [
        {
          "output_type": "stream",
          "name": "stdout",
          "text": [
            "[[1 2 3]\n",
            " [4 5 6]]\n"
          ]
        }
      ]
    },
    {
      "cell_type": "code",
      "metadata": {
        "colab": {
          "base_uri": "https://localhost:8080/"
        },
        "id": "srm7ORHZYqfp",
        "outputId": "8361db86-ff91-4334-b066-62f80df9187d"
      },
      "source": [
        "print(a.T) #ndarrayの属性の例（転置属性）\n",
        "print(b.T)"
      ],
      "execution_count": 7,
      "outputs": [
        {
          "output_type": "stream",
          "name": "stdout",
          "text": [
            "[-2.  1.  3.]\n",
            "[[1 4]\n",
            " [2 5]\n",
            " [3 6]]\n"
          ]
        }
      ]
    },
    {
      "cell_type": "code",
      "source": [
        "a = np.array([1, 2, 3])\n",
        "print(a * 3)\n",
        "print(a + 2)"
      ],
      "metadata": {
        "colab": {
          "base_uri": "https://localhost:8080/"
        },
        "id": "sA-RVy44hDa6",
        "outputId": "72b7bef9-7c9c-4a9a-9163-27160f371734"
      },
      "execution_count": 8,
      "outputs": [
        {
          "output_type": "stream",
          "name": "stdout",
          "text": [
            "[3 6 9]\n",
            "[3 4 5]\n"
          ]
        }
      ]
    },
    {
      "cell_type": "code",
      "source": [
        "b = np.array([2, 2, 0])\n",
        "print(a + b)"
      ],
      "metadata": {
        "colab": {
          "base_uri": "https://localhost:8080/"
        },
        "id": "MJZDFWGuhRVi",
        "outputId": "8035c025-9815-4108-f174-7587f866021c"
      },
      "execution_count": 9,
      "outputs": [
        {
          "output_type": "stream",
          "name": "stdout",
          "text": [
            "[3 4 3]\n"
          ]
        }
      ]
    },
    {
      "cell_type": "code",
      "source": [
        "print(a / b)"
      ],
      "metadata": {
        "colab": {
          "base_uri": "https://localhost:8080/"
        },
        "id": "EUbHBEglhbuo",
        "outputId": "a2e57988-1bc5-4d62-ba14-7e4189cc0f02"
      },
      "execution_count": 10,
      "outputs": [
        {
          "output_type": "stream",
          "name": "stdout",
          "text": [
            "[0.5 1.  inf]\n"
          ]
        },
        {
          "output_type": "stream",
          "name": "stderr",
          "text": [
            "/usr/local/lib/python3.7/dist-packages/ipykernel_launcher.py:1: RuntimeWarning: divide by zero encountered in true_divide\n",
            "  \"\"\"Entry point for launching an IPython kernel.\n"
          ]
        }
      ]
    },
    {
      "cell_type": "code",
      "source": [
        "print(a * b)"
      ],
      "metadata": {
        "colab": {
          "base_uri": "https://localhost:8080/"
        },
        "id": "ZkEcaqx5hs4S",
        "outputId": "b8948397-9bee-45c1-a280-0054396fd5f3"
      },
      "execution_count": 11,
      "outputs": [
        {
          "output_type": "stream",
          "name": "stdout",
          "text": [
            "[2 4 0]\n"
          ]
        }
      ]
    },
    {
      "cell_type": "code",
      "metadata": {
        "colab": {
          "base_uri": "https://localhost:8080/"
        },
        "id": "hlUvFI_mYyQh",
        "outputId": "74f273d9-45aa-4f6f-b028-dee851f4eb90"
      },
      "source": [
        "print(np.dot(a, b)) #内積"
      ],
      "execution_count": 12,
      "outputs": [
        {
          "output_type": "stream",
          "name": "stdout",
          "text": [
            "6\n"
          ]
        }
      ]
    },
    {
      "cell_type": "markdown",
      "metadata": {
        "id": "LPZn1uvTbQwL"
      },
      "source": [
        "### ndarrayの属性"
      ]
    },
    {
      "cell_type": "code",
      "metadata": {
        "colab": {
          "base_uri": "https://localhost:8080/"
        },
        "id": "zqnXK4utYvRC",
        "outputId": "836dcb19-18c4-40a7-f623-d8897323184c"
      },
      "source": [
        "a = np.array([-2.0, 1.0, 3.0])\n",
        "b = np.array([[1,2,3], [4,5,6]])\n",
        "\n",
        "print(type(a)) #ndarray自体のデータ型\n",
        "print(a.data) #メモリ上での位置\n",
        "print(a.dtype) #要素のデータ型\n",
        "print(a.size, b.size)\n",
        "print(a.itemsize, b.itemsize) #要素のサイズ\n",
        "print(a.ndim, b.ndim) #次元数\n",
        "print(a.shape, b.shape) #形状"
      ],
      "execution_count": null,
      "outputs": [
        {
          "output_type": "stream",
          "text": [
            "<class 'numpy.ndarray'>\n",
            "<memory at 0x7f8284125e20>\n",
            "float64\n",
            "3 6\n",
            "8 8\n",
            "1 2\n",
            "(3,) (2, 3)\n"
          ],
          "name": "stdout"
        }
      ]
    },
    {
      "cell_type": "markdown",
      "metadata": {
        "id": "Gn13GaIUbawK"
      },
      "source": [
        "### ndarrayの作り方のいろいろ"
      ]
    },
    {
      "cell_type": "code",
      "metadata": {
        "colab": {
          "base_uri": "https://localhost:8080/"
        },
        "id": "3f6iGuw6Yz-q",
        "outputId": "9e90cd7d-974d-4e1a-dfc1-f4c10df762b0"
      },
      "source": [
        "a = np.arange(10)\n",
        "print(a)\n",
        "b = np.arange(0, 10, 2)\n",
        "print(b)\n",
        "x = np.linspace(0, 10, 15) #0以上10以下を14等分\n",
        "print(x)"
      ],
      "execution_count": null,
      "outputs": [
        {
          "output_type": "stream",
          "text": [
            "[0 1 2 3 4 5 6 7 8 9]\n",
            "[0 2 4 6 8]\n",
            "[ 0.          0.71428571  1.42857143  2.14285714  2.85714286  3.57142857\n",
            "  4.28571429  5.          5.71428571  6.42857143  7.14285714  7.85714286\n",
            "  8.57142857  9.28571429 10.        ]\n"
          ],
          "name": "stdout"
        }
      ]
    },
    {
      "cell_type": "code",
      "metadata": {
        "colab": {
          "base_uri": "https://localhost:8080/",
          "height": 390
        },
        "id": "cTjr9VdUY58Z",
        "outputId": "d2908857-0b26-46df-c207-f88e4bea47db"
      },
      "source": [
        "print(np.random.randn()) #正規乱数\n",
        "a = np.random.randn(2, 3)\n",
        "print(a)\n",
        "b = np.random.randn(3, 4)\n",
        "print(b)\n",
        "print(np.dot(a, b))\n",
        "print(np.dot(b, a)) #エラー（なぜ？）"
      ],
      "execution_count": null,
      "outputs": [
        {
          "output_type": "stream",
          "text": [
            "-1.8687962289588549\n",
            "[[-0.39436078  0.27734775 -0.88736549]\n",
            " [-1.77245308 -0.79303935  0.30737081]]\n",
            "[[-0.50367708 -1.31490619  0.75246705  1.60233081]\n",
            " [-0.63253226  0.96931374  0.67786596 -0.8438199 ]\n",
            " [ 0.52690163  0.30870435 -1.5137633   0.91441156]]\n",
            "[[-0.44435523  0.51345083  1.23452242 -1.67734525]\n",
            " [ 1.55632115  1.65679228 -2.33657356 -1.88981038]]\n"
          ],
          "name": "stdout"
        },
        {
          "output_type": "error",
          "ename": "ValueError",
          "evalue": "ignored",
          "traceback": [
            "\u001b[0;31m---------------------------------------------------------------------------\u001b[0m",
            "\u001b[0;31mValueError\u001b[0m                                Traceback (most recent call last)",
            "\u001b[0;32m<ipython-input-7-d3ea415ca8b9>\u001b[0m in \u001b[0;36m<module>\u001b[0;34m()\u001b[0m\n\u001b[1;32m      5\u001b[0m \u001b[0mprint\u001b[0m\u001b[0;34m(\u001b[0m\u001b[0mb\u001b[0m\u001b[0;34m)\u001b[0m\u001b[0;34m\u001b[0m\u001b[0;34m\u001b[0m\u001b[0m\n\u001b[1;32m      6\u001b[0m \u001b[0mprint\u001b[0m\u001b[0;34m(\u001b[0m\u001b[0mnp\u001b[0m\u001b[0;34m.\u001b[0m\u001b[0mdot\u001b[0m\u001b[0;34m(\u001b[0m\u001b[0ma\u001b[0m\u001b[0;34m,\u001b[0m \u001b[0mb\u001b[0m\u001b[0;34m)\u001b[0m\u001b[0;34m)\u001b[0m\u001b[0;34m\u001b[0m\u001b[0;34m\u001b[0m\u001b[0m\n\u001b[0;32m----> 7\u001b[0;31m \u001b[0mprint\u001b[0m\u001b[0;34m(\u001b[0m\u001b[0mnp\u001b[0m\u001b[0;34m.\u001b[0m\u001b[0mdot\u001b[0m\u001b[0;34m(\u001b[0m\u001b[0mb\u001b[0m\u001b[0;34m,\u001b[0m \u001b[0ma\u001b[0m\u001b[0;34m)\u001b[0m\u001b[0;34m)\u001b[0m \u001b[0;31m#エラー（なぜ？）\u001b[0m\u001b[0;34m\u001b[0m\u001b[0;34m\u001b[0m\u001b[0m\n\u001b[0m",
            "\u001b[0;32m<__array_function__ internals>\u001b[0m in \u001b[0;36mdot\u001b[0;34m(*args, **kwargs)\u001b[0m\n",
            "\u001b[0;31mValueError\u001b[0m: shapes (3,4) and (2,3) not aligned: 4 (dim 1) != 2 (dim 0)"
          ]
        }
      ]
    },
    {
      "cell_type": "code",
      "metadata": {
        "colab": {
          "base_uri": "https://localhost:8080/"
        },
        "id": "juezWtTpY7fh",
        "outputId": "352cab76-254a-4df9-aaf3-a8900a153bb9"
      },
      "source": [
        "a = np.zeros((3,3)) #()で囲む必要あり\n",
        "print(a)\n",
        "b = np.ones((3,3))\n",
        "print(b)\n",
        "print(np.dot(b, b)) #なぜこうなる？\n",
        "\n",
        "c = np.full((2,2), 7)\n",
        "print(c)"
      ],
      "execution_count": null,
      "outputs": [
        {
          "output_type": "stream",
          "text": [
            "[[0. 0. 0.]\n",
            " [0. 0. 0.]\n",
            " [0. 0. 0.]]\n",
            "[[1. 1. 1.]\n",
            " [1. 1. 1.]\n",
            " [1. 1. 1.]]\n",
            "[[3. 3. 3.]\n",
            " [3. 3. 3.]\n",
            " [3. 3. 3.]]\n",
            "[[7 7]\n",
            " [7 7]]\n"
          ],
          "name": "stdout"
        }
      ]
    },
    {
      "cell_type": "markdown",
      "metadata": {
        "id": "YRd5MaWsbupX"
      },
      "source": [
        "## 配列の要素を指定する"
      ]
    },
    {
      "cell_type": "markdown",
      "metadata": {
        "id": "AIUg61oUb-lM"
      },
      "source": [
        "### インデックス"
      ]
    },
    {
      "cell_type": "code",
      "metadata": {
        "colab": {
          "base_uri": "https://localhost:8080/"
        },
        "id": "rzLp8AQHY9jB",
        "outputId": "a8914d28-a325-4190-ee1d-5ac0cd1e1d2c"
      },
      "source": [
        "a = np.arange(1, 20, 3)\n",
        "print(a)\n",
        "print(a[0])\n",
        "print(a[1])\n",
        "a[3] = 11\n",
        "print(a)\n",
        "c = np.array([[1,2,3],[4,5,6]])\n",
        "print(c)\n",
        "print(c[0,0])\n",
        "print(c[0,2])\n",
        "print(c[1,2])"
      ],
      "execution_count": null,
      "outputs": [
        {
          "output_type": "stream",
          "text": [
            "[ 1  4  7 10 13 16 19]\n",
            "1\n",
            "4\n",
            "[ 1  4  7 11 13 16 19]\n",
            "[[1 2 3]\n",
            " [4 5 6]]\n",
            "1\n",
            "3\n",
            "6\n"
          ],
          "name": "stdout"
        }
      ]
    },
    {
      "cell_type": "markdown",
      "metadata": {
        "id": "VGTRdkLDZIYJ"
      },
      "source": [
        "### 良くないコードの例"
      ]
    },
    {
      "cell_type": "code",
      "metadata": {
        "colab": {
          "base_uri": "https://localhost:8080/",
          "height": 318
        },
        "id": "Jn7bUVa6ZAPx",
        "outputId": "31cb328a-1f0b-4445-cb52-ecbdb80e51e1"
      },
      "source": [
        "import time\n",
        "import numpy as np\n",
        "\n",
        "x = np.ones(10000000)\n",
        "y = np.ones(10000000)\n",
        "s = np.zeros(10000000)\n",
        "for _ in range(10):\n",
        "  a = time.time()\n",
        "  for i in range(10000000):\n",
        "    s[i] = x[i] + y[i]\n",
        "  b = time.time()\n",
        "  print(b - a)"
      ],
      "execution_count": null,
      "outputs": [
        {
          "output_type": "stream",
          "text": [
            "5.791951894760132\n",
            "5.817140817642212\n",
            "5.843438625335693\n",
            "5.782164812088013\n"
          ],
          "name": "stdout"
        },
        {
          "output_type": "error",
          "ename": "KeyboardInterrupt",
          "evalue": "ignored",
          "traceback": [
            "\u001b[0;31m---------------------------------------------------------------------------\u001b[0m",
            "\u001b[0;31mKeyboardInterrupt\u001b[0m                         Traceback (most recent call last)",
            "\u001b[0;32m<ipython-input-10-6851f80d0f68>\u001b[0m in \u001b[0;36m<module>\u001b[0;34m()\u001b[0m\n\u001b[1;32m      8\u001b[0m   \u001b[0ma\u001b[0m \u001b[0;34m=\u001b[0m \u001b[0mtime\u001b[0m\u001b[0;34m.\u001b[0m\u001b[0mtime\u001b[0m\u001b[0;34m(\u001b[0m\u001b[0;34m)\u001b[0m\u001b[0;34m\u001b[0m\u001b[0;34m\u001b[0m\u001b[0m\n\u001b[1;32m      9\u001b[0m   \u001b[0;32mfor\u001b[0m \u001b[0mi\u001b[0m \u001b[0;32min\u001b[0m \u001b[0mrange\u001b[0m\u001b[0;34m(\u001b[0m\u001b[0;36m10000000\u001b[0m\u001b[0;34m)\u001b[0m\u001b[0;34m:\u001b[0m\u001b[0;34m\u001b[0m\u001b[0;34m\u001b[0m\u001b[0m\n\u001b[0;32m---> 10\u001b[0;31m     \u001b[0ms\u001b[0m\u001b[0;34m[\u001b[0m\u001b[0mi\u001b[0m\u001b[0;34m]\u001b[0m \u001b[0;34m=\u001b[0m \u001b[0mx\u001b[0m\u001b[0;34m[\u001b[0m\u001b[0mi\u001b[0m\u001b[0;34m]\u001b[0m \u001b[0;34m+\u001b[0m \u001b[0my\u001b[0m\u001b[0;34m[\u001b[0m\u001b[0mi\u001b[0m\u001b[0;34m]\u001b[0m\u001b[0;34m\u001b[0m\u001b[0;34m\u001b[0m\u001b[0m\n\u001b[0m\u001b[1;32m     11\u001b[0m   \u001b[0mb\u001b[0m \u001b[0;34m=\u001b[0m \u001b[0mtime\u001b[0m\u001b[0;34m.\u001b[0m\u001b[0mtime\u001b[0m\u001b[0;34m(\u001b[0m\u001b[0;34m)\u001b[0m\u001b[0;34m\u001b[0m\u001b[0;34m\u001b[0m\u001b[0m\n\u001b[1;32m     12\u001b[0m   \u001b[0mprint\u001b[0m\u001b[0;34m(\u001b[0m\u001b[0mb\u001b[0m \u001b[0;34m-\u001b[0m \u001b[0ma\u001b[0m\u001b[0;34m)\u001b[0m\u001b[0;34m\u001b[0m\u001b[0;34m\u001b[0m\u001b[0m\n",
            "\u001b[0;31mKeyboardInterrupt\u001b[0m: "
          ]
        }
      ]
    },
    {
      "cell_type": "markdown",
      "metadata": {
        "id": "rPzYF1AkZMom"
      },
      "source": [
        "* 上のセルのように書くより、こう書くほうが良い"
      ]
    },
    {
      "cell_type": "code",
      "metadata": {
        "colab": {
          "base_uri": "https://localhost:8080/"
        },
        "id": "7s8cFdShZQn-",
        "outputId": "0a905aea-5645-45c4-b98f-66d234fd793f"
      },
      "source": [
        "import time\n",
        "import numpy as np\n",
        "\n",
        "x = np.ones(10000000)\n",
        "y = np.ones(10000000)\n",
        "s = np.zeros(10000000)\n",
        "for _ in range(10):\n",
        "  a = time.time()\n",
        "  s = x + y\n",
        "  b = time.time()\n",
        "  print(b - a)"
      ],
      "execution_count": null,
      "outputs": [
        {
          "output_type": "stream",
          "text": [
            "0.025814056396484375\n",
            "0.021050214767456055\n",
            "0.027297496795654297\n",
            "0.021399974822998047\n",
            "0.026011943817138672\n",
            "0.02382183074951172\n",
            "0.026234149932861328\n",
            "0.02136087417602539\n",
            "0.025826215744018555\n",
            "0.023467540740966797\n"
          ],
          "name": "stdout"
        }
      ]
    },
    {
      "cell_type": "markdown",
      "metadata": {
        "id": "ku21YYlpb6I_"
      },
      "source": [
        "### スライシング"
      ]
    },
    {
      "cell_type": "code",
      "metadata": {
        "colab": {
          "base_uri": "https://localhost:8080/"
        },
        "id": "2V5VfCO4ZUrZ",
        "outputId": "30cb3261-4a28-4f95-dff7-05393c31d099"
      },
      "source": [
        "a = np.arange(1, 20, 3)\n",
        "print(a)\n",
        "print(a[1:5])\n",
        "print(a[0:6:2])\n",
        "print(a[::-1])\n",
        "print(a[-2::-1])\n",
        "print(a[-2:1:-1])"
      ],
      "execution_count": null,
      "outputs": [
        {
          "output_type": "stream",
          "text": [
            "[ 1  4  7 10 13 16 19]\n",
            "[ 4  7 10 13]\n",
            "[ 1  7 13]\n",
            "[19 16 13 10  7  4  1]\n",
            "[16 13 10  7  4  1]\n",
            "[16 13 10  7]\n"
          ],
          "name": "stdout"
        }
      ]
    },
    {
      "cell_type": "markdown",
      "metadata": {
        "id": "mQ2JhxBJcBuS"
      },
      "source": [
        "### fancy index"
      ]
    },
    {
      "cell_type": "code",
      "metadata": {
        "colab": {
          "base_uri": "https://localhost:8080/"
        },
        "id": "v9XiqHT-ZWSR",
        "outputId": "c3bf4fe7-ef88-48ab-b5db-3cf4a59d8897"
      },
      "source": [
        "np.random.seed(1234)\n",
        "a = np.random.randint(10,size=10)\n",
        "print(a)\n",
        "m = a % 3 == 0\n",
        "print(m)\n",
        "print(type(m))\n",
        "print(m.dtype)\n",
        "b = a[m]\n",
        "print(b) "
      ],
      "execution_count": null,
      "outputs": [
        {
          "output_type": "stream",
          "text": [
            "[3 6 5 4 8 9 1 7 9 6]\n",
            "[ True  True False False False  True False False  True  True]\n",
            "<class 'numpy.ndarray'>\n",
            "bool\n",
            "[3 6 9 9 6]\n"
          ],
          "name": "stdout"
        }
      ]
    },
    {
      "cell_type": "markdown",
      "metadata": {
        "id": "8sAWN6YIcFMp"
      },
      "source": [
        "### where関数"
      ]
    },
    {
      "cell_type": "code",
      "metadata": {
        "colab": {
          "base_uri": "https://localhost:8080/"
        },
        "id": "vdQeMI1mZXvR",
        "outputId": "b5351460-8767-46ab-b168-974b30c1839a"
      },
      "source": [
        "np.random.seed(1234)\n",
        "a = np.random.randint(10,size=10)\n",
        "print(a)\n",
        "m = np.where(a % 3 == 0) #インデックスのtupleを返す\n",
        "print(m)\n",
        "print(type(m))\n",
        "b = a[m]\n",
        "print(b) "
      ],
      "execution_count": null,
      "outputs": [
        {
          "output_type": "stream",
          "text": [
            "[3 6 5 4 8 9 1 7 9 6]\n",
            "(array([0, 1, 5, 8, 9]),)\n",
            "<class 'tuple'>\n",
            "[3 6 9 9 6]\n"
          ],
          "name": "stdout"
        }
      ]
    },
    {
      "cell_type": "code",
      "metadata": {
        "colab": {
          "base_uri": "https://localhost:8080/"
        },
        "id": "lDGpLYtDZaG5",
        "outputId": "273cfe8b-d556-4595-dc0a-93216036cf2a"
      },
      "source": [
        "np.random.seed(1234)\n",
        "a = np.random.randint(10,size=10)\n",
        "print(a)\n",
        "m = np.where(a % 2 == 0, 'even', 'odd')\n",
        "print(m)\n",
        "\n",
        "print(a[m == 'even'])"
      ],
      "execution_count": null,
      "outputs": [
        {
          "output_type": "stream",
          "text": [
            "[3 6 5 4 8 9 1 7 9 6]\n",
            "['odd' 'even' 'odd' 'even' 'even' 'odd' 'odd' 'odd' 'odd' 'even']\n",
            "[6 4 8 6]\n"
          ],
          "name": "stdout"
        }
      ]
    },
    {
      "cell_type": "markdown",
      "metadata": {
        "id": "M5ZVnM-4cIjb"
      },
      "source": [
        "## 配列のコピー"
      ]
    },
    {
      "cell_type": "markdown",
      "metadata": {
        "id": "FzalREx9cVCr"
      },
      "source": [
        "### 配列のビュー\n",
        "* コピーではない"
      ]
    },
    {
      "cell_type": "code",
      "metadata": {
        "colab": {
          "base_uri": "https://localhost:8080/"
        },
        "id": "Bajlb7q3cXGK",
        "outputId": "a18d9906-1bb4-47d4-d0b2-53e7a615ba55"
      },
      "source": [
        "a = np.array([1, 2, 3])\n",
        "b = a #ビューを作っている\n",
        "print(id(a) == id(b))"
      ],
      "execution_count": null,
      "outputs": [
        {
          "output_type": "stream",
          "text": [
            "True\n"
          ],
          "name": "stdout"
        }
      ]
    },
    {
      "cell_type": "markdown",
      "metadata": {
        "id": "QBaj4afYZf9M"
      },
      "source": [
        "### 復習：リストのコピー"
      ]
    },
    {
      "cell_type": "code",
      "metadata": {
        "colab": {
          "base_uri": "https://localhost:8080/"
        },
        "id": "9s7sI0f6Zb9Q",
        "outputId": "d25ffba8-b4cf-444a-9dc5-05c89161776c"
      },
      "source": [
        "a = [1, 2, 3]\n",
        "b = a\n",
        "b[1] = 22\n",
        "print(a)\n",
        "print(b)\n",
        "c = a[:] #リストがコピーされる\n",
        "c[2] = 234\n",
        "print(a)\n",
        "print(c)"
      ],
      "execution_count": null,
      "outputs": [
        {
          "output_type": "stream",
          "text": [
            "[1, 22, 3]\n",
            "[1, 22, 3]\n",
            "[1, 22, 3]\n",
            "[1, 22, 234]\n"
          ],
          "name": "stdout"
        }
      ]
    },
    {
      "cell_type": "markdown",
      "metadata": {
        "id": "oBRFhX3NZvrC"
      },
      "source": [
        "## ndarrayの場合の`a[:]`"
      ]
    },
    {
      "cell_type": "code",
      "metadata": {
        "colab": {
          "base_uri": "https://localhost:8080/"
        },
        "id": "CTOUB97jZgr5",
        "outputId": "a68a22c9-a60e-440b-aa2a-b96d19ef6a27"
      },
      "source": [
        "a = np.array([1, 2, 3])\n",
        "c = a[:] #コピーされるかどうか？\n",
        "print(id(a) == id(c))\n",
        "c[1] = 22\n",
        "print(a) #変化している"
      ],
      "execution_count": null,
      "outputs": [
        {
          "output_type": "stream",
          "text": [
            "False\n",
            "[ 1 22  3]\n"
          ],
          "name": "stdout"
        }
      ]
    },
    {
      "cell_type": "markdown",
      "metadata": {
        "id": "EaVzJy8XccaI"
      },
      "source": [
        "### `copy`メソッド"
      ]
    },
    {
      "cell_type": "code",
      "metadata": {
        "colab": {
          "base_uri": "https://localhost:8080/"
        },
        "id": "HpvXCyFhZim5",
        "outputId": "b7b4829c-1c41-4d5a-b023-3bb07372bf66"
      },
      "source": [
        "a = np.array([1, 2, 3])\n",
        "d = a.copy() #コピーを作る\n",
        "print(id(a) == id(d))\n",
        "d[2] = 234\n",
        "print(a) #変化していない"
      ],
      "execution_count": null,
      "outputs": [
        {
          "output_type": "stream",
          "text": [
            "False\n",
            "[1 2 3]\n"
          ],
          "name": "stdout"
        }
      ]
    },
    {
      "cell_type": "markdown",
      "metadata": {
        "id": "DE6_XyE7ctDL"
      },
      "source": [
        "## in-place演算"
      ]
    },
    {
      "cell_type": "code",
      "metadata": {
        "colab": {
          "base_uri": "https://localhost:8080/"
        },
        "id": "YBDEJIiaZqcJ",
        "outputId": "3c43536c-e20d-4eac-812a-d3ee8505a58e"
      },
      "source": [
        "a = np.array([1, 2, 3])\n",
        "c = a #ビューを作る\n",
        "a = a + 1 #ここで別のオブジェクトになる\n",
        "print(c)\n",
        "\n",
        "a = np.array([1, 2, 3])\n",
        "c = a #ビューを作る\n",
        "a += 1 #in-place演算\n",
        "print(c) #変化している"
      ],
      "execution_count": null,
      "outputs": [
        {
          "output_type": "stream",
          "text": [
            "[1 2 3]\n",
            "[2 3 4]\n"
          ],
          "name": "stdout"
        }
      ]
    },
    {
      "cell_type": "markdown",
      "metadata": {
        "id": "6ADmfSvXcv6i"
      },
      "source": [
        "### in-place演算と演算関数の比較"
      ]
    },
    {
      "cell_type": "code",
      "metadata": {
        "id": "c7bVUN5kaLMc"
      },
      "source": [
        "import time\n",
        "import numpy as np"
      ],
      "execution_count": null,
      "outputs": []
    },
    {
      "cell_type": "code",
      "metadata": {
        "colab": {
          "base_uri": "https://localhost:8080/"
        },
        "id": "7aPtHu-jZ_GT",
        "outputId": "4d365cd5-1b09-4490-8344-417097fdc4ed"
      },
      "source": [
        "size = 100000000\n",
        "x = np.ones(size)\n",
        "y = np.ones(size)\n",
        "for _ in range(10):\n",
        "  a = time.time()\n",
        "  x = x * 4 + y * 3\n",
        "  b = time.time()\n",
        "  print(b - a)\n",
        "  x = np.ones(size)\n",
        "  y = np.ones(size)"
      ],
      "execution_count": null,
      "outputs": [
        {
          "output_type": "stream",
          "text": [
            "0.429105281829834\n",
            "0.4401087760925293\n",
            "0.42964649200439453\n",
            "0.4385106563568115\n",
            "0.4289278984069824\n",
            "0.43470239639282227\n",
            "0.4287228584289551\n",
            "0.43115925788879395\n",
            "0.4420304298400879\n",
            "0.43234682083129883\n"
          ],
          "name": "stdout"
        }
      ]
    },
    {
      "cell_type": "code",
      "metadata": {
        "colab": {
          "base_uri": "https://localhost:8080/"
        },
        "id": "N7WerW8caDw3",
        "outputId": "1152a1e2-dcae-4656-8c30-727cbf4396cc"
      },
      "source": [
        "size = 100000000\n",
        "x = np.ones(size)\n",
        "y = np.ones(size)\n",
        "for _ in range(10):\n",
        "  a = time.time()\n",
        "  x *= 4\n",
        "  y *= 3\n",
        "  x += y\n",
        "  b = time.time()\n",
        "  print(b - a)\n",
        "  x = np.ones(size)\n",
        "  y = np.ones(size)"
      ],
      "execution_count": null,
      "outputs": [
        {
          "output_type": "stream",
          "text": [
            "0.30123090744018555\n",
            "0.3089332580566406\n",
            "0.31571531295776367\n",
            "0.3091440200805664\n",
            "0.3014671802520752\n",
            "0.30440616607666016\n",
            "0.2985825538635254\n",
            "0.3055691719055176\n",
            "0.3029203414916992\n",
            "0.3066377639770508\n"
          ],
          "name": "stdout"
        }
      ]
    },
    {
      "cell_type": "code",
      "metadata": {
        "colab": {
          "base_uri": "https://localhost:8080/"
        },
        "id": "MKG48zxCaQe7",
        "outputId": "533da2f9-2ec3-4e8f-a370-4cfe0f155283"
      },
      "source": [
        "import time\n",
        "import numpy as np\n",
        "\n",
        "size = 100000000\n",
        "x = np.ones(size)\n",
        "y = np.ones(size)\n",
        "for _ in range(10):\n",
        "  a = time.time()\n",
        "  np.multiply(x, 4, out=x)\n",
        "  np.multiply(y, 3, out=y)\n",
        "  np.add(x, y, out=x)\n",
        "  b = time.time()\n",
        "  print(b - a)\n",
        "  x = np.ones(size)\n",
        "  y = np.ones(size)"
      ],
      "execution_count": null,
      "outputs": [
        {
          "output_type": "stream",
          "text": [
            "0.34691810607910156\n",
            "0.3370184898376465\n",
            "0.33677101135253906\n",
            "0.3473992347717285\n",
            "0.3388340473175049\n",
            "0.34104061126708984\n",
            "0.3577144145965576\n",
            "0.3243751525878906\n",
            "0.32071876525878906\n",
            "0.3390650749206543\n"
          ],
          "name": "stdout"
        }
      ]
    },
    {
      "cell_type": "markdown",
      "metadata": {
        "id": "w9XBDkJRc19M"
      },
      "source": [
        "## 配列の形状を変更する"
      ]
    },
    {
      "cell_type": "code",
      "metadata": {
        "colab": {
          "base_uri": "https://localhost:8080/"
        },
        "id": "galRR6uCaVAK",
        "outputId": "91d68877-1e83-492c-a166-a398747d8dc6"
      },
      "source": [
        "a = np.arange(12)\n",
        "print(a)\n",
        "b = np.reshape(a, (3, 4)) #NumPyの関数reshape\n",
        "print(b)\n",
        "a[3] *= -1\n",
        "print(a)\n",
        "print(b) #変化している\n",
        "c = a.reshape((2,6)) #ndarrayのreshapeメソッド\n",
        "print(c)"
      ],
      "execution_count": null,
      "outputs": [
        {
          "output_type": "stream",
          "text": [
            "[ 0  1  2  3  4  5  6  7  8  9 10 11]\n",
            "[[ 0  1  2  3]\n",
            " [ 4  5  6  7]\n",
            " [ 8  9 10 11]]\n",
            "[ 0  1  2 -3  4  5  6  7  8  9 10 11]\n",
            "[[ 0  1  2 -3]\n",
            " [ 4  5  6  7]\n",
            " [ 8  9 10 11]]\n",
            "[[ 0  1  2 -3  4  5]\n",
            " [ 6  7  8  9 10 11]]\n"
          ],
          "name": "stdout"
        }
      ]
    }
  ]
}