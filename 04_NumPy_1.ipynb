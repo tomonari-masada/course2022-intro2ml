{
  "nbformat": 4,
  "nbformat_minor": 0,
  "metadata": {
    "colab": {
      "name": "04_NumPy_1.ipynb",
      "provenance": [],
      "collapsed_sections": [],
      "authorship_tag": "ABX9TyOumPbvDYJfj0UiEcNrFo8l",
      "include_colab_link": true
    },
    "kernelspec": {
      "name": "python3",
      "display_name": "Python 3"
    },
    "language_info": {
      "name": "python"
    }
  },
  "cells": [
    {
      "cell_type": "markdown",
      "metadata": {
        "id": "view-in-github",
        "colab_type": "text"
      },
      "source": [
        "<a href=\"https://colab.research.google.com/github/tomonari-masada/course2022-intro2ml/blob/main/04_NumPy_1.ipynb\" target=\"_parent\"><img src=\"https://colab.research.google.com/assets/colab-badge.svg\" alt=\"Open In Colab\"/></a>"
      ]
    },
    {
      "cell_type": "markdown",
      "metadata": {
        "id": "AHp3ueBza0PR"
      },
      "source": [
        "# モジュール、パッケージ、ライブラリ\n",
        "https://docs.python.org/3/tutorial/modules.html\n",
        "* \"A module is a file containing Python definitions and statements.\"\n",
        "* \"Packages are a way of structuring Python’s module namespace by using “dotted module names”.\""
      ]
    },
    {
      "cell_type": "markdown",
      "metadata": {
        "id": "iVXwFXEqeDkG"
      },
      "source": [
        "https://realpython.com/lessons/scripts-modules-packages-and-libraries/\n",
        "* \"A module is a Python file that’s intended to be imported into scripts or other modules.\"\n",
        "* \"A package is a collection of related modules that work together to provide certain functionality.\"\n",
        "* \"A library is an umbrella term that loosely means “a bundle of code.” These can have tens or even hundreds of individual modules that can provide a wide range of functionality.\""
      ]
    },
    {
      "cell_type": "markdown",
      "metadata": {
        "id": "Tlv9lakya36X"
      },
      "source": [
        "## mathモジュール"
      ]
    },
    {
      "cell_type": "code",
      "metadata": {
        "colab": {
          "base_uri": "https://localhost:8080/"
        },
        "id": "_ctew8faYguj",
        "outputId": "fa691d54-eeed-4d5e-c77c-136f9de20f50"
      },
      "source": [
        "import math\n",
        "\n",
        "a = 2.0\n",
        "b = math.sqrt(a)\n",
        "print(a, b)\n",
        "b = math.exp(a)\n",
        "print(a, b)"
      ],
      "execution_count": null,
      "outputs": [
        {
          "output_type": "stream",
          "name": "stdout",
          "text": [
            "2.0 1.4142135623730951\n",
            "2.0 7.38905609893065\n"
          ]
        }
      ]
    },
    {
      "cell_type": "markdown",
      "metadata": {
        "id": "EN-O9_-ca5sA"
      },
      "source": [
        "## reモジュール\n",
        "* 正規表現"
      ]
    },
    {
      "cell_type": "code",
      "metadata": {
        "colab": {
          "base_uri": "https://localhost:8080/"
        },
        "id": "8x7ObOCtYhwU",
        "outputId": "032c387c-1301-40c1-d6b5-de7cd1c84b4e"
      },
      "source": [
        "import re\n",
        "\n",
        "s = 'one two one two'\n",
        "m = re.finditer('one', s)\n",
        "for match in m:\n",
        "  print(match.start())"
      ],
      "execution_count": null,
      "outputs": [
        {
          "output_type": "stream",
          "text": [
            "0\n",
            "8\n"
          ],
          "name": "stdout"
        }
      ]
    },
    {
      "cell_type": "markdown",
      "metadata": {
        "id": "Hfkm3naOa97O"
      },
      "source": [
        "# NumPyライブラリ"
      ]
    },
    {
      "cell_type": "markdown",
      "metadata": {
        "id": "4-ScijSFbDga"
      },
      "source": [
        "* ベクトルや行列を扱える（他にも様々な機能がある）\n",
        " * ベクトルどうしの内積\n",
        " * 行列とベクトルの積\n",
        " * 行列と行列の積\n",
        " * 逆行列\n",
        " \n",
        "* ndarrayという独自のデータ構造を使う\n",
        " * ちゃんとコードを書けば高速（ちゃんと書かないと遅い・・・）\n"
      ]
    },
    {
      "cell_type": "markdown",
      "metadata": {
        "id": "0swi2CAGbNiJ"
      },
      "source": [
        "## ndarray（NumPyの配列）の作り方"
      ]
    },
    {
      "cell_type": "markdown",
      "metadata": {
        "id": "omiKZwz5bhMN"
      },
      "source": [
        "### Pythonのリストから作る"
      ]
    },
    {
      "cell_type": "markdown",
      "source": [
        "* asは別名をつけるときに使う"
      ],
      "metadata": {
        "id": "NsvWJFhpfnu5"
      }
    },
    {
      "cell_type": "code",
      "source": [
        "import numpy as np"
      ],
      "metadata": {
        "id": "pSY2ZI6vflPR"
      },
      "execution_count": null,
      "outputs": []
    },
    {
      "cell_type": "markdown",
      "source": [
        "* NumPyの配列の作成"
      ],
      "metadata": {
        "id": "BKaZ4H2eQYhk"
      }
    },
    {
      "cell_type": "code",
      "source": [
        "a = np.array([-2.0, 1.0, 3.0])\n",
        "print(a)"
      ],
      "metadata": {
        "colab": {
          "base_uri": "https://localhost:8080/"
        },
        "id": "DJGQPlfefnO3",
        "outputId": "fb96e36f-0f7e-4231-82cd-cbcd3bab24fe"
      },
      "execution_count": null,
      "outputs": [
        {
          "output_type": "stream",
          "name": "stdout",
          "text": [
            "[-2.  1.  3.]\n"
          ]
        }
      ]
    },
    {
      "cell_type": "code",
      "source": [
        "type(a)"
      ],
      "metadata": {
        "colab": {
          "base_uri": "https://localhost:8080/"
        },
        "id": "yCuKcOIzfw7c",
        "outputId": "906b153b-8ad2-4c39-a819-d9a0cc4d2e51"
      },
      "execution_count": null,
      "outputs": [
        {
          "output_type": "execute_result",
          "data": {
            "text/plain": [
              "numpy.ndarray"
            ]
          },
          "metadata": {},
          "execution_count": 3
        }
      ]
    },
    {
      "cell_type": "code",
      "source": [
        "b = np.array([[1,2,3], [4,5,6]])\n",
        "print(b) # 2行3列の行列(matrix)"
      ],
      "metadata": {
        "colab": {
          "base_uri": "https://localhost:8080/"
        },
        "id": "smcoFahKgTti",
        "outputId": "d02e347f-5b2e-4be9-dd38-63b1f935c467"
      },
      "execution_count": null,
      "outputs": [
        {
          "output_type": "stream",
          "name": "stdout",
          "text": [
            "[[1 2 3]\n",
            " [4 5 6]]\n"
          ]
        }
      ]
    },
    {
      "cell_type": "code",
      "metadata": {
        "colab": {
          "base_uri": "https://localhost:8080/"
        },
        "id": "srm7ORHZYqfp",
        "outputId": "fc9d80e6-6e23-42cc-d2b6-58d26227e3dd"
      },
      "source": [
        "print(a.T) #ndarrayの属性の例（転置属性）\n",
        "print(b.T)"
      ],
      "execution_count": null,
      "outputs": [
        {
          "output_type": "stream",
          "name": "stdout",
          "text": [
            "[-2.  1.  3.]\n",
            "[[1 4]\n",
            " [2 5]\n",
            " [3 6]]\n"
          ]
        }
      ]
    },
    {
      "cell_type": "code",
      "source": [
        "a = np.array([1, 2, 3])\n",
        "print(a * 3)\n",
        "print(a + 2)"
      ],
      "metadata": {
        "colab": {
          "base_uri": "https://localhost:8080/"
        },
        "id": "sA-RVy44hDa6",
        "outputId": "840c3962-e750-4200-9e07-16f9ce1e5a8e"
      },
      "execution_count": null,
      "outputs": [
        {
          "output_type": "stream",
          "name": "stdout",
          "text": [
            "[3 6 9]\n",
            "[3 4 5]\n"
          ]
        }
      ]
    },
    {
      "cell_type": "code",
      "source": [
        "b = np.array([2, 2, 0])\n",
        "print(a + b)"
      ],
      "metadata": {
        "colab": {
          "base_uri": "https://localhost:8080/"
        },
        "id": "MJZDFWGuhRVi",
        "outputId": "26579edd-73b7-47ae-d9fd-1a09f63c3d5c"
      },
      "execution_count": null,
      "outputs": [
        {
          "output_type": "stream",
          "name": "stdout",
          "text": [
            "[3 4 3]\n"
          ]
        }
      ]
    },
    {
      "cell_type": "code",
      "source": [
        "print(a / b)"
      ],
      "metadata": {
        "colab": {
          "base_uri": "https://localhost:8080/"
        },
        "id": "EUbHBEglhbuo",
        "outputId": "7437569f-4a8f-4322-ad80-4d52615aabe1"
      },
      "execution_count": null,
      "outputs": [
        {
          "output_type": "stream",
          "name": "stdout",
          "text": [
            "[0.5 1.  inf]\n"
          ]
        },
        {
          "output_type": "stream",
          "name": "stderr",
          "text": [
            "/usr/local/lib/python3.7/dist-packages/ipykernel_launcher.py:1: RuntimeWarning: divide by zero encountered in true_divide\n",
            "  \"\"\"Entry point for launching an IPython kernel.\n"
          ]
        }
      ]
    },
    {
      "cell_type": "code",
      "source": [
        "print(a * b)"
      ],
      "metadata": {
        "colab": {
          "base_uri": "https://localhost:8080/"
        },
        "id": "ZkEcaqx5hs4S",
        "outputId": "b8948397-9bee-45c1-a280-0054396fd5f3"
      },
      "execution_count": null,
      "outputs": [
        {
          "output_type": "stream",
          "name": "stdout",
          "text": [
            "[2 4 0]\n"
          ]
        }
      ]
    },
    {
      "cell_type": "code",
      "metadata": {
        "colab": {
          "base_uri": "https://localhost:8080/"
        },
        "id": "hlUvFI_mYyQh",
        "outputId": "70930aaf-2da8-45d5-af22-dbbafd6638e6"
      },
      "source": [
        "print(np.dot(a, b)) #内積"
      ],
      "execution_count": null,
      "outputs": [
        {
          "output_type": "stream",
          "name": "stdout",
          "text": [
            "6\n"
          ]
        }
      ]
    },
    {
      "cell_type": "markdown",
      "metadata": {
        "id": "LPZn1uvTbQwL"
      },
      "source": [
        "### ndarrayの属性"
      ]
    },
    {
      "cell_type": "code",
      "metadata": {
        "colab": {
          "base_uri": "https://localhost:8080/"
        },
        "id": "zqnXK4utYvRC",
        "outputId": "81c7a494-1f73-40b1-9373-0925f943cf96"
      },
      "source": [
        "a = np.array([-2.0, 1.0, 3.0])\n",
        "b = np.array([[1,2,3], [4,5,6]])\n",
        "\n",
        "print(type(a)) #ndarray自体のデータ型\n",
        "print(a.data) #メモリ上での位置\n",
        "print(a.dtype) #要素のデータ型\n",
        "print(a.size, b.size)\n",
        "print(a.itemsize, b.itemsize) #要素のサイズ\n",
        "print(a.ndim, b.ndim) #次元数\n",
        "print(a.shape, b.shape) #形状"
      ],
      "execution_count": null,
      "outputs": [
        {
          "output_type": "stream",
          "name": "stdout",
          "text": [
            "<class 'numpy.ndarray'>\n",
            "<memory at 0x7fa143483940>\n",
            "float64\n",
            "3 6\n",
            "8 8\n",
            "1 2\n",
            "(3,) (2, 3)\n"
          ]
        }
      ]
    },
    {
      "cell_type": "markdown",
      "metadata": {
        "id": "Gn13GaIUbawK"
      },
      "source": [
        "### ndarrayの作り方のいろいろ"
      ]
    },
    {
      "cell_type": "code",
      "source": [
        "for n in range(0, 10, 2):\n",
        "  print(n)"
      ],
      "metadata": {
        "colab": {
          "base_uri": "https://localhost:8080/"
        },
        "id": "vnPKJcDYXgaf",
        "outputId": "73f881f1-44a7-4283-c50b-7be57bc86ed5"
      },
      "execution_count": null,
      "outputs": [
        {
          "output_type": "stream",
          "name": "stdout",
          "text": [
            "0\n",
            "2\n",
            "4\n",
            "6\n",
            "8\n"
          ]
        }
      ]
    },
    {
      "cell_type": "code",
      "metadata": {
        "colab": {
          "base_uri": "https://localhost:8080/"
        },
        "id": "3f6iGuw6Yz-q",
        "outputId": "9e3da236-b336-4380-a325-16c1769bb5c7"
      },
      "source": [
        "a = np.arange(10)\n",
        "print(a)\n",
        "b = np.arange(0, 10, 2)\n",
        "print(b)\n",
        "x = np.linspace(0, 10, 15) #0以上10以下を14等分\n",
        "print(x)"
      ],
      "execution_count": null,
      "outputs": [
        {
          "output_type": "stream",
          "name": "stdout",
          "text": [
            "[0 1 2 3 4 5 6 7 8 9]\n",
            "[0 2 4 6 8]\n",
            "[ 0.          0.71428571  1.42857143  2.14285714  2.85714286  3.57142857\n",
            "  4.28571429  5.          5.71428571  6.42857143  7.14285714  7.85714286\n",
            "  8.57142857  9.28571429 10.        ]\n"
          ]
        }
      ]
    },
    {
      "cell_type": "code",
      "source": [
        "for _ in range(10):\n",
        "  print(np.random.randn())"
      ],
      "metadata": {
        "colab": {
          "base_uri": "https://localhost:8080/"
        },
        "id": "D7vlb0iYYtpQ",
        "outputId": "f5c2950f-20ba-47fc-f870-455fb9b75e94"
      },
      "execution_count": null,
      "outputs": [
        {
          "output_type": "stream",
          "name": "stdout",
          "text": [
            "-0.34376005633897816\n",
            "-0.017299892861601926\n",
            "-0.11382504218884956\n",
            "-0.5044382022415015\n",
            "0.11929983996889928\n",
            "-2.4959208386345693\n",
            "0.09837409939996683\n",
            "0.8845397058076216\n",
            "-0.12653663191425707\n",
            "-2.779524846046721\n"
          ]
        }
      ]
    },
    {
      "cell_type": "code",
      "metadata": {
        "colab": {
          "base_uri": "https://localhost:8080/",
          "height": 384
        },
        "id": "cTjr9VdUY58Z",
        "outputId": "2a94fdd3-621c-4c28-d221-b91481de4c42"
      },
      "source": [
        "print(np.random.randn()) #正規乱数\n",
        "a = np.random.randn(2, 3)\n",
        "print(a)\n",
        "b = np.random.randn(3, 4)\n",
        "print(b)\n",
        "print(np.dot(a, b))\n",
        "print(np.dot(b, a)) #エラー（なぜ？）"
      ],
      "execution_count": null,
      "outputs": [
        {
          "output_type": "stream",
          "name": "stdout",
          "text": [
            "-0.7996495593034367\n",
            "[[-0.11459726  1.07774647 -0.3382304 ]\n",
            " [-0.34992227  1.73485184  1.30738399]]\n",
            "[[-0.79682068  1.54253754  0.69420646  0.96271436]\n",
            " [-1.8507022   0.26299777  1.65191561  1.19312087]\n",
            " [ 1.03972771  0.28221514  1.14639395  0.95160281]]\n",
            "[[-2.25494182  0.0112206   1.31304678  0.85369637]\n",
            " [-1.57254545  0.28545748  4.12168764  2.97712302]]\n"
          ]
        },
        {
          "output_type": "error",
          "ename": "ValueError",
          "evalue": "ignored",
          "traceback": [
            "\u001b[0;31m---------------------------------------------------------------------------\u001b[0m",
            "\u001b[0;31mValueError\u001b[0m                                Traceback (most recent call last)",
            "\u001b[0;32m<ipython-input-29-d3ea415ca8b9>\u001b[0m in \u001b[0;36m<module>\u001b[0;34m()\u001b[0m\n\u001b[1;32m      5\u001b[0m \u001b[0mprint\u001b[0m\u001b[0;34m(\u001b[0m\u001b[0mb\u001b[0m\u001b[0;34m)\u001b[0m\u001b[0;34m\u001b[0m\u001b[0;34m\u001b[0m\u001b[0m\n\u001b[1;32m      6\u001b[0m \u001b[0mprint\u001b[0m\u001b[0;34m(\u001b[0m\u001b[0mnp\u001b[0m\u001b[0;34m.\u001b[0m\u001b[0mdot\u001b[0m\u001b[0;34m(\u001b[0m\u001b[0ma\u001b[0m\u001b[0;34m,\u001b[0m \u001b[0mb\u001b[0m\u001b[0;34m)\u001b[0m\u001b[0;34m)\u001b[0m\u001b[0;34m\u001b[0m\u001b[0;34m\u001b[0m\u001b[0m\n\u001b[0;32m----> 7\u001b[0;31m \u001b[0mprint\u001b[0m\u001b[0;34m(\u001b[0m\u001b[0mnp\u001b[0m\u001b[0;34m.\u001b[0m\u001b[0mdot\u001b[0m\u001b[0;34m(\u001b[0m\u001b[0mb\u001b[0m\u001b[0;34m,\u001b[0m \u001b[0ma\u001b[0m\u001b[0;34m)\u001b[0m\u001b[0;34m)\u001b[0m \u001b[0;31m#エラー（なぜ？）\u001b[0m\u001b[0;34m\u001b[0m\u001b[0;34m\u001b[0m\u001b[0m\n\u001b[0m",
            "\u001b[0;32m<__array_function__ internals>\u001b[0m in \u001b[0;36mdot\u001b[0;34m(*args, **kwargs)\u001b[0m\n",
            "\u001b[0;31mValueError\u001b[0m: shapes (3,4) and (2,3) not aligned: 4 (dim 1) != 2 (dim 0)"
          ]
        }
      ]
    },
    {
      "cell_type": "code",
      "metadata": {
        "colab": {
          "base_uri": "https://localhost:8080/"
        },
        "id": "juezWtTpY7fh",
        "outputId": "25690de4-b1f6-4f9e-9e4c-e6d555fb43fe"
      },
      "source": [
        "a = np.zeros([3,3]) #()か[]で囲む必要あり\n",
        "print(a)\n",
        "b = np.ones([3,3])\n",
        "print(b)\n",
        "print(np.dot(b, b)) #なぜこうなる？\n",
        "\n",
        "c = np.full((2,5), 10)\n",
        "print(c)"
      ],
      "execution_count": null,
      "outputs": [
        {
          "output_type": "stream",
          "name": "stdout",
          "text": [
            "[[0. 0. 0.]\n",
            " [0. 0. 0.]\n",
            " [0. 0. 0.]]\n",
            "[[1. 1. 1.]\n",
            " [1. 1. 1.]\n",
            " [1. 1. 1.]]\n",
            "[[3. 3. 3.]\n",
            " [3. 3. 3.]\n",
            " [3. 3. 3.]]\n",
            "[[10 10 10 10 10]\n",
            " [10 10 10 10 10]]\n"
          ]
        }
      ]
    },
    {
      "cell_type": "markdown",
      "metadata": {
        "id": "YRd5MaWsbupX"
      },
      "source": [
        "## 配列の要素を指定する"
      ]
    },
    {
      "cell_type": "markdown",
      "metadata": {
        "id": "AIUg61oUb-lM"
      },
      "source": [
        "### インデックス"
      ]
    },
    {
      "cell_type": "code",
      "metadata": {
        "colab": {
          "base_uri": "https://localhost:8080/"
        },
        "id": "rzLp8AQHY9jB",
        "outputId": "58398ca1-f2c8-46f7-98c9-7ef3c718def8"
      },
      "source": [
        "a = np.arange(1, 20, 3)\n",
        "print(a)\n",
        "print(a[0])\n",
        "print(a[1])\n",
        "a[3] = 11\n",
        "print(a)\n",
        "c = np.array([[1,2,3],[4,5,6]])\n",
        "print(c)\n",
        "print(c[0,0])\n",
        "print(c[0,2])\n",
        "print(c[1,2])\n",
        "c[1,2] *= 2\n",
        "print(c)"
      ],
      "execution_count": null,
      "outputs": [
        {
          "output_type": "stream",
          "name": "stdout",
          "text": [
            "[ 1  4  7 10 13 16 19]\n",
            "1\n",
            "4\n",
            "[ 1  4  7 11 13 16 19]\n",
            "[[1 2 3]\n",
            " [4 5 6]]\n",
            "1\n",
            "3\n",
            "6\n",
            "[[ 1  2  3]\n",
            " [ 4  5 12]]\n"
          ]
        }
      ]
    },
    {
      "cell_type": "code",
      "source": [
        "c = np.array([[[1,2,3],[2,3,4]],[[4,5,6],[6,7,8]]])\n",
        "print(c)\n",
        "print(c.shape) # テンソル"
      ],
      "metadata": {
        "colab": {
          "base_uri": "https://localhost:8080/"
        },
        "id": "NQR970uTcmHi",
        "outputId": "1baaf573-23ad-48d3-8daf-92773093eb67"
      },
      "execution_count": null,
      "outputs": [
        {
          "output_type": "stream",
          "name": "stdout",
          "text": [
            "[[[1 2 3]\n",
            "  [2 3 4]]\n",
            "\n",
            " [[4 5 6]\n",
            "  [6 7 8]]]\n",
            "(2, 2, 3)\n"
          ]
        }
      ]
    },
    {
      "cell_type": "markdown",
      "metadata": {
        "id": "VGTRdkLDZIYJ"
      },
      "source": [
        "### 良くないコードの例"
      ]
    },
    {
      "cell_type": "markdown",
      "source": [
        "* NumPyの配列をあつかうプログラムでは、できるだけ、forループを書かない！"
      ],
      "metadata": {
        "id": "hLuau9svdkZj"
      }
    },
    {
      "cell_type": "code",
      "metadata": {
        "colab": {
          "base_uri": "https://localhost:8080/"
        },
        "id": "Jn7bUVa6ZAPx",
        "outputId": "724b139b-7e89-4b80-8b63-867e91afa012"
      },
      "source": [
        "import time\n",
        "import numpy as np\n",
        "\n",
        "x = np.ones(10000000)\n",
        "y = np.ones(10000000)\n",
        "s = np.zeros(10000000)\n",
        "for _ in range(10):\n",
        "  a = time.time()\n",
        "  for i in range(10000000):\n",
        "    s[i] = x[i] + y[i]\n",
        "  b = time.time()\n",
        "  print(b - a)"
      ],
      "execution_count": null,
      "outputs": [
        {
          "output_type": "stream",
          "name": "stdout",
          "text": [
            "5.086200475692749\n",
            "4.980530261993408\n",
            "4.93688440322876\n",
            "4.977482318878174\n",
            "5.0062267780303955\n",
            "4.985112428665161\n",
            "4.905304193496704\n",
            "4.914787769317627\n",
            "4.987136125564575\n",
            "4.979875087738037\n"
          ]
        }
      ]
    },
    {
      "cell_type": "markdown",
      "metadata": {
        "id": "rPzYF1AkZMom"
      },
      "source": [
        "* 上のセルのように書くより、こう書くほうが良い"
      ]
    },
    {
      "cell_type": "code",
      "metadata": {
        "colab": {
          "base_uri": "https://localhost:8080/"
        },
        "id": "7s8cFdShZQn-",
        "outputId": "defe482f-edb4-49f4-ae44-9c7c3b15101b"
      },
      "source": [
        "import time\n",
        "import numpy as np\n",
        "\n",
        "x = np.ones(10000000)\n",
        "y = np.ones(10000000)\n",
        "s = np.zeros(10000000)\n",
        "for _ in range(10):\n",
        "  a = time.time()\n",
        "  s = x + y\n",
        "  b = time.time()\n",
        "  print(b - a)"
      ],
      "execution_count": null,
      "outputs": [
        {
          "output_type": "stream",
          "name": "stdout",
          "text": [
            "0.04288911819458008\n",
            "0.025920391082763672\n",
            "0.021986007690429688\n",
            "0.021043062210083008\n",
            "0.021635770797729492\n",
            "0.020960569381713867\n",
            "0.023302555084228516\n",
            "0.020800352096557617\n",
            "0.021679162979125977\n",
            "0.02192068099975586\n"
          ]
        }
      ]
    },
    {
      "cell_type": "markdown",
      "metadata": {
        "id": "ku21YYlpb6I_"
      },
      "source": [
        "### スライシング"
      ]
    },
    {
      "cell_type": "code",
      "metadata": {
        "colab": {
          "base_uri": "https://localhost:8080/"
        },
        "id": "2V5VfCO4ZUrZ",
        "outputId": "30cb3261-4a28-4f95-dff7-05393c31d099"
      },
      "source": [
        "a = np.arange(1, 20, 3)\n",
        "print(a)\n",
        "print(a[1:5])\n",
        "print(a[0:6:2])\n",
        "print(a[::-1])\n",
        "print(a[-2::-1])\n",
        "print(a[-2:1:-1])"
      ],
      "execution_count": null,
      "outputs": [
        {
          "output_type": "stream",
          "text": [
            "[ 1  4  7 10 13 16 19]\n",
            "[ 4  7 10 13]\n",
            "[ 1  7 13]\n",
            "[19 16 13 10  7  4  1]\n",
            "[16 13 10  7  4  1]\n",
            "[16 13 10  7]\n"
          ],
          "name": "stdout"
        }
      ]
    },
    {
      "cell_type": "markdown",
      "metadata": {
        "id": "mQ2JhxBJcBuS"
      },
      "source": [
        "### fancy index"
      ]
    },
    {
      "cell_type": "code",
      "metadata": {
        "colab": {
          "base_uri": "https://localhost:8080/"
        },
        "id": "v9XiqHT-ZWSR",
        "outputId": "c3bf4fe7-ef88-48ab-b5db-3cf4a59d8897"
      },
      "source": [
        "np.random.seed(1234)\n",
        "a = np.random.randint(10,size=10)\n",
        "print(a)\n",
        "m = a % 3 == 0\n",
        "print(m)\n",
        "print(type(m))\n",
        "print(m.dtype)\n",
        "b = a[m]\n",
        "print(b) "
      ],
      "execution_count": null,
      "outputs": [
        {
          "output_type": "stream",
          "text": [
            "[3 6 5 4 8 9 1 7 9 6]\n",
            "[ True  True False False False  True False False  True  True]\n",
            "<class 'numpy.ndarray'>\n",
            "bool\n",
            "[3 6 9 9 6]\n"
          ],
          "name": "stdout"
        }
      ]
    },
    {
      "cell_type": "markdown",
      "metadata": {
        "id": "8sAWN6YIcFMp"
      },
      "source": [
        "### where関数"
      ]
    },
    {
      "cell_type": "code",
      "metadata": {
        "colab": {
          "base_uri": "https://localhost:8080/"
        },
        "id": "vdQeMI1mZXvR",
        "outputId": "b5351460-8767-46ab-b168-974b30c1839a"
      },
      "source": [
        "np.random.seed(1234)\n",
        "a = np.random.randint(10,size=10)\n",
        "print(a)\n",
        "m = np.where(a % 3 == 0) #インデックスのtupleを返す\n",
        "print(m)\n",
        "print(type(m))\n",
        "b = a[m]\n",
        "print(b) "
      ],
      "execution_count": null,
      "outputs": [
        {
          "output_type": "stream",
          "text": [
            "[3 6 5 4 8 9 1 7 9 6]\n",
            "(array([0, 1, 5, 8, 9]),)\n",
            "<class 'tuple'>\n",
            "[3 6 9 9 6]\n"
          ],
          "name": "stdout"
        }
      ]
    },
    {
      "cell_type": "code",
      "metadata": {
        "colab": {
          "base_uri": "https://localhost:8080/"
        },
        "id": "lDGpLYtDZaG5",
        "outputId": "273cfe8b-d556-4595-dc0a-93216036cf2a"
      },
      "source": [
        "np.random.seed(1234)\n",
        "a = np.random.randint(10,size=10)\n",
        "print(a)\n",
        "m = np.where(a % 2 == 0, 'even', 'odd')\n",
        "print(m)\n",
        "\n",
        "print(a[m == 'even'])"
      ],
      "execution_count": null,
      "outputs": [
        {
          "output_type": "stream",
          "text": [
            "[3 6 5 4 8 9 1 7 9 6]\n",
            "['odd' 'even' 'odd' 'even' 'even' 'odd' 'odd' 'odd' 'odd' 'even']\n",
            "[6 4 8 6]\n"
          ],
          "name": "stdout"
        }
      ]
    },
    {
      "cell_type": "markdown",
      "metadata": {
        "id": "M5ZVnM-4cIjb"
      },
      "source": [
        "## 配列のコピー"
      ]
    },
    {
      "cell_type": "markdown",
      "metadata": {
        "id": "FzalREx9cVCr"
      },
      "source": [
        "### 配列のビュー\n",
        "* コピーではない"
      ]
    },
    {
      "cell_type": "code",
      "metadata": {
        "id": "Bajlb7q3cXGK"
      },
      "source": [
        "a = np.array([1, 2, 3])\n",
        "b = a #ビューを作っている"
      ],
      "execution_count": null,
      "outputs": []
    },
    {
      "cell_type": "code",
      "source": [
        "print(a)"
      ],
      "metadata": {
        "colab": {
          "base_uri": "https://localhost:8080/"
        },
        "id": "rpOL3oalfwNp",
        "outputId": "32d65030-5b5b-4a9f-bc01-3528e4f1c318"
      },
      "execution_count": null,
      "outputs": [
        {
          "output_type": "stream",
          "name": "stdout",
          "text": [
            "[1 2 3]\n"
          ]
        }
      ]
    },
    {
      "cell_type": "code",
      "source": [
        "b[1] = 10"
      ],
      "metadata": {
        "id": "oTb8vHF6fxWc"
      },
      "execution_count": null,
      "outputs": []
    },
    {
      "cell_type": "code",
      "source": [
        "print(a)"
      ],
      "metadata": {
        "colab": {
          "base_uri": "https://localhost:8080/"
        },
        "id": "KqNDkK5yf0G2",
        "outputId": "d8b88223-f9d8-443b-f5b0-220c220a0da6"
      },
      "execution_count": null,
      "outputs": [
        {
          "output_type": "stream",
          "name": "stdout",
          "text": [
            "[ 1 10  3]\n"
          ]
        }
      ]
    },
    {
      "cell_type": "markdown",
      "metadata": {
        "id": "QBaj4afYZf9M"
      },
      "source": [
        "### 復習：リストのコピー"
      ]
    },
    {
      "cell_type": "code",
      "source": [
        "a = [1, 2, 3]\n",
        "b = a \n",
        "b[1] = 22\n",
        "print(a)\n",
        "print(b)"
      ],
      "metadata": {
        "colab": {
          "base_uri": "https://localhost:8080/"
        },
        "id": "Hm9ISJkTgc6Y",
        "outputId": "43edc41a-5bf5-4d91-e650-23b96d3d9bdb"
      },
      "execution_count": null,
      "outputs": [
        {
          "output_type": "stream",
          "name": "stdout",
          "text": [
            "[1, 22, 3]\n",
            "[1, 22, 3]\n"
          ]
        }
      ]
    },
    {
      "cell_type": "code",
      "source": [
        "print(a[:])"
      ],
      "metadata": {
        "colab": {
          "base_uri": "https://localhost:8080/"
        },
        "id": "EumcTb-Bgrfe",
        "outputId": "5e8a3be4-f9fe-41e6-c41a-f2229b3701d2"
      },
      "execution_count": null,
      "outputs": [
        {
          "output_type": "stream",
          "name": "stdout",
          "text": [
            "[1, 22, 3]\n"
          ]
        }
      ]
    },
    {
      "cell_type": "code",
      "metadata": {
        "colab": {
          "base_uri": "https://localhost:8080/"
        },
        "id": "9s7sI0f6Zb9Q",
        "outputId": "a097674f-07c4-405c-fdf3-e22ae9285b91"
      },
      "source": [
        "c = a[:] #リストがコピーされる\n",
        "c[2] = 234\n",
        "print(a)\n",
        "print(c)"
      ],
      "execution_count": null,
      "outputs": [
        {
          "output_type": "stream",
          "name": "stdout",
          "text": [
            "[1, 22, 3]\n",
            "[1, 22, 234]\n"
          ]
        }
      ]
    },
    {
      "cell_type": "markdown",
      "metadata": {
        "id": "oBRFhX3NZvrC"
      },
      "source": [
        "## ndarrayの場合の`a[:]`"
      ]
    },
    {
      "cell_type": "code",
      "metadata": {
        "colab": {
          "base_uri": "https://localhost:8080/"
        },
        "id": "CTOUB97jZgr5",
        "outputId": "a68a22c9-a60e-440b-aa2a-b96d19ef6a27"
      },
      "source": [
        "a = np.array([1, 2, 3])\n",
        "c = a[:] #コピーされるかどうか？\n",
        "print(id(a) == id(c))\n",
        "c[1] = 22\n",
        "print(a) #変化している"
      ],
      "execution_count": null,
      "outputs": [
        {
          "output_type": "stream",
          "text": [
            "False\n",
            "[ 1 22  3]\n"
          ],
          "name": "stdout"
        }
      ]
    },
    {
      "cell_type": "markdown",
      "metadata": {
        "id": "EaVzJy8XccaI"
      },
      "source": [
        "### `copy`メソッド"
      ]
    },
    {
      "cell_type": "code",
      "metadata": {
        "colab": {
          "base_uri": "https://localhost:8080/"
        },
        "id": "HpvXCyFhZim5",
        "outputId": "1b7aedf3-e8a5-4c3a-8a86-c23b0bf4ce0d"
      },
      "source": [
        "a = np.array([1, 2, 3])\n",
        "d = a.copy() #コピーを作る\n",
        "d[2] = 234\n",
        "print(d)\n",
        "print(a) #変化していない"
      ],
      "execution_count": null,
      "outputs": [
        {
          "output_type": "stream",
          "name": "stdout",
          "text": [
            "[  1   2 234]\n",
            "[1 2 3]\n"
          ]
        }
      ]
    },
    {
      "cell_type": "code",
      "source": [
        "a = {\"one\":1, \"two\":2}\n",
        "b = a\n",
        "b[\"one\"] =10\n",
        "print(a)\n",
        "print(b)"
      ],
      "metadata": {
        "colab": {
          "base_uri": "https://localhost:8080/"
        },
        "id": "sRXT-eqnhBt7",
        "outputId": "792d0d86-2a6c-4491-f5e3-60f0d09e8773"
      },
      "execution_count": null,
      "outputs": [
        {
          "output_type": "stream",
          "name": "stdout",
          "text": [
            "{'one': 10, 'two': 2}\n",
            "{'one': 10, 'two': 2}\n"
          ]
        }
      ]
    },
    {
      "cell_type": "markdown",
      "metadata": {
        "id": "DE6_XyE7ctDL"
      },
      "source": [
        "## in-place演算"
      ]
    },
    {
      "cell_type": "code",
      "metadata": {
        "colab": {
          "base_uri": "https://localhost:8080/"
        },
        "id": "YBDEJIiaZqcJ",
        "outputId": "3c43536c-e20d-4eac-812a-d3ee8505a58e"
      },
      "source": [
        "a = np.array([1, 2, 3])\n",
        "c = a #ビューを作る\n",
        "a = a + 1 #ここで別のオブジェクトになる\n",
        "print(c)\n",
        "\n",
        "a = np.array([1, 2, 3])\n",
        "c = a #ビューを作る\n",
        "a += 1 #in-place演算\n",
        "print(c) #変化している"
      ],
      "execution_count": null,
      "outputs": [
        {
          "output_type": "stream",
          "text": [
            "[1 2 3]\n",
            "[2 3 4]\n"
          ],
          "name": "stdout"
        }
      ]
    },
    {
      "cell_type": "markdown",
      "metadata": {
        "id": "6ADmfSvXcv6i"
      },
      "source": [
        "### in-place演算と演算関数の比較"
      ]
    },
    {
      "cell_type": "code",
      "metadata": {
        "id": "c7bVUN5kaLMc"
      },
      "source": [
        "import time\n",
        "import numpy as np"
      ],
      "execution_count": null,
      "outputs": []
    },
    {
      "cell_type": "code",
      "metadata": {
        "colab": {
          "base_uri": "https://localhost:8080/"
        },
        "id": "7aPtHu-jZ_GT",
        "outputId": "4d365cd5-1b09-4490-8344-417097fdc4ed"
      },
      "source": [
        "size = 100000000\n",
        "x = np.ones(size)\n",
        "y = np.ones(size)\n",
        "for _ in range(10):\n",
        "  a = time.time()\n",
        "  x = x * 4 + y * 3\n",
        "  b = time.time()\n",
        "  print(b - a)\n",
        "  x = np.ones(size)\n",
        "  y = np.ones(size)"
      ],
      "execution_count": null,
      "outputs": [
        {
          "output_type": "stream",
          "text": [
            "0.429105281829834\n",
            "0.4401087760925293\n",
            "0.42964649200439453\n",
            "0.4385106563568115\n",
            "0.4289278984069824\n",
            "0.43470239639282227\n",
            "0.4287228584289551\n",
            "0.43115925788879395\n",
            "0.4420304298400879\n",
            "0.43234682083129883\n"
          ],
          "name": "stdout"
        }
      ]
    },
    {
      "cell_type": "code",
      "metadata": {
        "colab": {
          "base_uri": "https://localhost:8080/"
        },
        "id": "N7WerW8caDw3",
        "outputId": "1152a1e2-dcae-4656-8c30-727cbf4396cc"
      },
      "source": [
        "size = 100000000\n",
        "x = np.ones(size)\n",
        "y = np.ones(size)\n",
        "for _ in range(10):\n",
        "  a = time.time()\n",
        "  x *= 4\n",
        "  y *= 3\n",
        "  x += y\n",
        "  b = time.time()\n",
        "  print(b - a)\n",
        "  x = np.ones(size)\n",
        "  y = np.ones(size)"
      ],
      "execution_count": null,
      "outputs": [
        {
          "output_type": "stream",
          "text": [
            "0.30123090744018555\n",
            "0.3089332580566406\n",
            "0.31571531295776367\n",
            "0.3091440200805664\n",
            "0.3014671802520752\n",
            "0.30440616607666016\n",
            "0.2985825538635254\n",
            "0.3055691719055176\n",
            "0.3029203414916992\n",
            "0.3066377639770508\n"
          ],
          "name": "stdout"
        }
      ]
    },
    {
      "cell_type": "code",
      "metadata": {
        "colab": {
          "base_uri": "https://localhost:8080/"
        },
        "id": "MKG48zxCaQe7",
        "outputId": "533da2f9-2ec3-4e8f-a370-4cfe0f155283"
      },
      "source": [
        "import time\n",
        "import numpy as np\n",
        "\n",
        "size = 100000000\n",
        "x = np.ones(size)\n",
        "y = np.ones(size)\n",
        "for _ in range(10):\n",
        "  a = time.time()\n",
        "  np.multiply(x, 4, out=x)\n",
        "  np.multiply(y, 3, out=y)\n",
        "  np.add(x, y, out=x)\n",
        "  b = time.time()\n",
        "  print(b - a)\n",
        "  x = np.ones(size)\n",
        "  y = np.ones(size)"
      ],
      "execution_count": null,
      "outputs": [
        {
          "output_type": "stream",
          "text": [
            "0.34691810607910156\n",
            "0.3370184898376465\n",
            "0.33677101135253906\n",
            "0.3473992347717285\n",
            "0.3388340473175049\n",
            "0.34104061126708984\n",
            "0.3577144145965576\n",
            "0.3243751525878906\n",
            "0.32071876525878906\n",
            "0.3390650749206543\n"
          ],
          "name": "stdout"
        }
      ]
    },
    {
      "cell_type": "markdown",
      "metadata": {
        "id": "w9XBDkJRc19M"
      },
      "source": [
        "## 配列の形状を変更する"
      ]
    },
    {
      "cell_type": "code",
      "source": [
        "a = np.arange(12)\n",
        "print(a)"
      ],
      "metadata": {
        "colab": {
          "base_uri": "https://localhost:8080/"
        },
        "id": "1zL8HQwxhyIq",
        "outputId": "48d11ced-e1d0-4e8d-e766-bf10807abb22"
      },
      "execution_count": null,
      "outputs": [
        {
          "output_type": "stream",
          "name": "stdout",
          "text": [
            "[ 0  1  2  3  4  5  6  7  8  9 10 11]\n"
          ]
        }
      ]
    },
    {
      "cell_type": "code",
      "source": [
        "b = np.reshape(a, (4, 3)) #NumPyの関数reshape\n",
        "print(b)"
      ],
      "metadata": {
        "colab": {
          "base_uri": "https://localhost:8080/"
        },
        "id": "27YMrN6Yh74p",
        "outputId": "078ddcb9-ba97-4cd6-c0d1-b7a984f9fa0c"
      },
      "execution_count": null,
      "outputs": [
        {
          "output_type": "stream",
          "name": "stdout",
          "text": [
            "[[ 0  1  2]\n",
            " [ 3  4  5]\n",
            " [ 6  7  8]\n",
            " [ 9 10 11]]\n"
          ]
        }
      ]
    },
    {
      "cell_type": "code",
      "metadata": {
        "colab": {
          "base_uri": "https://localhost:8080/"
        },
        "id": "galRR6uCaVAK",
        "outputId": "b98c96ae-e63c-43b5-e868-bf957b4b5d5d"
      },
      "source": [
        "a[3] *= -1\n",
        "print(a)\n",
        "print(b) #変化している\n"
      ],
      "execution_count": null,
      "outputs": [
        {
          "output_type": "stream",
          "name": "stdout",
          "text": [
            "[ 0  1  2 -3  4  5  6  7  8  9 10 11]\n",
            "[[ 0  1  2]\n",
            " [-3  4  5]\n",
            " [ 6  7  8]\n",
            " [ 9 10 11]]\n"
          ]
        }
      ]
    },
    {
      "cell_type": "code",
      "source": [
        "c = a.reshape((2,6)) #ndarrayのreshapeメソッド\n",
        "print(c)"
      ],
      "metadata": {
        "colab": {
          "base_uri": "https://localhost:8080/"
        },
        "id": "fmzPi-t1iXGj",
        "outputId": "9b413f98-2b9f-4f18-8932-ae52e0e30da7"
      },
      "execution_count": null,
      "outputs": [
        {
          "output_type": "stream",
          "name": "stdout",
          "text": [
            "[[ 0  1  2 -3  4  5]\n",
            " [ 6  7  8  9 10 11]]\n"
          ]
        }
      ]
    },
    {
      "cell_type": "code",
      "source": [
        ""
      ],
      "metadata": {
        "id": "E_nh6-LvioG2"
      },
      "execution_count": null,
      "outputs": []
    }
  ]
}