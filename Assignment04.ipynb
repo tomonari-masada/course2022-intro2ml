{
  "nbformat": 4,
  "nbformat_minor": 0,
  "metadata": {
    "colab": {
      "name": "Assignment04.ipynb",
      "provenance": [],
      "authorship_tag": "ABX9TyM4+4H9zpD6eufpUsuosWTP",
      "include_colab_link": true
    },
    "kernelspec": {
      "name": "python3",
      "display_name": "Python 3"
    },
    "language_info": {
      "name": "python"
    }
  },
  "cells": [
    {
      "cell_type": "markdown",
      "metadata": {
        "id": "view-in-github",
        "colab_type": "text"
      },
      "source": [
        "<a href=\"https://colab.research.google.com/github/tomonari-masada/course2022-intro2ml/blob/main/Assignment04.ipynb\" target=\"_parent\"><img src=\"https://colab.research.google.com/assets/colab-badge.svg\" alt=\"Open In Colab\"/></a>"
      ]
    },
    {
      "cell_type": "code",
      "source": [
        "f = open(\"news.txt\", \"r\")\n",
        "\n",
        "count = {}\n",
        "for line in f:\n",
        "  line = line.lower()\n",
        "  line = line.replace('.', '')\n",
        "  line = line.replace(',', '')\n",
        "  words = line.split()\n",
        "  for word in words:\n",
        "    if word in count:\n",
        "      count[word] += 1\n",
        "    else:\n",
        "      count[word] = 1\n",
        "\n",
        "print(count)"
      ],
      "metadata": {
        "colab": {
          "base_uri": "https://localhost:8080/"
        },
        "id": "uKLyX5ivWTbp",
        "outputId": "154c7fcb-2fcb-4e01-e213-ae96dfb6b86f"
      },
      "execution_count": null,
      "outputs": [
        {
          "output_type": "stream",
          "name": "stdout",
          "text": [
            "{'an': 1, 'exterior': 1, 'door': 7, 'at': 1, 'robb': 1, 'elementary': 1, 'school': 2, 'did': 5, 'not': 5, 'lock': 4, 'when': 3, 'it': 3, 'was': 3, 'closed': 3, 'by': 1, 'a': 5, 'teacher': 3, 'shortly': 2, 'before': 2, 'gunman': 1, 'used': 1, 'to': 3, 'get': 1, 'inside': 1, 'and': 4, 'kill': 1, '19': 1, 'students': 1, 'two': 1, 'teachers': 1, 'leaving': 1, 'investigators': 2, 'searching': 1, 'determine': 1, 'why': 2, 'state': 2, 'police': 2, 'said': 5, 'tuesday': 1, 'initially': 1, 'had': 1, 'propped': 2, 'the': 10, 'open': 2, 'salvador': 1, 'ramos': 1, '18': 1, 'entered': 1, 'in': 1, 'uvalde': 1, 'texas': 2, 'on': 2, 'may': 1, '24': 1, 'they': 1, 'have': 1, 'now': 2, 'determined': 1, 'that': 3, 'who': 1, 'has': 1, 'been': 1, 'identified': 1, 'with': 1, 'rock': 2, 'but': 2, 'then': 1, 'removed': 1, 'she': 2, 'realized': 1, 'there': 1, 'shooter': 1, 'campus': 1, 'travis': 1, 'considine': 3, 'chief': 1, 'communications': 1, 'officer': 1, 'for': 1, 'department': 1, 'of': 1, 'public': 1, 'safety': 1, 'designed': 1, 'shut': 1, '“we': 1, 'verify': 1, 'we': 1, 'know': 1, 'much': 1, 'are': 1, 'looking': 1, 'into': 1, 'lock”': 1}\n"
          ]
        }
      ]
    },
    {
      "cell_type": "code",
      "source": [
        "count2 = sorted(count.items(), key=lambda x:x[1], reverse=True)"
      ],
      "metadata": {
        "id": "IV2CIZisWYUm"
      },
      "execution_count": null,
      "outputs": []
    },
    {
      "cell_type": "code",
      "source": [
        "for key, value in count2:\n",
        "  print(key, value)"
      ],
      "metadata": {
        "colab": {
          "base_uri": "https://localhost:8080/"
        },
        "id": "hTtiL2N6YGoY",
        "outputId": "d9f3dad2-9c06-484f-d893-ca3c71f04576"
      },
      "execution_count": null,
      "outputs": [
        {
          "output_type": "stream",
          "name": "stdout",
          "text": [
            "the 10\n",
            "door 7\n",
            "did 5\n",
            "not 5\n",
            "a 5\n",
            "said 5\n",
            "lock 4\n",
            "and 4\n",
            "when 3\n",
            "it 3\n",
            "was 3\n",
            "closed 3\n",
            "teacher 3\n",
            "to 3\n",
            "that 3\n",
            "considine 3\n",
            "school 2\n",
            "shortly 2\n",
            "before 2\n",
            "investigators 2\n",
            "why 2\n",
            "state 2\n",
            "police 2\n",
            "propped 2\n",
            "open 2\n",
            "texas 2\n",
            "on 2\n",
            "now 2\n",
            "rock 2\n",
            "but 2\n",
            "she 2\n",
            "an 1\n",
            "exterior 1\n",
            "at 1\n",
            "robb 1\n",
            "elementary 1\n",
            "by 1\n",
            "gunman 1\n",
            "used 1\n",
            "get 1\n",
            "inside 1\n",
            "kill 1\n",
            "19 1\n",
            "students 1\n",
            "two 1\n",
            "teachers 1\n",
            "leaving 1\n",
            "searching 1\n",
            "determine 1\n",
            "tuesday 1\n",
            "initially 1\n",
            "had 1\n",
            "salvador 1\n",
            "ramos 1\n",
            "18 1\n",
            "entered 1\n",
            "in 1\n",
            "uvalde 1\n",
            "may 1\n",
            "24 1\n",
            "they 1\n",
            "have 1\n",
            "determined 1\n",
            "who 1\n",
            "has 1\n",
            "been 1\n",
            "identified 1\n",
            "with 1\n",
            "then 1\n",
            "removed 1\n",
            "realized 1\n",
            "there 1\n",
            "shooter 1\n",
            "campus 1\n",
            "travis 1\n",
            "chief 1\n",
            "communications 1\n",
            "officer 1\n",
            "for 1\n",
            "department 1\n",
            "of 1\n",
            "public 1\n",
            "safety 1\n",
            "designed 1\n",
            "shut 1\n",
            "“we 1\n",
            "verify 1\n",
            "we 1\n",
            "know 1\n",
            "much 1\n",
            "are 1\n",
            "looking 1\n",
            "into 1\n",
            "lock” 1\n"
          ]
        }
      ]
    },
    {
      "cell_type": "code",
      "source": [
        ""
      ],
      "metadata": {
        "id": "yJ-g9AzRYHcl"
      },
      "execution_count": null,
      "outputs": []
    }
  ]
}