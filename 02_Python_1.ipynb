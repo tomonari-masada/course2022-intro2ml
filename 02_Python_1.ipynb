{
  "nbformat": 4,
  "nbformat_minor": 0,
  "metadata": {
    "colab": {
      "name": "02_Python_1.ipynb",
      "provenance": [],
      "collapsed_sections": [],
      "authorship_tag": "ABX9TyN+8GE7dTFki0GqROcN5skl",
      "include_colab_link": true
    },
    "kernelspec": {
      "name": "python3",
      "display_name": "Python 3"
    },
    "language_info": {
      "name": "python"
    }
  },
  "cells": [
    {
      "cell_type": "markdown",
      "metadata": {
        "id": "view-in-github",
        "colab_type": "text"
      },
      "source": [
        "<a href=\"https://colab.research.google.com/github/tomonari-masada/course2022-intro2ml/blob/main/02_Python_1.ipynb\" target=\"_parent\"><img src=\"https://colab.research.google.com/assets/colab-badge.svg\" alt=\"Open In Colab\"/></a>"
      ]
    },
    {
      "cell_type": "markdown",
      "metadata": {
        "id": "CKNt-nJvwMUk"
      },
      "source": [
        "# Python入門（１）"
      ]
    },
    {
      "cell_type": "markdown",
      "metadata": {
        "id": "gX7PqQlxeR0I"
      },
      "source": [
        "## Google Colabでコード片を実行する"
      ]
    },
    {
      "cell_type": "markdown",
      "source": [
        "* 代入文\n",
        "* 変数"
      ],
      "metadata": {
        "id": "HHsHvJj2GYmL"
      }
    },
    {
      "cell_type": "code",
      "source": [
        "3.1 + 2.4"
      ],
      "metadata": {
        "colab": {
          "base_uri": "https://localhost:8080/"
        },
        "id": "IACDHH5dGo6J",
        "outputId": "0fe7ccc2-c90a-410e-9a76-6f9ade1c9caf"
      },
      "execution_count": null,
      "outputs": [
        {
          "output_type": "execute_result",
          "data": {
            "text/plain": [
              "5.5"
            ]
          },
          "metadata": {},
          "execution_count": 2
        }
      ]
    },
    {
      "cell_type": "code",
      "metadata": {
        "id": "fluONlNcuvDf"
      },
      "source": [
        "a = 3.1\n",
        "b = 2.4\n",
        "c = a + b"
      ],
      "execution_count": null,
      "outputs": []
    },
    {
      "cell_type": "code",
      "source": [
        "print(c)"
      ],
      "metadata": {
        "colab": {
          "base_uri": "https://localhost:8080/"
        },
        "id": "L-pWjfUIPw2-",
        "outputId": "f4fe909c-14a8-4f60-ec8b-8e34b6cad22a"
      },
      "execution_count": null,
      "outputs": [
        {
          "output_type": "stream",
          "name": "stdout",
          "text": [
            "5.5\n"
          ]
        }
      ]
    },
    {
      "cell_type": "markdown",
      "metadata": {
        "id": "iqSn5bSyeTg5"
      },
      "source": [
        "## print関数"
      ]
    },
    {
      "cell_type": "code",
      "metadata": {
        "id": "SLIgWKqwux4K",
        "colab": {
          "base_uri": "https://localhost:8080/"
        },
        "outputId": "5852bb7d-58e3-42b3-eb60-fccb519817ae"
      },
      "source": [
        "print('Hello!')\n",
        "print('World!')\n",
        "print('Hello,', 'world!')"
      ],
      "execution_count": null,
      "outputs": [
        {
          "output_type": "stream",
          "name": "stdout",
          "text": [
            "Hello!\n",
            "World!\n",
            "Hello, world!\n"
          ]
        }
      ]
    },
    {
      "cell_type": "code",
      "source": [
        "print(3 * 2)"
      ],
      "metadata": {
        "colab": {
          "base_uri": "https://localhost:8080/"
        },
        "id": "_uBcdDZtId4I",
        "outputId": "b22d44d3-3a94-4695-b148-451db5d1b6d1"
      },
      "execution_count": null,
      "outputs": [
        {
          "output_type": "stream",
          "name": "stdout",
          "text": [
            "6\n"
          ]
        }
      ]
    },
    {
      "cell_type": "code",
      "source": [
        "x = 1.5\n",
        "y = 2.3\n",
        "print(x - y)"
      ],
      "metadata": {
        "colab": {
          "base_uri": "https://localhost:8080/"
        },
        "id": "S8mZPfnjIuK0",
        "outputId": "ba428a1d-9c13-4662-a9b7-5cfea13f8b41"
      },
      "execution_count": null,
      "outputs": [
        {
          "output_type": "stream",
          "name": "stdout",
          "text": [
            "-0.7999999999999998\n"
          ]
        }
      ]
    },
    {
      "cell_type": "code",
      "source": [
        "y"
      ],
      "metadata": {
        "colab": {
          "base_uri": "https://localhost:8080/"
        },
        "id": "NTxdIzvvJARB",
        "outputId": "68e6621b-f6bb-4fc9-fc25-4ebadd3346f4"
      },
      "execution_count": null,
      "outputs": [
        {
          "output_type": "execute_result",
          "data": {
            "text/plain": [
              "2.3"
            ]
          },
          "metadata": {},
          "execution_count": 20
        }
      ]
    },
    {
      "cell_type": "markdown",
      "metadata": {
        "id": "VpOjKvJkeX04"
      },
      "source": [
        "## Pythonのオブジェクト"
      ]
    },
    {
      "cell_type": "markdown",
      "metadata": {
        "id": "AHPOMKIzgmbH"
      },
      "source": [
        "* オブジェクト(object)\n",
        " * Pythonのプログラムによって操作されるもののこと。\n",
        " * すべてのオブジェクトは型(type)をもつ。\n",
        "* 型(type)\n",
        " * スカラ(scalar): 分割不能。\n",
        " * 非スカラ(non-scalar): 内部構造を持つ。例えば文字列。"
      ]
    },
    {
      "cell_type": "markdown",
      "metadata": {
        "id": "DGRUrV2vgyq8"
      },
      "source": [
        "### スカラ・オブジェクトの4つの型\n",
        "* int型\n",
        "* float型\n",
        "* bool型 （真偽型）\n",
        " * TrueとFalseの二種類の値しかない\n",
        "* None型\n",
        " * Noneという一つの値しかない\n"
      ]
    },
    {
      "cell_type": "code",
      "source": [
        "2 != 2"
      ],
      "metadata": {
        "colab": {
          "base_uri": "https://localhost:8080/"
        },
        "id": "fE0xmKy8LmWP",
        "outputId": "6c12b299-a86c-4ce4-9aca-c87e57c8337e"
      },
      "execution_count": null,
      "outputs": [
        {
          "output_type": "execute_result",
          "data": {
            "text/plain": [
              "False"
            ]
          },
          "metadata": {},
          "execution_count": 36
        }
      ]
    },
    {
      "cell_type": "code",
      "metadata": {
        "id": "r36vKH7ou8gF",
        "colab": {
          "base_uri": "https://localhost:8080/"
        },
        "outputId": "f8a9b903-5123-4b18-aaf4-f34cdf0e7ad2"
      },
      "source": [
        "print(type(3))\n",
        "print(type(3.0))\n",
        "print(type(3 != 2))"
      ],
      "execution_count": null,
      "outputs": [
        {
          "output_type": "stream",
          "name": "stdout",
          "text": [
            "<class 'int'>\n",
            "<class 'float'>\n",
            "<class 'bool'>\n"
          ]
        }
      ]
    },
    {
      "cell_type": "code",
      "metadata": {
        "id": "u4YZf-1tg6jz",
        "colab": {
          "base_uri": "https://localhost:8080/"
        },
        "outputId": "2afb473e-ef6b-4244-fb8f-125d295fdca4"
      },
      "source": [
        "a = None\n",
        "print(a is None)"
      ],
      "execution_count": null,
      "outputs": [
        {
          "output_type": "stream",
          "name": "stdout",
          "text": [
            "True\n"
          ]
        }
      ]
    },
    {
      "cell_type": "markdown",
      "metadata": {
        "id": "4ZUaJIZ7ehQ0"
      },
      "source": [
        "## 演算子"
      ]
    },
    {
      "cell_type": "markdown",
      "metadata": {
        "id": "8GQWjbbdhGHW"
      },
      "source": [
        "### 演算子の一覧\n",
        "\n",
        "\n",
        "> +, -, \\*, //, /, %, \\*\\*, ==, !=, >, >=, <, <=\n",
        "\n",
        "> and, or, not\n",
        "\n",
        "* 問：//と/の違いは？\n",
        "* 問：(5+2)\\*4と5+2\\*4の違いは？（演算子の優先順位）\n"
      ]
    },
    {
      "cell_type": "code",
      "metadata": {
        "id": "4IU28wFwu-6d",
        "colab": {
          "base_uri": "https://localhost:8080/"
        },
        "outputId": "c73406d6-6f48-423b-f750-91655b0aa91b"
      },
      "source": [
        "print(3 + 2)\n",
        "print(3.0 + 2.0)\n",
        "print(3 != 2)"
      ],
      "execution_count": null,
      "outputs": [
        {
          "output_type": "stream",
          "name": "stdout",
          "text": [
            "5\n",
            "5.0\n",
            "True\n"
          ]
        }
      ]
    },
    {
      "cell_type": "code",
      "source": [
        "print(2 >= 2)"
      ],
      "metadata": {
        "colab": {
          "base_uri": "https://localhost:8080/"
        },
        "id": "NpYGER_-RLKY",
        "outputId": "9a778f9a-115c-4295-f454-f7ceda4c7c15"
      },
      "execution_count": null,
      "outputs": [
        {
          "output_type": "stream",
          "name": "stdout",
          "text": [
            "True\n"
          ]
        }
      ]
    },
    {
      "cell_type": "code",
      "source": [
        "print(11 // 3) # int型の割り算（切り捨て)\n",
        "print(11 / 3) # float型の割り算"
      ],
      "metadata": {
        "colab": {
          "base_uri": "https://localhost:8080/"
        },
        "id": "t2fqQOj8Rq6o",
        "outputId": "67e83a27-193f-47be-932d-4d36508da22c"
      },
      "execution_count": null,
      "outputs": [
        {
          "output_type": "stream",
          "name": "stdout",
          "text": [
            "3\n",
            "3.6666666666666665\n"
          ]
        }
      ]
    },
    {
      "cell_type": "code",
      "source": [
        "print(13 % 5) # 余り"
      ],
      "metadata": {
        "colab": {
          "base_uri": "https://localhost:8080/"
        },
        "id": "bYE1_2k9S3n5",
        "outputId": "e65c6b63-7128-4842-d69a-f87fddc5ce90"
      },
      "execution_count": null,
      "outputs": [
        {
          "output_type": "stream",
          "name": "stdout",
          "text": [
            "3\n"
          ]
        }
      ]
    },
    {
      "cell_type": "code",
      "source": [
        "c = 13 % 5\n",
        "d = c * 2\n",
        "e = d + c"
      ],
      "metadata": {
        "id": "xyGFylNTTK4K"
      },
      "execution_count": null,
      "outputs": []
    },
    {
      "cell_type": "code",
      "source": [
        "print(e)"
      ],
      "metadata": {
        "colab": {
          "base_uri": "https://localhost:8080/"
        },
        "id": "5jN8yf1bTQDJ",
        "outputId": "6cb1a97b-de6e-4feb-dc83-abaa98e92421"
      },
      "execution_count": null,
      "outputs": [
        {
          "output_type": "stream",
          "name": "stdout",
          "text": [
            "9\n"
          ]
        }
      ]
    },
    {
      "cell_type": "code",
      "source": [
        "print((3 == 4) and (4 == 4)) # かつ"
      ],
      "metadata": {
        "colab": {
          "base_uri": "https://localhost:8080/"
        },
        "id": "6oQx6hxiUui8",
        "outputId": "f51c818c-a47d-44d8-d47f-503f6a743ba5"
      },
      "execution_count": null,
      "outputs": [
        {
          "output_type": "stream",
          "name": "stdout",
          "text": [
            "False\n"
          ]
        }
      ]
    },
    {
      "cell_type": "markdown",
      "metadata": {
        "id": "KA94z1E_ejrV"
      },
      "source": [
        "## 変数と代入"
      ]
    },
    {
      "cell_type": "markdown",
      "metadata": {
        "id": "2M9pkBiNeqUL"
      },
      "source": [
        "### 変数名について\n",
        "* 大文字、小文字、数字、特殊文字'_'\n",
        "* 大文字と小文字は区別される\n",
        "* 予約語(reserved word)は変数名として使えない\n",
        " * and, as, assert, break, class, continue, def, del, elif, else, except, False, finally, for, from, global, if, import, in, is, lambda, nonlocal, None, not, or, pass, raise, return, True, try, while, with, yield\n"
      ]
    },
    {
      "cell_type": "code",
      "source": [
        "abc_def_103421 = 5"
      ],
      "metadata": {
        "id": "jRHnDYOVUf23"
      },
      "execution_count": null,
      "outputs": []
    },
    {
      "cell_type": "code",
      "source": [
        "print(abc_def_103421)"
      ],
      "metadata": {
        "colab": {
          "base_uri": "https://localhost:8080/"
        },
        "id": "8XoZyYc-UmC7",
        "outputId": "e43a68b2-ba14-4ec8-99d8-2d706c843dca"
      },
      "execution_count": null,
      "outputs": [
        {
          "output_type": "stream",
          "name": "stdout",
          "text": [
            "5\n"
          ]
        }
      ]
    },
    {
      "cell_type": "markdown",
      "metadata": {
        "id": "UNvchLcvex0k"
      },
      "source": [
        "### 複数の代入を1つの文で"
      ]
    },
    {
      "cell_type": "code",
      "metadata": {
        "id": "vAyWYg3dvBS0",
        "colab": {
          "base_uri": "https://localhost:8080/"
        },
        "outputId": "512a3c53-a2e5-482a-943d-1f03908b546a"
      },
      "source": [
        "a, b = 5, 4  #aと5, bと4が紐付けされる\n",
        "print(a, b)"
      ],
      "execution_count": null,
      "outputs": [
        {
          "output_type": "stream",
          "name": "stdout",
          "text": [
            "5 4\n"
          ]
        }
      ]
    },
    {
      "cell_type": "markdown",
      "source": [
        "## 課題1B\n",
        "* 14を5で割った余りを表示するコードを書いてください。\n",
        "* 半径が10.3の円の面積を表示するコードを書いてください。（円周率 3.14）"
      ],
      "metadata": {
        "id": "ETxJRSgAWkyf"
      }
    },
    {
      "cell_type": "code",
      "source": [
        ""
      ],
      "metadata": {
        "id": "FXB8jZudYb0l"
      },
      "execution_count": null,
      "outputs": []
    },
    {
      "cell_type": "code",
      "source": [
        ""
      ],
      "metadata": {
        "id": "P6roUgrwYcZC"
      },
      "execution_count": null,
      "outputs": []
    },
    {
      "cell_type": "markdown",
      "source": [
        "（2022/04/27はここから）"
      ],
      "metadata": {
        "id": "aWyq7T4qfpqj"
      }
    },
    {
      "cell_type": "code",
      "metadata": {
        "id": "zXlghevzvEXc",
        "colab": {
          "base_uri": "https://localhost:8080/"
        },
        "outputId": "d129c4b3-f3a7-4547-ec67-d6d61366b327"
      },
      "source": [
        "a, b = 5, 4\n",
        "a, b = b, a\n",
        "print(a, b)"
      ],
      "execution_count": null,
      "outputs": [
        {
          "output_type": "stream",
          "name": "stdout",
          "text": [
            "4 5\n"
          ]
        }
      ]
    },
    {
      "cell_type": "markdown",
      "metadata": {
        "id": "5aQHIHDhjaw9"
      },
      "source": [
        "* 組み込み関数idを使うとオブジェクトの固有識別子が得られる\n"
      ]
    },
    {
      "cell_type": "code",
      "metadata": {
        "id": "lg5cLj5RvG90"
      },
      "source": [
        "print(id(2))\n",
        "a = 2\n",
        "print(a)\n",
        "print(id(a))\n",
        "b = 1 + 1\n",
        "print(b)\n",
        "print(id(b))"
      ],
      "execution_count": null,
      "outputs": []
    },
    {
      "cell_type": "markdown",
      "metadata": {
        "id": "aIjARcgke2Kd"
      },
      "source": [
        "## 分岐"
      ]
    },
    {
      "cell_type": "code",
      "metadata": {
        "id": "MWREuv21vJcM"
      },
      "source": [
        "x = 251\n",
        "if x % 2 == 1:\n",
        "    print('Odd')\n",
        "else:\n",
        "    print('Even')"
      ],
      "execution_count": null,
      "outputs": []
    },
    {
      "cell_type": "markdown",
      "metadata": {
        "id": "JSDgqqlRfsJ9"
      },
      "source": [
        "### 入れ子状の分岐"
      ]
    },
    {
      "cell_type": "code",
      "metadata": {
        "id": "-E3gw12gvLtc"
      },
      "source": [
        "x = 30\n",
        "if x % 3 == 0:\n",
        "    if x % 5 == 0:\n",
        "        print('Divisible by 3 and 5')\n",
        "    else:\n",
        "        print('Divisible by 3 and not by 5')\n",
        "elif x % 5 == 0:\n",
        "    print('Divisible by 5 and not by 3')"
      ],
      "execution_count": null,
      "outputs": []
    },
    {
      "cell_type": "markdown",
      "metadata": {
        "id": "mA-bPy_he6r-"
      },
      "source": [
        "## 文字列型（str型）"
      ]
    },
    {
      "cell_type": "code",
      "metadata": {
        "id": "GnDPUVb-vNfc"
      },
      "source": [
        "print('a')\n",
        "print(3 * 'a')\n",
        "print('a' + 'b')\n",
        "#print('a' * 'a')"
      ],
      "execution_count": null,
      "outputs": []
    },
    {
      "cell_type": "markdown",
      "metadata": {
        "id": "V7Nfg-WRfzXY"
      },
      "source": [
        "### 順序型としての文字列型\n",
        "* 順序型には以下の三種類の操作が共通している\n",
        " * 長さ\n",
        " * 添え字\n",
        " * スライシング"
      ]
    },
    {
      "cell_type": "code",
      "metadata": {
        "id": "lvB2EnbyvPKU"
      },
      "source": [
        "s = 'abcdef'\n",
        "print(len(s)) #長さを調べる\n",
        "print(s[3]) #添え字(index)で個々の要素を取り出す\n",
        "print(s[2:4]) #スライス表記(slicing)"
      ],
      "execution_count": null,
      "outputs": []
    },
    {
      "cell_type": "markdown",
      "metadata": {
        "id": "dt7EBik-fBof"
      },
      "source": [
        "## 入力"
      ]
    },
    {
      "cell_type": "code",
      "metadata": {
        "id": "MeOqyvNjvRZL"
      },
      "source": [
        "name = input('Enter your name: ')\n",
        "print('Your name is ' + name +'.')"
      ],
      "execution_count": null,
      "outputs": []
    },
    {
      "cell_type": "markdown",
      "metadata": {
        "id": "ZqQV6CDnf_az"
      },
      "source": [
        "### 文字列型以外の入力\n",
        "* キャストする"
      ]
    },
    {
      "cell_type": "code",
      "metadata": {
        "id": "3C3VPUMSvTq7"
      },
      "source": [
        "age = input('Enter your age: ')\n",
        "n = int(age) #文字列型からint型へキャスト\n",
        "print(n * 12)"
      ],
      "execution_count": null,
      "outputs": []
    },
    {
      "cell_type": "markdown",
      "metadata": {
        "id": "o9QpUsucfE0M"
      },
      "source": [
        "## 補足：フォーマット付きのprint"
      ]
    },
    {
      "cell_type": "code",
      "metadata": {
        "id": "qEZYAS3ZvWVT"
      },
      "source": [
        "a = 0.00215332634\n",
        "print(a)\n",
        "print(f'a = {a}')\n",
        "print(f'a = {a:.4f}')\n",
        "print(f'a = {a:.4e}')"
      ],
      "execution_count": null,
      "outputs": []
    },
    {
      "cell_type": "markdown",
      "metadata": {
        "id": "noTcnvulfH3e"
      },
      "source": [
        "## ループ（while文を使う）"
      ]
    },
    {
      "cell_type": "code",
      "metadata": {
        "id": "AFUCpcdMvZjj"
      },
      "source": [
        "s = 0\n",
        "n = 1\n",
        "while n <= 10:\n",
        "    s += n\n",
        "    n += 1\n",
        "print(s)"
      ],
      "execution_count": null,
      "outputs": []
    },
    {
      "cell_type": "markdown",
      "metadata": {
        "id": "lB91Gi2rgGjp"
      },
      "source": [
        "### 無限ループ\n",
        "* breakで抜ける"
      ]
    },
    {
      "cell_type": "code",
      "metadata": {
        "id": "b-buAMfUvbYa"
      },
      "source": [
        "s = 0\n",
        "n = 1\n",
        "while True:\n",
        "    if n > 10:\n",
        "        break\n",
        "    s += n\n",
        "    n += 1\n",
        "print(s)"
      ],
      "execution_count": null,
      "outputs": []
    },
    {
      "cell_type": "markdown",
      "metadata": {
        "id": "5c9RtmDufPeN"
      },
      "source": [
        "## リスト"
      ]
    },
    {
      "cell_type": "code",
      "metadata": {
        "id": "7Ox-Ru0Fvkq6"
      },
      "source": [
        "a = [ 2.5, -8.0, 1.7, 4.4, -0.6 ]\n",
        "print(a)\n",
        "print(a[2])\n",
        "print(len(a))\n",
        "print(a[-1])\n",
        "a[3] = 4.3\n",
        "print(a)"
      ],
      "execution_count": null,
      "outputs": []
    },
    {
      "cell_type": "code",
      "metadata": {
        "id": "906Zj_rMvn3i"
      },
      "source": [
        "a = [ 2.5, -8.0, 1.7, 4.4, -0.6 ]\n",
        "print(a[1:3])\n",
        "print(a[2:])\n",
        "print(a[:2])\n",
        "print(a[0:5:2])"
      ],
      "execution_count": null,
      "outputs": []
    },
    {
      "cell_type": "markdown",
      "metadata": {
        "id": "wfySSpJ8gMYF"
      },
      "source": [
        "### リストのメソッド"
      ]
    },
    {
      "cell_type": "code",
      "metadata": {
        "id": "CoTJnwbhvpSq"
      },
      "source": [
        "a = [ 2.5, -8.0, 1.7, 4.4, -0.6 ]\n",
        "a.append(-5.3)\n",
        "print(a)\n",
        "a.reverse()\n",
        "print(a)\n",
        "a.sort()\n",
        "print(a)"
      ],
      "execution_count": null,
      "outputs": []
    },
    {
      "cell_type": "code",
      "metadata": {
        "id": "TPTL3t8ogTc0"
      },
      "source": [
        "a = [ 2.5, -8.0, 1.7, 4.4, -0.6 ]\n",
        "print(2.5 in a)\n",
        "print(1.1 in a)"
      ],
      "execution_count": null,
      "outputs": []
    },
    {
      "cell_type": "markdown",
      "metadata": {
        "id": "UTtDLnFSfUWL"
      },
      "source": [
        "## タプル\n",
        "* 要素を後から変更できない"
      ]
    },
    {
      "cell_type": "code",
      "metadata": {
        "id": "GONB2Q76vqwp"
      },
      "source": [
        "a = ( 2.5, -8.0, 1.7, 4.4, -0.6 )\n",
        "print(a)\n",
        "print(a[2])\n",
        "print(len(a))\n",
        "print(a[-1])\n",
        "#a[3] = 4.3 #エラーが出るはず\n",
        "\n",
        "b = list(a) #タプルをリストにする\n",
        "print(b)"
      ],
      "execution_count": null,
      "outputs": []
    },
    {
      "cell_type": "markdown",
      "metadata": {
        "id": "wQFrwH5UfYX4"
      },
      "source": [
        "## 辞書 \n",
        "* キーと値のペア"
      ]
    },
    {
      "cell_type": "code",
      "metadata": {
        "id": "wRqL_JxXvsaZ"
      },
      "source": [
        "dic = {'one':1, 'three':3, 'nine':9, 'four':4}\n",
        "print(dic['three'])\n",
        "dic['seven'] = 7\n",
        "print(dic['seven'])\n",
        "print(dic)\n",
        "print('nine' in dic)\n",
        "print('six' in dic)"
      ],
      "execution_count": null,
      "outputs": []
    },
    {
      "cell_type": "code",
      "metadata": {
        "id": "I56BGAT6vwsJ"
      },
      "source": [
        "dic = {'one':1, 'three':3, 'nine':9, 'four':4}\n",
        "print(dic)\n",
        "print(list(dic)) #辞書をリストにする\n",
        "print(dic.keys())\n",
        "print(dic.values())\n",
        "print(dic.items())"
      ],
      "execution_count": null,
      "outputs": []
    },
    {
      "cell_type": "markdown",
      "metadata": {
        "id": "wYHQQS6Qgd5L"
      },
      "source": [
        "## Pythonにおける流れの制御と関数定義\n",
        "* if文（既出。）\n",
        "* while文（既出。）\n",
        "* for文\n",
        " * Pythonのfor文はやや特殊。\n",
        "* defによる関数定義\n"
      ]
    },
    {
      "cell_type": "markdown",
      "metadata": {
        "id": "0Swl_lupfdFJ"
      },
      "source": [
        "## リストを使ったfor文"
      ]
    },
    {
      "cell_type": "code",
      "metadata": {
        "id": "Vfi3XW9DvyKx"
      },
      "source": [
        "for c in [ 3.0, -1.2, 6.9, 0.2, -5.3 ]:\n",
        "    print(c)\n",
        "\n",
        "a = []\n",
        "for c in [ 3.0, -1.2, 6.9, 0.2, -5.3 ]:\n",
        "    a.append(c)\n",
        "    print(a)"
      ],
      "execution_count": null,
      "outputs": []
    },
    {
      "cell_type": "markdown",
      "metadata": {
        "id": "vhML1zeLffit"
      },
      "source": [
        "## range関数を使ったfor文"
      ]
    },
    {
      "cell_type": "code",
      "metadata": {
        "id": "nbtmjDcOvz45"
      },
      "source": [
        "for i in range(10):\n",
        "    print(i)"
      ],
      "execution_count": null,
      "outputs": []
    },
    {
      "cell_type": "code",
      "metadata": {
        "id": "AyNW_eNJv1YB"
      },
      "source": [
        "for i in range(10):\n",
        "    if i > 5:\n",
        "        break\n",
        "    else:\n",
        "        print(i)"
      ],
      "execution_count": null,
      "outputs": []
    },
    {
      "cell_type": "markdown",
      "metadata": {
        "id": "MZiBm_Nvfhya"
      },
      "source": [
        "## for文と辞書 \n",
        "* キーをひとつずつ拾っていく"
      ]
    },
    {
      "cell_type": "code",
      "metadata": {
        "id": "ZuvIstxIv3Nx"
      },
      "source": [
        "dic = {'one':1, 'three':3, 'nine':9, 'four':4}\n",
        "for key in dic:\n",
        "    print(key, dic[key])"
      ],
      "execution_count": null,
      "outputs": []
    },
    {
      "cell_type": "markdown",
      "metadata": {
        "id": "y7vVJFxofmUc"
      },
      "source": [
        "## 関数を自分で定義する（defと書く）"
      ]
    },
    {
      "cell_type": "code",
      "metadata": {
        "id": "Zillp-DTv4jh"
      },
      "source": [
        "def square(x):\n",
        "    return x * x\n",
        "\n",
        "y = square(3.0)\n",
        "print(y)"
      ],
      "execution_count": null,
      "outputs": []
    },
    {
      "cell_type": "markdown",
      "metadata": {
        "id": "oUYjDAOLwF9S"
      },
      "source": [
        "## 課題２\n",
        "* 以下のことを実現するコードをPythonで書こう\n",
        " * ユーザに6つの正の整数を入力してもらう\n",
        " * そのうち、一番大きな値だけを表示する\n"
      ]
    },
    {
      "cell_type": "code",
      "metadata": {
        "id": "gW-qbvRQwKrA"
      },
      "source": [
        ""
      ],
      "execution_count": null,
      "outputs": []
    },
    {
      "cell_type": "markdown",
      "metadata": {
        "id": "L84BJwCSv9JZ"
      },
      "source": [
        "## 課題３\n",
        "* まず、与えられた数が偶数であればTrueを、奇数であればFalseを返す関数is_evenを定義せよ。\n",
        "* そして、この関数is_evenを使って、1から1000までの範囲にある偶数の和を求めよ。\n"
      ]
    },
    {
      "cell_type": "code",
      "metadata": {
        "id": "dDZFDhj1wBom"
      },
      "source": [
        ""
      ],
      "execution_count": null,
      "outputs": []
    }
  ]
}