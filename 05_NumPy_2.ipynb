{
  "nbformat": 4,
  "nbformat_minor": 0,
  "metadata": {
    "colab": {
      "name": "05_NumPy_2.ipynb",
      "provenance": [],
      "collapsed_sections": [],
      "authorship_tag": "ABX9TyMW/AahMxTViyD7l5I5uxb+",
      "include_colab_link": true
    },
    "kernelspec": {
      "name": "python3",
      "display_name": "Python 3"
    },
    "language_info": {
      "name": "python"
    }
  },
  "cells": [
    {
      "cell_type": "markdown",
      "metadata": {
        "id": "view-in-github",
        "colab_type": "text"
      },
      "source": [
        "<a href=\"https://colab.research.google.com/github/tomonari-masada/course2022-intro2ml/blob/main/05_NumPy_2.ipynb\" target=\"_parent\"><img src=\"https://colab.research.google.com/assets/colab-badge.svg\" alt=\"Open In Colab\"/></a>"
      ]
    },
    {
      "cell_type": "markdown",
      "metadata": {
        "id": "-JELfuI1U6jb"
      },
      "source": [
        "# NumPyライブラリの説明の続き"
      ]
    },
    {
      "cell_type": "markdown",
      "metadata": {
        "id": "QMnUo1jwUjLm"
      },
      "source": [
        "* NumPyのインポート"
      ]
    },
    {
      "cell_type": "code",
      "metadata": {
        "id": "zDr4hOIxTQ5K"
      },
      "source": [
        "import numpy as np"
      ],
      "execution_count": null,
      "outputs": []
    },
    {
      "cell_type": "markdown",
      "metadata": {
        "id": "GvBF8AdGU-y0"
      },
      "source": [
        "## ブロードキャスト"
      ]
    },
    {
      "cell_type": "markdown",
      "metadata": {
        "id": "p0Wjfyk-UmIK"
      },
      "source": [
        "* 同じことを3通りの方法で実施\n",
        " * 一番最後の方法がベスト"
      ]
    },
    {
      "cell_type": "code",
      "metadata": {
        "colab": {
          "base_uri": "https://localhost:8080/"
        },
        "id": "A7gB5WPtTWaP",
        "outputId": "b70a652f-d32b-4254-f2a3-5530c4797d4c"
      },
      "source": [
        "x = np.array([[1,2,3], [4,5,6], [7,8,9], [10,11,12]])\n",
        "v = np.array([1,0,1])\n",
        "y = np.empty_like(x)\n",
        "for i in range(4):\n",
        "  y[i, :] = x[i, :] + v\n",
        "print(y)"
      ],
      "execution_count": null,
      "outputs": [
        {
          "output_type": "stream",
          "text": [
            "[[ 2  2  4]\n",
            " [ 5  5  7]\n",
            " [ 8  8 10]\n",
            " [11 11 13]]\n"
          ],
          "name": "stdout"
        }
      ]
    },
    {
      "cell_type": "code",
      "metadata": {
        "colab": {
          "base_uri": "https://localhost:8080/"
        },
        "id": "sRb2lkqLTagU",
        "outputId": "a4267e39-1394-40d7-9852-8a66c74ff6e2"
      },
      "source": [
        "x = np.array([[1,2,3], [4,5,6], [7,8,9], [10,11,12]])\n",
        "v = np.array([1,0,1])\n",
        "vv = np.tile(v, (4, 1))\n",
        "print(vv)\n",
        "y = x + vv\n",
        "print(y)"
      ],
      "execution_count": null,
      "outputs": [
        {
          "output_type": "stream",
          "text": [
            "[[1 0 1]\n",
            " [1 0 1]\n",
            " [1 0 1]\n",
            " [1 0 1]]\n",
            "[[ 2  2  4]\n",
            " [ 5  5  7]\n",
            " [ 8  8 10]\n",
            " [11 11 13]]\n"
          ],
          "name": "stdout"
        }
      ]
    },
    {
      "cell_type": "code",
      "metadata": {
        "colab": {
          "base_uri": "https://localhost:8080/"
        },
        "id": "QKHcABeETgRa",
        "outputId": "cd04b5b2-26f0-47b2-d876-fb7f49ead673"
      },
      "source": [
        "x = np.array([[1,2,3], [4,5,6], [7,8,9], [10,11,12]])\n",
        "v = np.array([1,0,1])\n",
        "y = x + v\n",
        "print(y)"
      ],
      "execution_count": null,
      "outputs": [
        {
          "output_type": "stream",
          "text": [
            "[[ 2  2  4]\n",
            " [ 5  5  7]\n",
            " [ 8  8 10]\n",
            " [11 11 13]]\n"
          ],
          "name": "stdout"
        }
      ]
    },
    {
      "cell_type": "markdown",
      "metadata": {
        "id": "FhhZeq62UtJ_"
      },
      "source": [
        "* ブロードキャスト"
      ]
    },
    {
      "cell_type": "code",
      "metadata": {
        "colab": {
          "base_uri": "https://localhost:8080/"
        },
        "id": "MEjYnIiQTibL",
        "outputId": "41f76f15-9b41-4634-bb7e-23a402da2220"
      },
      "source": [
        "print(np.array([[1, 2, 3]]) + [1])"
      ],
      "execution_count": null,
      "outputs": [
        {
          "output_type": "stream",
          "text": [
            "[[2 3 4]]\n"
          ],
          "name": "stdout"
        }
      ]
    },
    {
      "cell_type": "code",
      "metadata": {
        "colab": {
          "base_uri": "https://localhost:8080/"
        },
        "id": "H1A_8Z14Tm7T",
        "outputId": "28b856fe-35c6-4533-e7ba-4f1fa0d2d832"
      },
      "source": [
        "a = np.array([[1, 2]])\n",
        "print(a.shape)\n",
        "b = np.array([3, 4])\n",
        "print(b.shape)\n",
        "c = a + b\n",
        "print(c)\n",
        "print(c.shape)"
      ],
      "execution_count": null,
      "outputs": [
        {
          "output_type": "stream",
          "text": [
            "(1, 2)\n",
            "(2,)\n",
            "[[4 6]]\n",
            "(1, 2)\n"
          ],
          "name": "stdout"
        }
      ]
    },
    {
      "cell_type": "code",
      "metadata": {
        "colab": {
          "base_uri": "https://localhost:8080/"
        },
        "id": "0uN85mQ4TpDb",
        "outputId": "30b0e810-dd95-4b34-f8b2-e00527939cee"
      },
      "source": [
        "a = np.array([1,2])\n",
        "print(a.shape)\n",
        "b = np.array([[3,4],[2,3]])\n",
        "print(b.shape)\n",
        "c = a + b\n",
        "print(c.shape)\n",
        "print(c)"
      ],
      "execution_count": null,
      "outputs": [
        {
          "output_type": "stream",
          "text": [
            "(2,)\n",
            "(2, 2)\n",
            "(2, 2)\n",
            "[[4 6]\n",
            " [3 5]]\n"
          ],
          "name": "stdout"
        }
      ]
    },
    {
      "cell_type": "code",
      "metadata": {
        "colab": {
          "base_uri": "https://localhost:8080/"
        },
        "id": "dswVrLNITrUa",
        "outputId": "ba2883f2-7ae3-4dee-f95c-ea09a5882056"
      },
      "source": [
        "a = np.array([[1],[2],[3]])\n",
        "print(a.shape)\n",
        "b = np.array([[4,8],[5,10],[6,12]])\n",
        "print(b.shape)\n",
        "c = a + b\n",
        "print(c.shape)\n",
        "print(c)"
      ],
      "execution_count": null,
      "outputs": [
        {
          "output_type": "stream",
          "text": [
            "(3, 1)\n",
            "(3, 2)\n",
            "(3, 2)\n",
            "[[ 5  9]\n",
            " [ 7 12]\n",
            " [ 9 15]]\n"
          ],
          "name": "stdout"
        }
      ]
    },
    {
      "cell_type": "code",
      "metadata": {
        "colab": {
          "base_uri": "https://localhost:8080/"
        },
        "id": "hgDxjE0zTtGy",
        "outputId": "441f0d3f-de6a-444f-c095-3ed6bde2ea2d"
      },
      "source": [
        "a = np.array([1,2])\n",
        "print(a.shape)\n",
        "b = np.array([[3],[4]])\n",
        "print(b.shape)\n",
        "c = a * b\n",
        "print(c.shape)\n",
        "print(c) # 出力がなぜそうなるか説明してみよう"
      ],
      "execution_count": null,
      "outputs": [
        {
          "output_type": "stream",
          "text": [
            "(2,)\n",
            "(2, 1)\n",
            "(2, 2)\n",
            "[[3 6]\n",
            " [4 8]]\n"
          ],
          "name": "stdout"
        }
      ]
    },
    {
      "cell_type": "markdown",
      "metadata": {
        "id": "ayhSwjLLVCdT"
      },
      "source": [
        "## 数学的なデータの処理"
      ]
    },
    {
      "cell_type": "markdown",
      "metadata": {
        "id": "Dcp_87QpUxhz"
      },
      "source": [
        "* 様々な関数"
      ]
    },
    {
      "cell_type": "code",
      "metadata": {
        "colab": {
          "base_uri": "https://localhost:8080/"
        },
        "id": "UIMuD4F4TvUK",
        "outputId": "53c30ec7-b9ca-47f9-c80d-cafe9a33c00a"
      },
      "source": [
        "print(np.power(2, 3))\n",
        "print(np.power(2.1, 2.8))"
      ],
      "execution_count": null,
      "outputs": [
        {
          "output_type": "stream",
          "text": [
            "8\n",
            "7.983880450340076\n"
          ],
          "name": "stdout"
        }
      ]
    },
    {
      "cell_type": "code",
      "metadata": {
        "colab": {
          "base_uri": "https://localhost:8080/"
        },
        "id": "QGFt8miXTxTq",
        "outputId": "9c6d8d17-405c-4429-8754-645109cd8d06"
      },
      "source": [
        "a = np.arange(1, 11)\n",
        "print(np.sqrt(a))\n",
        "print(np.arctan(a))"
      ],
      "execution_count": null,
      "outputs": [
        {
          "output_type": "stream",
          "text": [
            "[1.         1.41421356 1.73205081 2.         2.23606798 2.44948974\n",
            " 2.64575131 2.82842712 3.         3.16227766]\n",
            "[0.78539816 1.10714872 1.24904577 1.32581766 1.37340077 1.40564765\n",
            " 1.42889927 1.44644133 1.46013911 1.47112767]\n"
          ],
          "name": "stdout"
        }
      ]
    },
    {
      "cell_type": "code",
      "metadata": {
        "colab": {
          "base_uri": "https://localhost:8080/"
        },
        "id": "TdsUiqKhTzz6",
        "outputId": "07da47f1-40ff-4570-8d3a-1a428630d2e2"
      },
      "source": [
        "x = np.linspace(-1, 1, 11)\n",
        "print(np.exp(x))"
      ],
      "execution_count": null,
      "outputs": [
        {
          "output_type": "stream",
          "text": [
            "[0.36787944 0.44932896 0.54881164 0.67032005 0.81873075 1.\n",
            " 1.22140276 1.4918247  1.8221188  2.22554093 2.71828183]\n"
          ],
          "name": "stdout"
        }
      ]
    },
    {
      "cell_type": "markdown",
      "metadata": {
        "id": "q1YDlhq5U0ni"
      },
      "source": [
        "* 記述統計"
      ]
    },
    {
      "cell_type": "code",
      "metadata": {
        "colab": {
          "base_uri": "https://localhost:8080/"
        },
        "id": "51XITKPPT1g6",
        "outputId": "d185ec82-4254-44eb-b8dc-b6d06cf27ff1"
      },
      "source": [
        "x = np.random.randn(3, 10)\n",
        "print(x)\n",
        "x = x * 3 + 5\n",
        "print(np.mean(x))\n",
        "print(np.mean(x, axis=0))\n",
        "print(np.mean(x, axis=1))\n",
        "print(np.median(x), np.var(x), np.std(x))"
      ],
      "execution_count": null,
      "outputs": [
        {
          "output_type": "stream",
          "text": [
            "[[-2.99232819  1.99275919  2.15471952  0.56427705 -1.32689293 -2.40215196\n",
            "   0.91603338  0.30571316  1.35621584 -0.18404764]\n",
            " [-0.74711545 -0.07850339  0.76944506 -0.27258733  0.47172637 -0.52704556\n",
            "  -0.25213392 -0.22738694  0.22790361  0.75599574]\n",
            " [ 0.88480371 -0.94303782 -1.41432597  2.37627287 -0.98757089  1.06261392\n",
            "   0.23554118  0.73238069  0.38827493  1.16335219]]\n",
            "5.4002900435811325\n",
            "[2.14536007 5.97121799 6.50983861 7.6679626  3.15726255 3.1334164\n",
            " 5.89944064 5.81070691 6.97239438 6.73530028]\n",
            "[5.11528923 5.03608946 6.04949144]\n",
            "5.811881506773312 13.103510731677906 3.619877170799847\n"
          ],
          "name": "stdout"
        }
      ]
    },
    {
      "cell_type": "code",
      "metadata": {
        "colab": {
          "base_uri": "https://localhost:8080/"
        },
        "id": "NdATV-KJT4pi",
        "outputId": "9449710c-e40d-488f-b711-25303161dde5"
      },
      "source": [
        "x = np.random.randn(2, 100)\n",
        "print(x)\n",
        "print(np.cov(x[0], x[1]))\n",
        "print(np.corrcoef(x[0], x[1]))"
      ],
      "execution_count": null,
      "outputs": [
        {
          "output_type": "stream",
          "text": [
            "[[-6.46246335e-01 -1.81477639e-02 -8.52619351e-01  4.37134514e-01\n",
            "   5.82421303e-01  9.53634272e-01  2.33021634e-01  1.20496879e+00\n",
            "  -5.86063486e-01  4.01607949e-01 -3.37365352e-02  1.59037682e+00\n",
            "   8.57202007e-01  3.67098013e-01  2.12651507e+00  1.98402074e+00\n",
            "  -5.96912802e-01 -1.25223651e-01 -9.09785197e-01  4.82919597e-01\n",
            "  -7.60524543e-01  3.51900208e-01 -1.03676400e+00 -1.07382354e+00\n",
            "  -1.06133230e-01 -1.58670753e+00  7.87848938e-01 -1.02672326e+00\n",
            "   2.00693962e+00  4.78196762e-01  1.09935468e+00 -9.52790528e-01\n",
            "  -9.95024131e-01  1.45474641e+00 -2.76144681e-01 -1.42263345e+00\n",
            "   3.14661176e-02  1.36469748e-01  9.47008023e-02  1.40442046e+00\n",
            "  -1.20734371e+00  2.95326767e-01 -5.60859665e-01 -1.03648021e-01\n",
            "   6.92440394e-01 -6.18032619e-02  9.97516279e-02  1.95000150e+00\n",
            "  -1.13872594e+00  6.49920516e-01  3.43225689e-01 -2.13744682e+00\n",
            "  -1.16087356e+00 -4.10346464e-01  1.10870821e+00  7.92260722e-01\n",
            "   7.91727264e-01  7.75011038e-02  1.03278530e+00 -8.64349419e-01\n",
            "  -2.44568629e-01  9.62289481e-01 -1.19797270e+00 -6.63266406e-01\n",
            "   1.92282030e+00 -4.61187520e-02 -3.28435818e-01  8.84346964e-01\n",
            "   1.11277512e+00 -3.29224356e-01  7.12927115e-01  4.82273709e-01\n",
            "   6.22055941e-01  1.28084037e+00  1.15926353e+00 -2.67435469e-01\n",
            "   4.59308888e-02 -4.51429315e-01  7.46426142e-01 -7.20389639e-01\n",
            "  -8.13402143e-01 -1.13068214e-01 -2.76131133e-01 -4.83604765e-01\n",
            "  -1.03008232e+00  1.38595630e+00 -3.14475887e-01  1.00385881e+00\n",
            "   8.46196649e-01 -7.92856882e-01  1.43904778e+00 -1.10918238e+00\n",
            "  -7.03395998e-01 -3.67551156e-01 -1.35805812e-01  1.00606631e+00\n",
            "  -4.28880700e-01  3.12991052e-01  1.86497123e+00 -1.45996056e+00]\n",
            " [-1.00587674e+00 -1.06570119e+00  1.12528730e+00 -1.22136972e+00\n",
            "  -7.09166347e-01  2.84238143e-01  4.78880697e-03  3.32045163e-02\n",
            "  -1.91326286e-02  1.11112206e+00 -3.72641839e-02  5.75309528e-01\n",
            "  -9.33759642e-02 -1.40137004e+00  2.18689246e+00 -1.68983649e+00\n",
            "  -1.57581117e+00  1.70016842e-04  8.75891261e-01  7.15238790e-01\n",
            "  -3.26096477e-01  1.74399268e-01  1.05791086e+00 -1.42726628e+00\n",
            "  -5.43966033e-02 -1.57456668e-01 -5.75779490e-01  4.02010457e-02\n",
            "  -8.47900575e-01  5.07657334e-01  1.67314918e+00  9.73406055e-01\n",
            "   4.70512572e-02 -6.20055943e-02 -4.04254429e-01  1.03981314e+00\n",
            "   8.89155209e-01 -1.53974140e+00  3.48724513e-01  2.38201515e+00\n",
            "   1.45711963e+00  1.72238340e+00 -6.45050732e-01 -1.22615577e+00\n",
            "  -9.90846458e-01 -5.40530857e-01 -4.46063067e-01 -3.84335407e-01\n",
            "  -1.50073198e+00  1.22737953e+00  4.31551890e-01 -4.19872001e-01\n",
            "  -3.88515742e-01 -1.25432110e+00 -1.23972036e-01  8.11282162e-01\n",
            "  -3.49770024e-01  1.48178442e+00 -7.03433788e-01 -2.79910908e+00\n",
            "  -9.92459349e-01 -2.70480574e+00  2.27668181e-01 -6.87491331e-01\n",
            "   1.05190269e+00  4.12287410e-01 -6.53689337e-01 -5.67037461e-01\n",
            "  -6.92597336e-01  1.00368031e+00 -1.50570821e-01 -1.21362608e-01\n",
            "  -8.55994949e-01  1.43891046e+00  1.19990723e+00 -7.62150560e-01\n",
            "   5.86229629e-01  1.50074508e+00  7.70684199e-01  4.62584454e-01\n",
            "  -1.26271856e+00 -1.14143197e+00  2.50641558e-01  1.80791165e+00\n",
            "   9.83326780e-01 -1.21056240e+00 -6.44332652e-01  1.33053329e+00\n",
            "   2.36254218e-01 -3.12595142e-01 -1.03113465e+00 -4.12508586e-01\n",
            "  -3.56537094e-02  5.26093562e-01  3.19431275e-01 -1.18854014e+00\n",
            "   1.51282703e+00 -1.39052652e-01  2.11414752e-01 -7.14604114e-01]]\n",
            "[[0.88022374 0.0667677 ]\n",
            " [0.0667677  1.03230895]]\n",
            "[[1.         0.07004305]\n",
            " [0.07004305 1.        ]]\n"
          ],
          "name": "stdout"
        }
      ]
    },
    {
      "cell_type": "markdown",
      "metadata": {
        "id": "gjcGEi33U3Sx"
      },
      "source": [
        "# 練習\n",
        "* 以下のセルを実行して、なぜ出力がそのようになるのか、説明してみよう。"
      ]
    },
    {
      "cell_type": "markdown",
      "metadata": {
        "id": "1x2hf975VVSO"
      },
      "source": [
        "## 行列やベクトルの様々な作り方"
      ]
    },
    {
      "cell_type": "code",
      "metadata": {
        "colab": {
          "base_uri": "https://localhost:8080/"
        },
        "id": "6h8n7denT60B",
        "outputId": "ec72fef7-a43c-4d46-9a45-88652a6f8f71"
      },
      "source": [
        "x = np.zeros(10)\n",
        "print(x)"
      ],
      "execution_count": null,
      "outputs": [
        {
          "output_type": "stream",
          "text": [
            "[0. 0. 0. 0. 0. 0. 0. 0. 0. 0.]\n"
          ],
          "name": "stdout"
        }
      ]
    },
    {
      "cell_type": "code",
      "metadata": {
        "colab": {
          "base_uri": "https://localhost:8080/"
        },
        "id": "JP7KvfXgT805",
        "outputId": "ec191965-c51f-4810-c79f-ebd14e268d2e"
      },
      "source": [
        "x = np.arange(10,50)\n",
        "print(x)"
      ],
      "execution_count": null,
      "outputs": [
        {
          "output_type": "stream",
          "text": [
            "[10 11 12 13 14 15 16 17 18 19 20 21 22 23 24 25 26 27 28 29 30 31 32 33\n",
            " 34 35 36 37 38 39 40 41 42 43 44 45 46 47 48 49]\n"
          ],
          "name": "stdout"
        }
      ]
    },
    {
      "cell_type": "code",
      "metadata": {
        "colab": {
          "base_uri": "https://localhost:8080/"
        },
        "id": "CWkOpJN3T-oh",
        "outputId": "eeef0fda-d4d4-41f3-ab9e-e92f33816608"
      },
      "source": [
        "x = np.arange(50)\n",
        "x = x[::-1]\n",
        "print(x)"
      ],
      "execution_count": null,
      "outputs": [
        {
          "output_type": "stream",
          "text": [
            "[49 48 47 46 45 44 43 42 41 40 39 38 37 36 35 34 33 32 31 30 29 28 27 26\n",
            " 25 24 23 22 21 20 19 18 17 16 15 14 13 12 11 10  9  8  7  6  5  4  3  2\n",
            "  1  0]\n"
          ],
          "name": "stdout"
        }
      ]
    },
    {
      "cell_type": "code",
      "metadata": {
        "colab": {
          "base_uri": "https://localhost:8080/"
        },
        "id": "XW_itKDoUAaR",
        "outputId": "6af42c9a-a3d6-41dc-fd75-d730e6ad514a"
      },
      "source": [
        "Z = np.arange(9).reshape(3,3)\n",
        "print(Z)"
      ],
      "execution_count": null,
      "outputs": [
        {
          "output_type": "stream",
          "text": [
            "[[0 1 2]\n",
            " [3 4 5]\n",
            " [6 7 8]]\n"
          ],
          "name": "stdout"
        }
      ]
    },
    {
      "cell_type": "code",
      "metadata": {
        "colab": {
          "base_uri": "https://localhost:8080/"
        },
        "id": "gz_x2lhMUCXR",
        "outputId": "aa41cd67-50ba-4d24-e5cf-40dcbb23fed2"
      },
      "source": [
        "x = np.array([1,2,0,0,4,0])\n",
        "nz = np.nonzero(x)\n",
        "print(nz)\n",
        "print(x[nz])"
      ],
      "execution_count": null,
      "outputs": [
        {
          "output_type": "stream",
          "text": [
            "(array([0, 1, 4]),)\n",
            "[1 2 4]\n"
          ],
          "name": "stdout"
        }
      ]
    },
    {
      "cell_type": "code",
      "metadata": {
        "colab": {
          "base_uri": "https://localhost:8080/"
        },
        "id": "9QjHhH6CUEcB",
        "outputId": "70515cb6-0fdc-4a13-cdd6-2a8aede96de7"
      },
      "source": [
        "Z = np.eye(3)\n",
        "print(Z)"
      ],
      "execution_count": null,
      "outputs": [
        {
          "output_type": "stream",
          "text": [
            "[[1. 0. 0.]\n",
            " [0. 1. 0.]\n",
            " [0. 0. 1.]]\n"
          ],
          "name": "stdout"
        }
      ]
    },
    {
      "cell_type": "code",
      "metadata": {
        "colab": {
          "base_uri": "https://localhost:8080/"
        },
        "id": "WaNajFLrUJ-4",
        "outputId": "5eb41ebd-a47e-4591-c5c7-4e2dfb2b3a38"
      },
      "source": [
        "Z = np.eye(3)\n",
        "nz = np.nonzero(Z)\n",
        "print(nz)\n",
        "print(Z[nz])"
      ],
      "execution_count": null,
      "outputs": [
        {
          "output_type": "stream",
          "text": [
            "(array([0, 1, 2]), array([0, 1, 2]))\n",
            "[1. 1. 1.]\n"
          ],
          "name": "stdout"
        }
      ]
    },
    {
      "cell_type": "code",
      "metadata": {
        "colab": {
          "base_uri": "https://localhost:8080/"
        },
        "id": "u5aXS9dqUL2w",
        "outputId": "a616e52b-ccf5-41de-f174-009c25489b8e"
      },
      "source": [
        "Z = np.random.random((10,10))\n",
        "Zmin, Zmax = Z.min(), Z.max()\n",
        "print(Zmin, Zmax)"
      ],
      "execution_count": null,
      "outputs": [
        {
          "output_type": "stream",
          "text": [
            "0.016620790534935814 0.9840264735564562\n"
          ],
          "name": "stdout"
        }
      ]
    },
    {
      "cell_type": "code",
      "metadata": {
        "colab": {
          "base_uri": "https://localhost:8080/"
        },
        "id": "yZQ6HZN2UOAI",
        "outputId": "cd6c1556-8414-4a2e-b306-8fb5ccf84407"
      },
      "source": [
        "x = np.random.random(30)\n",
        "m = x.mean()\n",
        "print(m)"
      ],
      "execution_count": null,
      "outputs": [
        {
          "output_type": "stream",
          "text": [
            "0.42065348462508795\n"
          ],
          "name": "stdout"
        }
      ]
    },
    {
      "cell_type": "markdown",
      "metadata": {
        "id": "xSwg800XVdFn"
      },
      "source": [
        "* NaN\n",
        " * NaNとはnot a numberで、非数"
      ]
    },
    {
      "cell_type": "code",
      "metadata": {
        "colab": {
          "base_uri": "https://localhost:8080/"
        },
        "id": "zWajtWIbWInq",
        "outputId": "f55b9325-0858-417a-91d2-feb3b6acb5dc"
      },
      "source": [
        "print(0.0 / np.ones(5))"
      ],
      "execution_count": null,
      "outputs": [
        {
          "output_type": "stream",
          "text": [
            "[0. 0. 0. 0. 0.]\n"
          ],
          "name": "stdout"
        }
      ]
    },
    {
      "cell_type": "code",
      "metadata": {
        "colab": {
          "base_uri": "https://localhost:8080/"
        },
        "id": "Guzy2lDWWD8p",
        "outputId": "222348af-a731-4593-8bbf-db077231f26d"
      },
      "source": [
        "print(0.0 / np.zeros(5))"
      ],
      "execution_count": null,
      "outputs": [
        {
          "output_type": "stream",
          "text": [
            "[nan nan nan nan nan]\n"
          ],
          "name": "stdout"
        },
        {
          "output_type": "stream",
          "text": [
            "/usr/local/lib/python3.7/dist-packages/ipykernel_launcher.py:1: RuntimeWarning: invalid value encountered in true_divide\n",
            "  \"\"\"Entry point for launching an IPython kernel.\n"
          ],
          "name": "stderr"
        }
      ]
    },
    {
      "cell_type": "code",
      "metadata": {
        "colab": {
          "base_uri": "https://localhost:8080/"
        },
        "id": "QYSZ4b9gUPhI",
        "outputId": "07bdb79d-990b-4b41-ab29-2c6ff4a31032"
      },
      "source": [
        "print(0 * np.nan)\n",
        "print(np.nan == np.nan)\n",
        "print(np.inf > np.nan)\n",
        "print(np.nan - np.nan)"
      ],
      "execution_count": null,
      "outputs": [
        {
          "output_type": "stream",
          "text": [
            "nan\n",
            "False\n",
            "False\n",
            "nan\n"
          ],
          "name": "stdout"
        }
      ]
    },
    {
      "cell_type": "markdown",
      "metadata": {
        "id": "Aj2qI38BUZbM"
      },
      "source": [
        "* float形の値の比較（要注意！）"
      ]
    },
    {
      "cell_type": "code",
      "metadata": {
        "colab": {
          "base_uri": "https://localhost:8080/"
        },
        "id": "1N382EPlURSI",
        "outputId": "2112e226-2ba9-4644-b2f6-91b04a1e167e"
      },
      "source": [
        "print(0.3 == 3 * 0.1)\n",
        "print(0.3 == 2 * 0.15)"
      ],
      "execution_count": null,
      "outputs": [
        {
          "output_type": "stream",
          "text": [
            "False\n",
            "True\n"
          ],
          "name": "stdout"
        }
      ]
    },
    {
      "cell_type": "markdown",
      "metadata": {
        "id": "HHud44U2Ub0f"
      },
      "source": [
        "* 計算機は実数を完全に厳密には表現できない"
      ]
    },
    {
      "cell_type": "code",
      "metadata": {
        "colab": {
          "base_uri": "https://localhost:8080/"
        },
        "id": "hLyr3sDnUTBg",
        "outputId": "eb82068a-11c6-430f-b887-bd76cc02d58c"
      },
      "source": [
        "a = np.array([0.3])\n",
        "b = np.array([3 * 0.1])\n",
        "print(a - b)\n",
        "b = np.array([2 * 0.15])\n",
        "print(a - b)"
      ],
      "execution_count": null,
      "outputs": [
        {
          "output_type": "stream",
          "text": [
            "[-5.55111512e-17]\n",
            "[0.]\n"
          ],
          "name": "stdout"
        }
      ]
    },
    {
      "cell_type": "markdown",
      "metadata": {
        "id": "72l2x6pVVRN7"
      },
      "source": [
        "* 市松模様を作る"
      ]
    },
    {
      "cell_type": "code",
      "metadata": {
        "colab": {
          "base_uri": "https://localhost:8080/"
        },
        "id": "CqTPYwU4UVLP",
        "outputId": "fc5ecff4-cdda-4ca2-e020-0dd5ff932223"
      },
      "source": [
        "Z = np.zeros((8,8),dtype=int)\n",
        "Z[1::2,::2] = 1\n",
        "Z[::2,1::2] = 1\n",
        "print(Z)"
      ],
      "execution_count": null,
      "outputs": [
        {
          "output_type": "stream",
          "text": [
            "[[0 1 0 1 0 1 0 1]\n",
            " [1 0 1 0 1 0 1 0]\n",
            " [0 1 0 1 0 1 0 1]\n",
            " [1 0 1 0 1 0 1 0]\n",
            " [0 1 0 1 0 1 0 1]\n",
            " [1 0 1 0 1 0 1 0]\n",
            " [0 1 0 1 0 1 0 1]\n",
            " [1 0 1 0 1 0 1 0]]\n"
          ],
          "name": "stdout"
        }
      ]
    },
    {
      "cell_type": "code",
      "metadata": {
        "colab": {
          "base_uri": "https://localhost:8080/"
        },
        "id": "-eESoCRPVOnE",
        "outputId": "dc790c70-d874-4558-a42a-a92d254c45c8"
      },
      "source": [
        "Z = np.tile(np.array([[0,1],[1,0]]), (4,4))\n",
        "print(Z)"
      ],
      "execution_count": null,
      "outputs": [
        {
          "output_type": "stream",
          "text": [
            "[[0 1 0 1 0 1 0 1]\n",
            " [1 0 1 0 1 0 1 0]\n",
            " [0 1 0 1 0 1 0 1]\n",
            " [1 0 1 0 1 0 1 0]\n",
            " [0 1 0 1 0 1 0 1]\n",
            " [1 0 1 0 1 0 1 0]\n",
            " [0 1 0 1 0 1 0 1]\n",
            " [1 0 1 0 1 0 1 0]]\n"
          ],
          "name": "stdout"
        }
      ]
    },
    {
      "cell_type": "code",
      "metadata": {
        "colab": {
          "base_uri": "https://localhost:8080/"
        },
        "id": "-_KuXTXFVQZr",
        "outputId": "ae2ce885-a017-411b-89c8-277ba8097907"
      },
      "source": [
        "Z = np.dot(np.ones((5,3)), np.ones((3,2)))\n",
        "print(Z)"
      ],
      "execution_count": null,
      "outputs": [
        {
          "output_type": "stream",
          "text": [
            "[[3. 3.]\n",
            " [3. 3.]\n",
            " [3. 3.]\n",
            " [3. 3.]\n",
            " [3. 3.]]\n"
          ],
          "name": "stdout"
        }
      ]
    },
    {
      "cell_type": "markdown",
      "metadata": {
        "id": "crBrbUxkWXaY"
      },
      "source": [
        "* 総和"
      ]
    },
    {
      "cell_type": "code",
      "metadata": {
        "colab": {
          "base_uri": "https://localhost:8080/"
        },
        "id": "c-RTOPJVWTGT",
        "outputId": "b6d00553-01b9-420b-a371-45ed579a8650"
      },
      "source": [
        "Z = np.arange(10)\n",
        "np.sum(Z)"
      ],
      "execution_count": null,
      "outputs": [
        {
          "output_type": "execute_result",
          "data": {
            "text/plain": [
              "45"
            ]
          },
          "metadata": {
            "tags": []
          },
          "execution_count": 32
        }
      ]
    },
    {
      "cell_type": "code",
      "metadata": {
        "colab": {
          "base_uri": "https://localhost:8080/"
        },
        "id": "I4Us8JNJWU-O",
        "outputId": "1eac9583-676d-4331-cf69-0ee88639c8d0"
      },
      "source": [
        "Z = np.arange(10)\n",
        "np.add.reduce(Z)"
      ],
      "execution_count": null,
      "outputs": [
        {
          "output_type": "execute_result",
          "data": {
            "text/plain": [
              "45"
            ]
          },
          "metadata": {
            "tags": []
          },
          "execution_count": 33
        }
      ]
    },
    {
      "cell_type": "code",
      "metadata": {
        "colab": {
          "base_uri": "https://localhost:8080/"
        },
        "id": "8DRC-hOPWWle",
        "outputId": "3d729ef0-2bf3-425b-8b4d-45d4ef03522a"
      },
      "source": [
        "Z = np.arange(11)\n",
        "Z[(3 < Z) & (Z <= 8)] *= -1\n",
        "print(Z)\n",
        "# []の中身では何をしている？"
      ],
      "execution_count": null,
      "outputs": [
        {
          "output_type": "stream",
          "text": [
            "[ 0  1  2  3 -4 -5 -6 -7 -8  9 10]\n"
          ],
          "name": "stdout"
        }
      ]
    },
    {
      "cell_type": "code",
      "metadata": {
        "colab": {
          "base_uri": "https://localhost:8080/"
        },
        "id": "gSMEpggSWbXU",
        "outputId": "b67e32e6-2555-42b1-9af5-877874313add"
      },
      "source": [
        "Z = np.random.random(10)\n",
        "print(Z)\n",
        "Z[Z.argmax()] = 0\n",
        "print(Z)"
      ],
      "execution_count": null,
      "outputs": [
        {
          "output_type": "stream",
          "text": [
            "[0.22633676 0.3397336  0.36433354 0.83259202 0.79215111 0.27371398\n",
            " 0.70825803 0.47136909 0.40861255 0.23997751]\n",
            "[0.22633676 0.3397336  0.36433354 0.         0.79215111 0.27371398\n",
            " 0.70825803 0.47136909 0.40861255 0.23997751]\n"
          ],
          "name": "stdout"
        }
      ]
    },
    {
      "cell_type": "code",
      "metadata": {
        "colab": {
          "base_uri": "https://localhost:8080/"
        },
        "id": "3Qlx_7KEWeD-",
        "outputId": "134456bb-56c4-4684-980a-71c4b6d6376f"
      },
      "source": [
        "Z = np.arange(100)\n",
        "v = np.random.uniform(0,100)\n",
        "index = (np.abs(Z-v)).argmin()\n",
        "print(Z[index])"
      ],
      "execution_count": null,
      "outputs": [
        {
          "output_type": "stream",
          "text": [
            "91\n"
          ],
          "name": "stdout"
        }
      ]
    },
    {
      "cell_type": "markdown",
      "metadata": {
        "id": "4XRoJxhoWr2s"
      },
      "source": [
        "* 高度なデータ分析"
      ]
    },
    {
      "cell_type": "code",
      "metadata": {
        "colab": {
          "base_uri": "https://localhost:8080/"
        },
        "id": "ZAzdeYWpWmU1",
        "outputId": "6f1c4d59-3210-43cf-f0a0-5ea1e085af03"
      },
      "source": [
        "Z = np.random.uniform(0,1,(10,10))\n",
        "U, S, V = np.linalg.svd(Z)\n",
        "rank = np.sum(S > 1e-10)\n",
        "print(rank)"
      ],
      "execution_count": null,
      "outputs": [
        {
          "output_type": "stream",
          "text": [
            "10\n"
          ],
          "name": "stdout"
        }
      ]
    }
  ]
}