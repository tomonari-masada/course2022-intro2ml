{
  "nbformat": 4,
  "nbformat_minor": 0,
  "metadata": {
    "colab": {
      "name": "20220706_note.ipynb",
      "provenance": [],
      "authorship_tag": "ABX9TyPjFq6HEvhGdlMaqBXQbgAD",
      "include_colab_link": true
    },
    "kernelspec": {
      "name": "python3",
      "display_name": "Python 3"
    },
    "language_info": {
      "name": "python"
    }
  },
  "cells": [
    {
      "cell_type": "markdown",
      "metadata": {
        "id": "view-in-github",
        "colab_type": "text"
      },
      "source": [
        "<a href=\"https://colab.research.google.com/github/tomonari-masada/course2022-intro2ml/blob/main/20220706_note.ipynb\" target=\"_parent\"><img src=\"https://colab.research.google.com/assets/colab-badge.svg\" alt=\"Open In Colab\"/></a>"
      ]
    },
    {
      "cell_type": "code",
      "execution_count": null,
      "metadata": {
        "id": "uNnkpJpQmMw6"
      },
      "outputs": [],
      "source": [
        "s = 0\n",
        " for i in range(5):\n",
        "   if i % 2 == 1:\n",
        "     s += i\n",
        "print(s)"
      ]
    },
    {
      "cell_type": "code",
      "source": [
        "from sklearn.linear_model import Ridge\n",
        "reg = Ridge(alpha=10000000.0)\n"
      ],
      "metadata": {
        "id": "OnZjEDvSmiiS"
      },
      "execution_count": null,
      "outputs": []
    },
    {
      "cell_type": "markdown",
      "source": [
        "$y = ax + b$"
      ],
      "metadata": {
        "id": "HNdm40T4oe9Q"
      }
    },
    {
      "cell_type": "code",
      "source": [
        "from sklearn.linear_model import LinearRegression\n",
        "reg = LinearRegression()\n",
        "X = [[2], [1], [0]]\n",
        "y = [4, 2, 0]\n",
        "reg.fit(X, y)"
      ],
      "metadata": {
        "colab": {
          "base_uri": "https://localhost:8080/"
        },
        "id": "j8tp5R5Vm3G8",
        "outputId": "ed3f90b3-e884-4163-d631-5f13d49b2029"
      },
      "execution_count": 11,
      "outputs": [
        {
          "output_type": "execute_result",
          "data": {
            "text/plain": [
              "LinearRegression()"
            ]
          },
          "metadata": {},
          "execution_count": 11
        }
      ]
    },
    {
      "cell_type": "code",
      "source": [
        "reg.coef_"
      ],
      "metadata": {
        "colab": {
          "base_uri": "https://localhost:8080/"
        },
        "id": "iNDliy6tm6yp",
        "outputId": "04612019-3400-42ce-a0bf-a16e680a55f7"
      },
      "execution_count": 10,
      "outputs": [
        {
          "output_type": "execute_result",
          "data": {
            "text/plain": [
              "array([2.])"
            ]
          },
          "metadata": {},
          "execution_count": 10
        }
      ]
    },
    {
      "cell_type": "code",
      "source": [
        "int(reg.intercept_)"
      ],
      "metadata": {
        "colab": {
          "base_uri": "https://localhost:8080/"
        },
        "id": "TGZvBWK1nC4k",
        "outputId": "2f0d27f3-89cc-4c6a-a928-0433e1b8fadd"
      },
      "execution_count": 5,
      "outputs": [
        {
          "output_type": "execute_result",
          "data": {
            "text/plain": [
              "0"
            ]
          },
          "metadata": {},
          "execution_count": 5
        }
      ]
    },
    {
      "cell_type": "markdown",
      "source": [
        "$ y = 2x$"
      ],
      "metadata": {
        "id": "yjZEOo_7oWLG"
      }
    },
    {
      "cell_type": "code",
      "source": [
        "reg.predict([[-1]]) # 予測"
      ],
      "metadata": {
        "colab": {
          "base_uri": "https://localhost:8080/"
        },
        "id": "xfYWbgLDo1NP",
        "outputId": "651d43d6-f3f6-4fc5-c6cb-eab2a4672cf1"
      },
      "execution_count": 13,
      "outputs": [
        {
          "output_type": "execute_result",
          "data": {
            "text/plain": [
              "array([-2.])"
            ]
          },
          "metadata": {},
          "execution_count": 13
        }
      ]
    },
    {
      "cell_type": "markdown",
      "source": [
        "* 過学習\n",
        " * 訓練データにぴったり合いすぎて、新しい入力データについての予測がうまくいかなくなること。"
      ],
      "metadata": {
        "id": "5kTmEQo1pJX3"
      }
    },
    {
      "cell_type": "markdown",
      "source": [
        "* 正則化\n",
        " * 係数をゼロに近づけて、訓練データにぴったりあいすぎないようにする。"
      ],
      "metadata": {
        "id": "4tTEe60upwxr"
      }
    },
    {
      "cell_type": "code",
      "source": [
        "from sklearn.linear_model import Ridge\n",
        "reg = Ridge(alpha=1000000000.0)\n",
        "X = [[2], [1], [0]]\n",
        "y = [4, 2, 0]\n",
        "reg.fit(X, y)"
      ],
      "metadata": {
        "colab": {
          "base_uri": "https://localhost:8080/"
        },
        "id": "nG2NLLt2nGL2",
        "outputId": "3ce3bebb-3e3e-444f-92e1-c1ad45c79d4b"
      },
      "execution_count": 14,
      "outputs": [
        {
          "output_type": "execute_result",
          "data": {
            "text/plain": [
              "Ridge(alpha=1000000000.0)"
            ]
          },
          "metadata": {},
          "execution_count": 14
        }
      ]
    },
    {
      "cell_type": "code",
      "source": [
        "int(reg.coef_)"
      ],
      "metadata": {
        "colab": {
          "base_uri": "https://localhost:8080/"
        },
        "id": "RkBGDLKnpfEW",
        "outputId": "5c139a08-c964-42b9-849a-a96e6009c4d9"
      },
      "execution_count": 16,
      "outputs": [
        {
          "output_type": "execute_result",
          "data": {
            "text/plain": [
              "0"
            ]
          },
          "metadata": {},
          "execution_count": 16
        }
      ]
    },
    {
      "cell_type": "markdown",
      "source": [
        "0.0000000039999999"
      ],
      "metadata": {
        "id": "T5FG-9J1pluZ"
      }
    },
    {
      "cell_type": "code",
      "source": [
        ""
      ],
      "metadata": {
        "id": "qEIyHt5Vpgzp"
      },
      "execution_count": null,
      "outputs": []
    }
  ]
}