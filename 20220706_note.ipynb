{
  "nbformat": 4,
  "nbformat_minor": 0,
  "metadata": {
    "colab": {
      "name": "20220706_note.ipynb",
      "provenance": [],
      "authorship_tag": "ABX9TyMfIUAHVf6zvHClf1sMIfrq",
      "include_colab_link": true
    },
    "kernelspec": {
      "name": "python3",
      "display_name": "Python 3"
    },
    "language_info": {
      "name": "python"
    }
  },
  "cells": [
    {
      "cell_type": "markdown",
      "metadata": {
        "id": "view-in-github",
        "colab_type": "text"
      },
      "source": [
        "<a href=\"https://colab.research.google.com/github/tomonari-masada/course2022-intro2ml/blob/main/20220706_note.ipynb\" target=\"_parent\"><img src=\"https://colab.research.google.com/assets/colab-badge.svg\" alt=\"Open In Colab\"/></a>"
      ]
    },
    {
      "cell_type": "code",
      "execution_count": null,
      "metadata": {
        "id": "uNnkpJpQmMw6"
      },
      "outputs": [],
      "source": [
        "s = 0\n",
        " for i in range(5):\n",
        "   if i % 2 == 1:\n",
        "     s += i\n",
        "print(s)"
      ]
    },
    {
      "cell_type": "code",
      "source": [
        "from sklearn.linear_model import Ridge\n",
        "reg = Ridge(alpha=10000000.0)\n"
      ],
      "metadata": {
        "id": "OnZjEDvSmiiS"
      },
      "execution_count": null,
      "outputs": []
    },
    {
      "cell_type": "markdown",
      "source": [
        "$y = ax + b$"
      ],
      "metadata": {
        "id": "HNdm40T4oe9Q"
      }
    },
    {
      "cell_type": "code",
      "source": [
        "from sklearn.linear_model import LinearRegression\n",
        "reg = LinearRegression()\n",
        "X = [[2], [1], [0]]\n",
        "y = [4, 2, 0]\n",
        "reg.fit(X, y)"
      ],
      "metadata": {
        "colab": {
          "base_uri": "https://localhost:8080/"
        },
        "id": "j8tp5R5Vm3G8",
        "outputId": "ed3f90b3-e884-4163-d631-5f13d49b2029"
      },
      "execution_count": 11,
      "outputs": [
        {
          "output_type": "execute_result",
          "data": {
            "text/plain": [
              "LinearRegression()"
            ]
          },
          "metadata": {},
          "execution_count": 11
        }
      ]
    },
    {
      "cell_type": "code",
      "source": [
        "reg.coef_"
      ],
      "metadata": {
        "colab": {
          "base_uri": "https://localhost:8080/"
        },
        "id": "iNDliy6tm6yp",
        "outputId": "04612019-3400-42ce-a0bf-a16e680a55f7"
      },
      "execution_count": 10,
      "outputs": [
        {
          "output_type": "execute_result",
          "data": {
            "text/plain": [
              "array([2.])"
            ]
          },
          "metadata": {},
          "execution_count": 10
        }
      ]
    },
    {
      "cell_type": "code",
      "source": [
        "int(reg.intercept_)"
      ],
      "metadata": {
        "colab": {
          "base_uri": "https://localhost:8080/"
        },
        "id": "TGZvBWK1nC4k",
        "outputId": "2f0d27f3-89cc-4c6a-a928-0433e1b8fadd"
      },
      "execution_count": 5,
      "outputs": [
        {
          "output_type": "execute_result",
          "data": {
            "text/plain": [
              "0"
            ]
          },
          "metadata": {},
          "execution_count": 5
        }
      ]
    },
    {
      "cell_type": "markdown",
      "source": [
        "$ y = 2x$"
      ],
      "metadata": {
        "id": "yjZEOo_7oWLG"
      }
    },
    {
      "cell_type": "code",
      "source": [
        "reg.predict([[-1]]) # 予測"
      ],
      "metadata": {
        "colab": {
          "base_uri": "https://localhost:8080/"
        },
        "id": "xfYWbgLDo1NP",
        "outputId": "651d43d6-f3f6-4fc5-c6cb-eab2a4672cf1"
      },
      "execution_count": 13,
      "outputs": [
        {
          "output_type": "execute_result",
          "data": {
            "text/plain": [
              "array([-2.])"
            ]
          },
          "metadata": {},
          "execution_count": 13
        }
      ]
    },
    {
      "cell_type": "markdown",
      "source": [
        "* 過学習\n",
        " * 訓練データにぴったり合いすぎて、新しい入力データについての予測がうまくいかなくなること。"
      ],
      "metadata": {
        "id": "5kTmEQo1pJX3"
      }
    },
    {
      "cell_type": "markdown",
      "source": [
        "* 正則化\n",
        " * 係数をゼロに近づけて、訓練データにぴったりあいすぎないようにする。"
      ],
      "metadata": {
        "id": "4tTEe60upwxr"
      }
    },
    {
      "cell_type": "code",
      "source": [
        "from sklearn.linear_model import Ridge\n",
        "reg = Ridge(alpha=1000000000.0)\n",
        "X = [[2], [1], [0]]\n",
        "y = [4, 2, 0]\n",
        "reg.fit(X, y)"
      ],
      "metadata": {
        "colab": {
          "base_uri": "https://localhost:8080/"
        },
        "id": "nG2NLLt2nGL2",
        "outputId": "3ce3bebb-3e3e-444f-92e1-c1ad45c79d4b"
      },
      "execution_count": 14,
      "outputs": [
        {
          "output_type": "execute_result",
          "data": {
            "text/plain": [
              "Ridge(alpha=1000000000.0)"
            ]
          },
          "metadata": {},
          "execution_count": 14
        }
      ]
    },
    {
      "cell_type": "code",
      "source": [
        "int(reg.coef_)"
      ],
      "metadata": {
        "colab": {
          "base_uri": "https://localhost:8080/"
        },
        "id": "RkBGDLKnpfEW",
        "outputId": "5c139a08-c964-42b9-849a-a96e6009c4d9"
      },
      "execution_count": 16,
      "outputs": [
        {
          "output_type": "execute_result",
          "data": {
            "text/plain": [
              "0"
            ]
          },
          "metadata": {},
          "execution_count": 16
        }
      ]
    },
    {
      "cell_type": "markdown",
      "source": [
        "0.0000000039999999"
      ],
      "metadata": {
        "id": "T5FG-9J1pluZ"
      }
    },
    {
      "cell_type": "code",
      "source": [
        "from sklearn.linear_model import Perceptron\n",
        "clf = Perceptron()\n",
        "X = [[1,4], [4,6], [3,2], [7,3]]\n",
        "y = [-1, -1, 1, 1]\n",
        "clf.fit(X, y)"
      ],
      "metadata": {
        "colab": {
          "base_uri": "https://localhost:8080/"
        },
        "id": "qEIyHt5Vpgzp",
        "outputId": "2699f0b3-9961-40aa-849d-52a5e9308b21"
      },
      "execution_count": 21,
      "outputs": [
        {
          "output_type": "execute_result",
          "data": {
            "text/plain": [
              "Perceptron()"
            ]
          },
          "metadata": {},
          "execution_count": 21
        }
      ]
    },
    {
      "cell_type": "code",
      "source": [
        "clf.coef_"
      ],
      "metadata": {
        "colab": {
          "base_uri": "https://localhost:8080/"
        },
        "id": "O9i_NKbbw-uI",
        "outputId": "f7308056-1366-4ba3-8af2-9df24b0e1807"
      },
      "execution_count": 22,
      "outputs": [
        {
          "output_type": "execute_result",
          "data": {
            "text/plain": [
              "array([[ 3., -3.]])"
            ]
          },
          "metadata": {},
          "execution_count": 22
        }
      ]
    },
    {
      "cell_type": "code",
      "source": [
        "clf.intercept_"
      ],
      "metadata": {
        "colab": {
          "base_uri": "https://localhost:8080/"
        },
        "id": "AqWdH24JxcGh",
        "outputId": "43679aa3-318e-402a-f413-a112757fd0af"
      },
      "execution_count": 23,
      "outputs": [
        {
          "output_type": "execute_result",
          "data": {
            "text/plain": [
              "array([0.])"
            ]
          },
          "metadata": {},
          "execution_count": 23
        }
      ]
    },
    {
      "cell_type": "markdown",
      "source": [
        "$f(x) = 3x_1 - 3x_2 + 0$"
      ],
      "metadata": {
        "id": "9ZK-DWFxxiDu"
      }
    },
    {
      "cell_type": "code",
      "source": [
        "clf.predict([[10, 3], [0, 20]]) # 予測"
      ],
      "metadata": {
        "colab": {
          "base_uri": "https://localhost:8080/"
        },
        "id": "1R_X_JxXxe86",
        "outputId": "c2c1a4d9-673e-430b-8ab2-13b9d8e90cd7"
      },
      "execution_count": 24,
      "outputs": [
        {
          "output_type": "execute_result",
          "data": {
            "text/plain": [
              "array([ 1, -1])"
            ]
          },
          "metadata": {},
          "execution_count": 24
        }
      ]
    },
    {
      "cell_type": "markdown",
      "source": [
        "SVM = support vector machine"
      ],
      "metadata": {
        "id": "haiz5Gg2zj4d"
      }
    },
    {
      "cell_type": "markdown",
      "source": [
        "SVC = support vector classifier"
      ],
      "metadata": {
        "id": "MoO9-fB73ad1"
      }
    },
    {
      "cell_type": "markdown",
      "source": [
        "classifier = 分類器"
      ],
      "metadata": {
        "id": "ugCb40Hs4hIC"
      }
    },
    {
      "cell_type": "code",
      "source": [
        "from sklearn.svm import LinearSVC\n",
        "clf = LinearSVC()\n",
        "X = [[1,4], [4,6], [3,2], [7,3]]\n",
        "y = [-1, -1, 1, 1]\n",
        "clf.fit(X, y)"
      ],
      "metadata": {
        "colab": {
          "base_uri": "https://localhost:8080/"
        },
        "id": "3845pKQgyxRt",
        "outputId": "0da6be6c-e5be-47f3-98d9-42f505aa8409"
      },
      "execution_count": 27,
      "outputs": [
        {
          "output_type": "execute_result",
          "data": {
            "text/plain": [
              "LinearSVC()"
            ]
          },
          "metadata": {},
          "execution_count": 27
        }
      ]
    },
    {
      "cell_type": "code",
      "source": [
        "clf.coef_"
      ],
      "metadata": {
        "colab": {
          "base_uri": "https://localhost:8080/"
        },
        "id": "ozxsDOmr3d7T",
        "outputId": "dc398970-b81d-40fd-ace5-59d10b2bcb39"
      },
      "execution_count": 28,
      "outputs": [
        {
          "output_type": "execute_result",
          "data": {
            "text/plain": [
              "array([[ 0.51408699, -0.53065993]])"
            ]
          },
          "metadata": {},
          "execution_count": 28
        }
      ]
    },
    {
      "cell_type": "code",
      "source": [
        "clf.intercept_"
      ],
      "metadata": {
        "colab": {
          "base_uri": "https://localhost:8080/"
        },
        "id": "qBk2Qi3b3kwL",
        "outputId": "04df5c2a-97dc-48b6-e3d1-e786d30206bc"
      },
      "execution_count": 29,
      "outputs": [
        {
          "output_type": "execute_result",
          "data": {
            "text/plain": [
              "array([0.25870079])"
            ]
          },
          "metadata": {},
          "execution_count": 29
        }
      ]
    },
    {
      "cell_type": "markdown",
      "source": [
        "$f(x) = 0.5141 x_1 - 0.5307 x_2 + 0.2587$"
      ],
      "metadata": {
        "id": "Dcm9REBg4FJY"
      }
    },
    {
      "cell_type": "code",
      "source": [
        "clf.predict([[10, 3], [0, 20]])"
      ],
      "metadata": {
        "colab": {
          "base_uri": "https://localhost:8080/"
        },
        "id": "scOamObK3wsc",
        "outputId": "0c8779eb-c6ed-4f47-f2ad-c95e5bf9278c"
      },
      "execution_count": 30,
      "outputs": [
        {
          "output_type": "execute_result",
          "data": {
            "text/plain": [
              "array([ 1, -1])"
            ]
          },
          "metadata": {},
          "execution_count": 30
        }
      ]
    },
    {
      "cell_type": "code",
      "source": [
        ""
      ],
      "metadata": {
        "id": "XEG4V01f4bN3"
      },
      "execution_count": null,
      "outputs": []
    }
  ]
}